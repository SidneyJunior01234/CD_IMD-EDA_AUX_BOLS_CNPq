{
 "cells": [
  {
   "cell_type": "markdown",
   "id": "dd4c3822",
   "metadata": {},
   "source": [
    "corigindo problema para 2020 - o problema é a primeira coluna que é um index"
   ]
  },
  {
   "cell_type": "code",
   "execution_count": null,
   "id": "9cc6e333",
   "metadata": {},
   "outputs": [],
   "source": [
    "nova_base = []\n",
    "with open('/home/sidney/CD_IMD/Base_Dados/investimentos_cnpq_2020.csv', 'r', encoding='latin-1') as f:\n",
    "    data = csv.reader(f, delimiter=';')\n",
    "    for i,linha in enumerate(data):\n",
    "        if len(linha) > 21:\n",
    "            linha = linha[1:]\n",
    "        nova_base.append(linha)"
   ]
  },
  {
   "cell_type": "markdown",
   "id": "0bb0c481",
   "metadata": {},
   "source": [
    "corrigindo problema para 2021 - a formatação muda e o arquivo tem que ser carregado como utf-8, além disso tem colunas a mais, \n",
    "ao gerar o dataset único tem que expandir as colunas dos demais anteriores"
   ]
  },
  {
   "cell_type": "code",
   "execution_count": null,
   "id": "dfb5cc9d",
   "metadata": {},
   "outputs": [],
   "source": [
    "nova_base = []\n",
    "with open('/home/sidney/CD_IMD/Base_Dados/investimentos_cnpq_2021.csv', 'r', encoding='utf-8') as f:\n",
    "    data = csv.reader(f, delimiter=';')\n",
    "    for i,linha in enumerate(data):\n",
    "        if i == 0:\n",
    "            linha[0] = 'Ano Referência'\n",
    "        linha = linha[:-10]\n",
    "        nova_base.append(linha)"
   ]
  },
  {
   "cell_type": "markdown",
   "id": "77db507a",
   "metadata": {},
   "source": [
    "corrigindo problema para 2022 - o arquivo tem formatação latin-1, aleém disso o header começa na linha 5, tme que ser feito um split e remover caracteres, além de concatenar as duas últimas colunas que são referentes ao valor pago."
   ]
  },
  {
   "cell_type": "code",
   "execution_count": null,
   "id": "1f49c739",
   "metadata": {},
   "outputs": [],
   "source": [
    "nova_base = []\n",
    "with open('/home/sidney/CD_IMD/Base_Dados/investimentos_cnpq_2022.csv', 'r', encoding='latin-1') as f:\n",
    "    data = csv.reader(f, delimiter=';')\n",
    "    for i,linha in enumerate(data):\n",
    "        if i > 4:\n",
    "            linha = linha[0].split(',')\n",
    "            if i > 5:\n",
    "                linha[-1] = linha[-1].replace('\"', '')\n",
    "                linha[-2] = linha[-2].replace('\"', '')\n",
    "                aux = linha[-2] + ',' + linha[-1]\n",
    "                linha = linha[:-2]\n",
    "                linha.append(aux)\n",
    "            nova_base.append(linha)"
   ]
  },
  {
   "cell_type": "markdown",
   "id": "31db1d04",
   "metadata": {},
   "source": [
    "corrigindo para 2023 - é necessário abrir em um editor como excel, libre office calc, planilhas ou outro para salvar o arquivo como csv separado por vírgula"
   ]
  },
  {
   "cell_type": "code",
   "execution_count": null,
   "id": "f30ef260",
   "metadata": {},
   "outputs": [],
   "source": [
    "nova_base = []\n",
    "with open('/home/sidney/CD_IMD/Base_Dados/investimentos_cnpq_2023.csv', 'r', encoding='utf-8') as f:\n",
    "    data = csv.reader(f, delimiter=';')\n",
    "    for i,linha in enumerate(data):\n",
    "        if i > 4:\n",
    "            linha = linha[:27]\n",
    "            if i > 5:\n",
    "                nova_base.append(linha)"
   ]
  },
  {
   "cell_type": "markdown",
   "id": "b6872bc0",
   "metadata": {},
   "source": [
    "### Formatando base de dados"
   ]
  },
  {
   "cell_type": "markdown",
   "id": "d769ee78",
   "metadata": {},
   "source": [
    "Bibliotecas"
   ]
  },
  {
   "cell_type": "code",
   "execution_count": 1,
   "id": "1e54bd58",
   "metadata": {},
   "outputs": [],
   "source": [
    "import csv\n",
    "import os\n",
    "import numpy as np\n",
    "import pandas as pd"
   ]
  },
  {
   "cell_type": "markdown",
   "id": "73dc6216",
   "metadata": {},
   "source": [
    "Acessando os arquivos"
   ]
  },
  {
   "cell_type": "code",
   "execution_count": 2,
   "id": "8628b8ac",
   "metadata": {},
   "outputs": [
    {
     "name": "stdout",
     "output_type": "stream",
     "text": [
      "Quantidade de arquivos: 22\n",
      "Listagem dos arquivos:\n",
      "\t investimentos_cnpq_2002.csv\n",
      "\t investimentos_cnpq_2003.csv\n",
      "\t investimentos_cnpq_2004.csv\n",
      "\t investimentos_cnpq_2005.csv\n",
      "\t investimentos_cnpq_2006.csv\n",
      "\t investimentos_cnpq_2007.csv\n",
      "\t investimentos_cnpq_2008.csv\n",
      "\t investimentos_cnpq_2009.csv\n",
      "\t investimentos_cnpq_2010.csv\n",
      "\t investimentos_cnpq_2011.csv\n",
      "\t investimentos_cnpq_2012.csv\n",
      "\t investimentos_cnpq_2013.csv\n",
      "\t investimentos_cnpq_2014.csv\n",
      "\t investimentos_cnpq_2015.csv\n",
      "\t investimentos_cnpq_2016.csv\n",
      "\t investimentos_cnpq_2017.csv\n",
      "\t investimentos_cnpq_2018.csv\n",
      "\t investimentos_cnpq_2019.csv\n",
      "\t investimentos_cnpq_2020.csv\n",
      "\t investimentos_cnpq_2021.csv\n",
      "\t investimentos_cnpq_2022.csv\n",
      "\t investimentos_cnpq_2023.csv\n"
     ]
    }
   ],
   "source": [
    "diretorio = './Base_Dados'\n",
    "arquivos = os.listdir(diretorio)\n",
    "arquivos.sort()\n",
    "\n",
    "print(f'Quantidade de arquivos: {len(arquivos)}')\n",
    "print('Listagem dos arquivos:')\n",
    "\n",
    "for arquivo in arquivos:\n",
    "    print('\\t', arquivo)"
   ]
  },
  {
   "cell_type": "markdown",
   "id": "62dfe7d8",
   "metadata": {},
   "source": [
    "Carregando as bases de dados desde 2002 até 2018, pois ambas possuem o mesmo *encoding = 'latin-1'*"
   ]
  },
  {
   "cell_type": "code",
   "execution_count": null,
   "id": "b1eb1244",
   "metadata": {},
   "outputs": [],
   "source": [
    "df = []\n",
    "arquivos_2002_2018 = arquivos[:-5]\n",
    "\n",
    "for arquivo in arquivos_2002_2018:\n",
    "\n",
    "    header = None\n",
    "    df_temp = []\n",
    "    caminho = os.path.join(diretorio, arquivo)\n",
    "\n",
    "    with open(caminho, 'r', encoding='latin-1') as f:\n",
    "        data = csv.reader(f, delimiter=',')\n",
    "        for i, linha in enumerate(data):\n",
    "            if i == 0:\n",
    "                header = linha\n",
    "            else:\n",
    "                df_temp.append(linha)\n",
    "    \n",
    "    df.append(pd.DataFrame(df_temp, columns=header))"
   ]
  },
  {
   "cell_type": "code",
   "execution_count": null,
   "id": "21626635",
   "metadata": {},
   "outputs": [],
   "source": [
    "for i, data in enumerate(df):\n",
    "    print(f'Número de linhas x colunas do df de {2002+i}: {len(data)} x {len(data.columns)}')"
   ]
  },
  {
   "cell_type": "markdown",
   "id": "cec4bacc",
   "metadata": {},
   "source": [
    "Carregando e formatando a base referente 2019. Essa base necessita concatenar *Valor Pago*, pois ao carregar e o separador é `,` ; assim o valor é separado em parte inteira e parte decimal, além de adicionar `,00` em valores não decimais"
   ]
  },
  {
   "cell_type": "code",
   "execution_count": 25,
   "id": "b19b4413",
   "metadata": {},
   "outputs": [],
   "source": [
    "caminho = os.path.join(diretorio, arquivos[-5])\n",
    "header = None\n",
    "arquivo_2019 = []\n",
    "with open(caminho, 'r', encoding='latin-1') as f:\n",
    "    data = csv.reader(f)\n",
    "    for i,linha in enumerate(data):\n",
    "        if i == 0:\n",
    "            header = linha\n",
    "        else:\n",
    "            if len(linha) == 21:\n",
    "                linha[-1] = linha[-1] + ',00'\n",
    "                arquivo_2019.append(linha)\n",
    "            if len(linha) > 21:\n",
    "                aux = linha[-2] + ',' + linha[-1]\n",
    "                linha[:] = linha[:-2]\n",
    "                linha.append(aux)\n",
    "                arquivo_2019.append(linha)\n",
    "\n",
    "arquivo_2019 = pd.DataFrame(arquivo_2019, columns=header)"
   ]
  }
 ],
 "metadata": {
  "kernelspec": {
   "display_name": ".venv",
   "language": "python",
   "name": "python3"
  },
  "language_info": {
   "codemirror_mode": {
    "name": "ipython",
    "version": 3
   },
   "file_extension": ".py",
   "mimetype": "text/x-python",
   "name": "python",
   "nbconvert_exporter": "python",
   "pygments_lexer": "ipython3",
   "version": "3.12.3"
  }
 },
 "nbformat": 4,
 "nbformat_minor": 5
}
