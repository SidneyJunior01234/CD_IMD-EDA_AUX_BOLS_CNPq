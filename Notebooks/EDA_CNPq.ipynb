{
 "cells": [
  {
   "cell_type": "markdown",
   "id": "0266d0bd",
   "metadata": {},
   "source": [
    "# **UNIVERSIDADE FEDERAL DO RIO GRANDE DO NORTE**\n",
    "\n",
    "## **INSTITUTO METRÓPOLE DIGITAL**\n",
    "\n",
    "### **CIÊNCIA DE DADOS**\n",
    "\n",
    "DOCENETE: DANIEL SABINO\n",
    "\n",
    "DISCENTES: EDUARDA CHIESA E SIDNEY ALVES"
   ]
  },
  {
   "cell_type": "markdown",
   "id": "88dc6147",
   "metadata": {},
   "source": [
    "### Importação das bibliotecas e carregamento da base de dados"
   ]
  },
  {
   "cell_type": "code",
   "execution_count": 44,
   "id": "501f5997",
   "metadata": {},
   "outputs": [],
   "source": [
    "import matplotlib.pyplot as plt\n",
    "import numpy as np\n",
    "import os\n",
    "import pandas as pd"
   ]
  },
  {
   "cell_type": "code",
   "execution_count": 45,
   "id": "343c7835",
   "metadata": {},
   "outputs": [
    {
     "name": "stdout",
     "output_type": "stream",
     "text": [
      "Quantidade de arquivos: 22\n",
      "Listagem dos arquivos:\n",
      "\t investimentos_cnpq_2002.csv\n",
      "\t investimentos_cnpq_2003.csv\n",
      "\t investimentos_cnpq_2004.csv\n",
      "\t investimentos_cnpq_2005.csv\n",
      "\t investimentos_cnpq_2006.csv\n",
      "\t investimentos_cnpq_2007.csv\n",
      "\t investimentos_cnpq_2008.csv\n",
      "\t investimentos_cnpq_2009.csv\n",
      "\t investimentos_cnpq_2010.csv\n",
      "\t investimentos_cnpq_2011.csv\n",
      "\t investimentos_cnpq_2012.csv\n",
      "\t investimentos_cnpq_2013.csv\n",
      "\t investimentos_cnpq_2014.csv\n",
      "\t investimentos_cnpq_2015.csv\n",
      "\t investimentos_cnpq_2016.csv\n",
      "\t investimentos_cnpq_2017.csv\n",
      "\t investimentos_cnpq_2018.csv\n",
      "\t investimentos_cnpq_2019.csv\n",
      "\t investimentos_cnpq_2020.csv\n",
      "\t investimentos_cnpq_2021.csv\n",
      "\t investimentos_cnpq_2022.csv\n",
      "\t investimentos_cnpq_2023.csv\n"
     ]
    }
   ],
   "source": [
    "diretorio = './Base_Dados'\n",
    "arquivos = os.listdir(diretorio)\n",
    "arquivos.sort()\n",
    "\n",
    "print(f'Quantidade de arquivos: {len(arquivos)}')\n",
    "print('Listagem dos arquivos:')\n",
    "\n",
    "for arquivo in arquivos:\n",
    "    print('\\t', arquivo)"
   ]
  },
  {
   "cell_type": "markdown",
   "id": "a70e0fd9",
   "metadata": {},
   "source": [
    "Como a base de dados está separada em vários arquivos diferentes, há à necessidade de unir os dados em um único dataset."
   ]
  },
  {
   "cell_type": "code",
   "execution_count": 46,
   "id": "569df639",
   "metadata": {},
   "outputs": [
    {
     "name": "stdout",
     "output_type": "stream",
     "text": [
      "Quantidade de arquivos utilizados para gerar o dataset: 22 arquivos totalizando 476674 registros\n"
     ]
    }
   ],
   "source": [
    "lista_df = []\n",
    "\n",
    "for arquivo in arquivos:\n",
    "\n",
    "    caminho = os.path.join(diretorio,arquivos[0])\n",
    "\n",
    "    if arquivos is not None:\n",
    "        try:\n",
    "            df = pd.read_csv(caminho, encoding='latin-1')\n",
    "            lista_df.append(df)\n",
    "        except UnicodeDecodeError as err:\n",
    "            print(f'Erro de codificação do arquivo: {err}')\n",
    "        except Exception as err:\n",
    "            print(f'Erro: {err}')\n",
    "\n",
    "dataset = pd.concat(lista_df, ignore_index=True)\n",
    "\n",
    "print(f'Quantidade de arquivos utilizados para gerar o dataset: {len(lista_df)} arquivos totalizando {len(dataset)} registros')"
   ]
  },
  {
   "cell_type": "markdown",
   "id": "9f49bc9b",
   "metadata": {},
   "source": [
    "Uma primeira observação sobre os dados."
   ]
  },
  {
   "cell_type": "code",
   "execution_count": 47,
   "id": "ed121b66",
   "metadata": {},
   "outputs": [
    {
     "data": {
      "text/html": [
       "<div>\n",
       "<style scoped>\n",
       "    .dataframe tbody tr th:only-of-type {\n",
       "        vertical-align: middle;\n",
       "    }\n",
       "\n",
       "    .dataframe tbody tr th {\n",
       "        vertical-align: top;\n",
       "    }\n",
       "\n",
       "    .dataframe thead th {\n",
       "        text-align: right;\n",
       "    }\n",
       "</style>\n",
       "<table border=\"1\" class=\"dataframe\">\n",
       "  <thead>\n",
       "    <tr style=\"text-align: right;\">\n",
       "      <th></th>\n",
       "      <th>Ano Referência</th>\n",
       "      <th>Processo</th>\n",
       "      <th>Beneficiário</th>\n",
       "      <th>Linha de Fomento</th>\n",
       "      <th>Modalidade</th>\n",
       "      <th>Categoria/Nível</th>\n",
       "      <th>Nome Chamada</th>\n",
       "      <th>Programa CNPq</th>\n",
       "      <th>Grande Área</th>\n",
       "      <th>Área</th>\n",
       "      <th>...</th>\n",
       "      <th>Instituição Origem</th>\n",
       "      <th>Sigla UF Origem</th>\n",
       "      <th>País Origem</th>\n",
       "      <th>Instituição Destino</th>\n",
       "      <th>Sigla Instituição Destino</th>\n",
       "      <th>Sigla Instituição Macro</th>\n",
       "      <th>Cidade Destino</th>\n",
       "      <th>Sigla UF Destino</th>\n",
       "      <th>País Destino</th>\n",
       "      <th>Valor Pago</th>\n",
       "    </tr>\n",
       "  </thead>\n",
       "  <tbody>\n",
       "    <tr>\n",
       "      <th>0</th>\n",
       "      <td>2002</td>\n",
       "      <td>130942/2000-6</td>\n",
       "      <td>Abad Oliveira Souza Júnior</td>\n",
       "      <td>Bolsas de Mestrado</td>\n",
       "      <td>GM - Mestrado</td>\n",
       "      <td>NaN</td>\n",
       "      <td>NaN</td>\n",
       "      <td>Programa Básico de Geociências: Geofísica e Ge...</td>\n",
       "      <td>Ciências Exatas e da Terra</td>\n",
       "      <td>Geociências</td>\n",
       "      <td>...</td>\n",
       "      <td>NaN</td>\n",
       "      <td>NaN</td>\n",
       "      <td>-</td>\n",
       "      <td>Universidade de São Paulo</td>\n",
       "      <td>USP</td>\n",
       "      <td>USP</td>\n",
       "      <td>São Paulo</td>\n",
       "      <td>SP</td>\n",
       "      <td>BRA - Brasil</td>\n",
       "      <td>1449,04</td>\n",
       "    </tr>\n",
       "    <tr>\n",
       "      <th>1</th>\n",
       "      <td>2002</td>\n",
       "      <td>131008/2001-3</td>\n",
       "      <td>Abel Batista de Oliveira</td>\n",
       "      <td>Bolsas de Mestrado</td>\n",
       "      <td>GM - Mestrado</td>\n",
       "      <td>NaN</td>\n",
       "      <td>NaN</td>\n",
       "      <td>PROGRAMA BASICO DE AGRONOMIA</td>\n",
       "      <td>Ciências Agrárias</td>\n",
       "      <td>Agronomia</td>\n",
       "      <td>...</td>\n",
       "      <td>NaN</td>\n",
       "      <td>NaN</td>\n",
       "      <td>-</td>\n",
       "      <td>Universidade Federal Rural de Pernambuco</td>\n",
       "      <td>UFRPE</td>\n",
       "      <td>UFRPE</td>\n",
       "      <td>Recife</td>\n",
       "      <td>PE</td>\n",
       "      <td>BRA - Brasil</td>\n",
       "      <td>7245,2</td>\n",
       "    </tr>\n",
       "    <tr>\n",
       "      <th>2</th>\n",
       "      <td>2002</td>\n",
       "      <td>131008/2001-3</td>\n",
       "      <td>Abel Batista de Oliveira</td>\n",
       "      <td>Bolsas de Mestrado</td>\n",
       "      <td>GM - Mestrado</td>\n",
       "      <td>NaN</td>\n",
       "      <td>Cotas do Programa de Pós-Graduação</td>\n",
       "      <td>PROGRAMA BASICO DE AGRONOMIA</td>\n",
       "      <td>Ciências Agrárias</td>\n",
       "      <td>Agronomia</td>\n",
       "      <td>...</td>\n",
       "      <td>NaN</td>\n",
       "      <td>NaN</td>\n",
       "      <td>-</td>\n",
       "      <td>Universidade Federal Rural de Pernambuco</td>\n",
       "      <td>UFRPE</td>\n",
       "      <td>UFRPE</td>\n",
       "      <td>Recife</td>\n",
       "      <td>PE</td>\n",
       "      <td>BRA - Brasil</td>\n",
       "      <td>1449,04</td>\n",
       "    </tr>\n",
       "    <tr>\n",
       "      <th>3</th>\n",
       "      <td>2002</td>\n",
       "      <td>132920/2002-6</td>\n",
       "      <td>Abel Bemvenuti</td>\n",
       "      <td>Bolsas de Mestrado</td>\n",
       "      <td>GM - Mestrado</td>\n",
       "      <td>NaN</td>\n",
       "      <td>Cotas do Programa de Pós-Graduação</td>\n",
       "      <td>PROGRAMA BASICO DE BIOFISICA</td>\n",
       "      <td>Ciências Biológicas</td>\n",
       "      <td>Biofísica</td>\n",
       "      <td>...</td>\n",
       "      <td>NaN</td>\n",
       "      <td>NaN</td>\n",
       "      <td>-</td>\n",
       "      <td>Universidade Federal do Rio de Janeiro</td>\n",
       "      <td>UFRJ</td>\n",
       "      <td>UFRJ</td>\n",
       "      <td>Rio de Janeiro</td>\n",
       "      <td>RJ</td>\n",
       "      <td>BRA - Brasil</td>\n",
       "      <td>3622,6</td>\n",
       "    </tr>\n",
       "    <tr>\n",
       "      <th>4</th>\n",
       "      <td>2002</td>\n",
       "      <td>141578/2002-5</td>\n",
       "      <td>Abel Guilhermino da Silva Filho</td>\n",
       "      <td>Bolsas de Doutorado</td>\n",
       "      <td>GD - Doutorado</td>\n",
       "      <td>NaN</td>\n",
       "      <td>Cotas do Programa de Pós-Graduação</td>\n",
       "      <td>PROGRAMA BASICO DE CIENCIA DA COMPUTACAO</td>\n",
       "      <td>Ciências Exatas e da Terra</td>\n",
       "      <td>Ciência da Computação</td>\n",
       "      <td>...</td>\n",
       "      <td>NaN</td>\n",
       "      <td>NaN</td>\n",
       "      <td>-</td>\n",
       "      <td>Universidade Federal de Pernambuco</td>\n",
       "      <td>UFPE</td>\n",
       "      <td>UFPE</td>\n",
       "      <td>Recife</td>\n",
       "      <td>PE</td>\n",
       "      <td>BRA - Brasil</td>\n",
       "      <td>5364,45</td>\n",
       "    </tr>\n",
       "  </tbody>\n",
       "</table>\n",
       "<p>5 rows × 21 columns</p>\n",
       "</div>"
      ],
      "text/plain": [
       "   Ano Referência       Processo                     Beneficiário  \\\n",
       "0            2002  130942/2000-6       Abad Oliveira Souza Júnior   \n",
       "1            2002  131008/2001-3         Abel Batista de Oliveira   \n",
       "2            2002  131008/2001-3         Abel Batista de Oliveira   \n",
       "3            2002  132920/2002-6                   Abel Bemvenuti   \n",
       "4            2002  141578/2002-5  Abel Guilhermino da Silva Filho   \n",
       "\n",
       "      Linha de Fomento      Modalidade Categoria/Nível  \\\n",
       "0   Bolsas de Mestrado   GM - Mestrado             NaN   \n",
       "1   Bolsas de Mestrado   GM - Mestrado             NaN   \n",
       "2   Bolsas de Mestrado   GM - Mestrado             NaN   \n",
       "3   Bolsas de Mestrado   GM - Mestrado             NaN   \n",
       "4  Bolsas de Doutorado  GD - Doutorado             NaN   \n",
       "\n",
       "                         Nome Chamada  \\\n",
       "0                                 NaN   \n",
       "1                                 NaN   \n",
       "2  Cotas do Programa de Pós-Graduação   \n",
       "3  Cotas do Programa de Pós-Graduação   \n",
       "4  Cotas do Programa de Pós-Graduação   \n",
       "\n",
       "                                       Programa CNPq  \\\n",
       "0  Programa Básico de Geociências: Geofísica e Ge...   \n",
       "1                       PROGRAMA BASICO DE AGRONOMIA   \n",
       "2                       PROGRAMA BASICO DE AGRONOMIA   \n",
       "3                       PROGRAMA BASICO DE BIOFISICA   \n",
       "4           PROGRAMA BASICO DE CIENCIA DA COMPUTACAO   \n",
       "\n",
       "                  Grande Área                   Área  ... Instituição Origem  \\\n",
       "0  Ciências Exatas e da Terra            Geociências  ...                NaN   \n",
       "1           Ciências Agrárias              Agronomia  ...                NaN   \n",
       "2           Ciências Agrárias              Agronomia  ...                NaN   \n",
       "3         Ciências Biológicas              Biofísica  ...                NaN   \n",
       "4  Ciências Exatas e da Terra  Ciência da Computação  ...                NaN   \n",
       "\n",
       "  Sigla UF Origem País Origem                       Instituição Destino  \\\n",
       "0             NaN          -                  Universidade de São Paulo   \n",
       "1             NaN          -   Universidade Federal Rural de Pernambuco   \n",
       "2             NaN          -   Universidade Federal Rural de Pernambuco   \n",
       "3             NaN          -     Universidade Federal do Rio de Janeiro   \n",
       "4             NaN          -         Universidade Federal de Pernambuco   \n",
       "\n",
       "  Sigla Instituição Destino Sigla Instituição Macro  Cidade Destino  \\\n",
       "0                       USP                     USP       São Paulo   \n",
       "1                     UFRPE                   UFRPE          Recife   \n",
       "2                     UFRPE                   UFRPE          Recife   \n",
       "3                      UFRJ                    UFRJ  Rio de Janeiro   \n",
       "4                      UFPE                    UFPE          Recife   \n",
       "\n",
       "  Sigla UF Destino  País Destino Valor Pago  \n",
       "0               SP  BRA - Brasil    1449,04  \n",
       "1               PE  BRA - Brasil     7245,2  \n",
       "2               PE  BRA - Brasil    1449,04  \n",
       "3               RJ  BRA - Brasil     3622,6  \n",
       "4               PE  BRA - Brasil    5364,45  \n",
       "\n",
       "[5 rows x 21 columns]"
      ]
     },
     "execution_count": 47,
     "metadata": {},
     "output_type": "execute_result"
    }
   ],
   "source": [
    "dataset.head()"
   ]
  },
  {
   "cell_type": "markdown",
   "id": "879cad43",
   "metadata": {},
   "source": [
    "## Pré processamento dos dados"
   ]
  },
  {
   "cell_type": "markdown",
   "id": "99076a07",
   "metadata": {},
   "source": [
    "Verificando os tipos de dados no dataset."
   ]
  },
  {
   "cell_type": "code",
   "execution_count": 48,
   "id": "b1825a2d",
   "metadata": {},
   "outputs": [
    {
     "name": "stdout",
     "output_type": "stream",
     "text": [
      "<class 'pandas.core.frame.DataFrame'>\n",
      "RangeIndex: 476674 entries, 0 to 476673\n",
      "Data columns (total 21 columns):\n",
      " #   Column                     Non-Null Count   Dtype \n",
      "---  ------                     --------------   ----- \n",
      " 0   Ano Referência             476674 non-null  int64 \n",
      " 1   Processo                   476674 non-null  object\n",
      " 2   Beneficiário               476674 non-null  object\n",
      " 3   Linha de Fomento           476674 non-null  object\n",
      " 4   Modalidade                 476674 non-null  object\n",
      " 5   Categoria/Nível            140866 non-null  object\n",
      " 6   Nome Chamada               284394 non-null  object\n",
      " 7   Programa CNPq              476674 non-null  object\n",
      " 8   Grande Área                476674 non-null  object\n",
      " 9   Área                       475904 non-null  object\n",
      " 10  Subárea                    476674 non-null  object\n",
      " 11  Instituição Origem         131604 non-null  object\n",
      " 12  Sigla UF Origem            126786 non-null  object\n",
      " 13  País Origem                476674 non-null  object\n",
      " 14  Instituição Destino        476652 non-null  object\n",
      " 15  Sigla Instituição Destino  476652 non-null  object\n",
      " 16  Sigla Instituição Macro    476652 non-null  object\n",
      " 17  Cidade Destino             476278 non-null  object\n",
      " 18  Sigla UF Destino           468754 non-null  object\n",
      " 19  País Destino               476674 non-null  object\n",
      " 20  Valor Pago                 468776 non-null  object\n",
      "dtypes: int64(1), object(20)\n",
      "memory usage: 76.4+ MB\n"
     ]
    }
   ],
   "source": [
    "dataset.info()"
   ]
  },
  {
   "cell_type": "markdown",
   "id": "8166c47e",
   "metadata": {},
   "source": [
    "É observado que o *Ano Referência* está sendo considerado como *int64*, diferente do *Valor Pago* que deveria ser um *float*.\n",
    "\n",
    "Antes de realizar a conversão, há a necessidade de substituir o separador das casas decimais de uma `,` para um `.`.\n",
    "\n",
    "Também é interessante utilizar um *int32*, no caso um inteiro menor para o armazenamento."
   ]
  },
  {
   "cell_type": "code",
   "execution_count": 49,
   "id": "61c7ed97",
   "metadata": {},
   "outputs": [],
   "source": [
    "dataset['Valor Pago'] = dataset['Valor Pago'].map(lambda x : str(x).replace(',','.'))\n",
    "dataset['Valor Pago'] = dataset['Valor Pago'].astype(np.float32)"
   ]
  },
  {
   "cell_type": "code",
   "execution_count": 50,
   "id": "c2867fc2",
   "metadata": {},
   "outputs": [],
   "source": [
    "dataset['Ano Referência'] = dataset['Ano Referência'].astype(np.float32)"
   ]
  },
  {
   "cell_type": "code",
   "execution_count": 51,
   "id": "32566629",
   "metadata": {},
   "outputs": [
    {
     "name": "stdout",
     "output_type": "stream",
     "text": [
      "<class 'pandas.core.frame.DataFrame'>\n",
      "RangeIndex: 476674 entries, 0 to 476673\n",
      "Data columns (total 21 columns):\n",
      " #   Column                     Non-Null Count   Dtype  \n",
      "---  ------                     --------------   -----  \n",
      " 0   Ano Referência             476674 non-null  float32\n",
      " 1   Processo                   476674 non-null  object \n",
      " 2   Beneficiário               476674 non-null  object \n",
      " 3   Linha de Fomento           476674 non-null  object \n",
      " 4   Modalidade                 476674 non-null  object \n",
      " 5   Categoria/Nível            140866 non-null  object \n",
      " 6   Nome Chamada               284394 non-null  object \n",
      " 7   Programa CNPq              476674 non-null  object \n",
      " 8   Grande Área                476674 non-null  object \n",
      " 9   Área                       475904 non-null  object \n",
      " 10  Subárea                    476674 non-null  object \n",
      " 11  Instituição Origem         131604 non-null  object \n",
      " 12  Sigla UF Origem            126786 non-null  object \n",
      " 13  País Origem                476674 non-null  object \n",
      " 14  Instituição Destino        476652 non-null  object \n",
      " 15  Sigla Instituição Destino  476652 non-null  object \n",
      " 16  Sigla Instituição Macro    476652 non-null  object \n",
      " 17  Cidade Destino             476278 non-null  object \n",
      " 18  Sigla UF Destino           468754 non-null  object \n",
      " 19  País Destino               476674 non-null  object \n",
      " 20  Valor Pago                 468776 non-null  float32\n",
      "dtypes: float32(2), object(19)\n",
      "memory usage: 72.7+ MB\n"
     ]
    }
   ],
   "source": [
    "dataset.info()"
   ]
  },
  {
   "cell_type": "markdown",
   "id": "62a50f2c",
   "metadata": {},
   "source": [
    "Podemos observar também que *Categoria/Nivel* possui uma quantidade elevada de dados faltantes. \n",
    "Essa falta de informação pode ser dada na relação entre *Categoria/Nivel* e *Modalidade*, que de acordo com a\n",
    "[Tabela de Valores de Bolsas no País](https://www.gov.br/cnpq/pt-br/acesso-a-informacao/bolsas-e-auxilios/copy_of_modalidades/tabela-de-valores-no-pais), ambas são referentes uma a outra, assim durante a coleta dos dados, pode ter sido uma opção informar a *Modalidade* como prioridade.\n",
    "\n",
    "Há duas opções para esse problema:\n",
    "1. Remover os dados faltantes e reduzir a base de dados em aproximadamente 70.4%.\n",
    "2. Remover a coluna, uma vez que ela é similar a outra coluna com dados."
   ]
  },
  {
   "cell_type": "markdown",
   "id": "66f83f05",
   "metadata": {},
   "source": [
    "Os dados referentes há *Nome Chamada* são do tipo de programa (exemplo: PIBIC), más há o campo *Programa CNPq*. É interessante possuir algo relacionado ao programa, para conhecermos um pouco mais sobre os programas relacionado as *Áreas* em determinadas regiões. Más como *Nome Chamada* possui um pouco mais que 50% dos registros, fica a escolha manter ou remover o campo."
   ]
  },
  {
   "cell_type": "markdown",
   "id": "5fe7a29e",
   "metadata": {},
   "source": [
    "Em relação a *Instituição Origem* e *Sigla UF Origem*, ambos podem ser removidos, pois a análise se dá às regiões a que as bolsas e auxílios são destinados."
   ]
  }
 ],
 "metadata": {
  "kernelspec": {
   "display_name": ".venv",
   "language": "python",
   "name": "python3"
  },
  "language_info": {
   "codemirror_mode": {
    "name": "ipython",
    "version": 3
   },
   "file_extension": ".py",
   "mimetype": "text/x-python",
   "name": "python",
   "nbconvert_exporter": "python",
   "pygments_lexer": "ipython3",
   "version": "3.12.3"
  }
 },
 "nbformat": 4,
 "nbformat_minor": 5
}
