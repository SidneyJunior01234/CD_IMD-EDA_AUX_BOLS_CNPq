{
 "cells": [
  {
   "cell_type": "markdown",
   "id": "0266d0bd",
   "metadata": {},
   "source": [
    "# **UNIVERSIDADE FEDERAL DO RIO GRANDE DO NORTE**\n",
    "\n",
    "## **INSTITUTO METRÓPOLE DIGITAL**\n",
    "\n",
    "### **CIÊNCIA DE DADOS**\n",
    "\n",
    "DOCENETE: DANIEL SABINO\n",
    "\n",
    "DISCENTES: EDUARDA CHIESA E SIDNEY ALVES"
   ]
  },
  {
   "cell_type": "markdown",
   "id": "88dc6147",
   "metadata": {},
   "source": [
    "### Importação das bibliotecas e carregamento da base de dados"
   ]
  },
  {
   "cell_type": "code",
   "execution_count": 29,
   "id": "501f5997",
   "metadata": {},
   "outputs": [],
   "source": [
    "import matplotlib.pyplot as plt\n",
    "import numpy as np\n",
    "import os\n",
    "import pandas as pd"
   ]
  },
  {
   "cell_type": "code",
   "execution_count": 30,
   "id": "343c7835",
   "metadata": {},
   "outputs": [
    {
     "name": "stdout",
     "output_type": "stream",
     "text": [
      "Quantidade de arquivos: 22\n",
      "Listagem dos arquivos:\n",
      "\t investimentos_cnpq_2002.csv\n",
      "\t investimentos_cnpq_2003.csv\n",
      "\t investimentos_cnpq_2004.csv\n",
      "\t investimentos_cnpq_2005.csv\n",
      "\t investimentos_cnpq_2006.csv\n",
      "\t investimentos_cnpq_2007.csv\n",
      "\t investimentos_cnpq_2008.csv\n",
      "\t investimentos_cnpq_2009.csv\n",
      "\t investimentos_cnpq_2010.csv\n",
      "\t investimentos_cnpq_2011.csv\n",
      "\t investimentos_cnpq_2012.csv\n",
      "\t investimentos_cnpq_2013.csv\n",
      "\t investimentos_cnpq_2014.csv\n",
      "\t investimentos_cnpq_2015.csv\n",
      "\t investimentos_cnpq_2016.csv\n",
      "\t investimentos_cnpq_2017.csv\n",
      "\t investimentos_cnpq_2018.csv\n",
      "\t investimentos_cnpq_2019.csv\n",
      "\t investimentos_cnpq_2020.csv\n",
      "\t investimentos_cnpq_2021.csv\n",
      "\t investimentos_cnpq_2022.csv\n",
      "\t investimentos_cnpq_2023.csv\n"
     ]
    }
   ],
   "source": [
    "diretorio = './Base_Dados'\n",
    "arquivos = os.listdir(diretorio)\n",
    "arquivos.sort()\n",
    "\n",
    "print(f'Quantidade de arquivos: {len(arquivos)}')\n",
    "print('Listagem dos arquivos:')\n",
    "\n",
    "for arquivo in arquivos:\n",
    "    print('\\t', arquivo)"
   ]
  },
  {
   "cell_type": "markdown",
   "id": "a70e0fd9",
   "metadata": {},
   "source": [
    "Como a base de dados está separada em vários arquivos diferentes, há à necessidade de unir os dados em um único dataset."
   ]
  },
  {
   "cell_type": "code",
   "execution_count": 31,
   "id": "569df639",
   "metadata": {},
   "outputs": [
    {
     "name": "stdout",
     "output_type": "stream",
     "text": [
      "Erro ao ler o arquivo investimentos_cnpq_2019.csv: Error tokenizing data. C error: Expected 21 fields in line 46, saw 22\n",
      "\n",
      "Erro ao ler o arquivo investimentos_cnpq_2020.csv: Error tokenizing data. C error: Expected 1 fields in line 3, saw 4\n",
      "\n",
      "Erro ao ler o arquivo investimentos_cnpq_2021.csv: Error tokenizing data. C error: Expected 2 fields in line 9, saw 4\n",
      "\n"
     ]
    },
    {
     "name": "stderr",
     "output_type": "stream",
     "text": [
      "/tmp/ipykernel_13120/3179849340.py:11: DtypeWarning: Columns (0,26) have mixed types. Specify dtype option on import or set low_memory=False.\n",
      "  df = pd.read_csv(caminho, encoding='latin-1')\n"
     ]
    },
    {
     "name": "stdout",
     "output_type": "stream",
     "text": [
      "Erro ao ler o arquivo investimentos_cnpq_2023.csv: Error tokenizing data. C error: Expected 3 fields in line 17, saw 5\n",
      "\n",
      "Quantidade de arquivos utilizados para gerar o dataset: 18 arquivos totalizando 2299780 registros\n"
     ]
    }
   ],
   "source": [
    "import os\n",
    "import pandas as pd\n",
    "\n",
    "lista_df = []\n",
    "\n",
    "for arquivo in arquivos:\n",
    "    caminho = os.path.join(diretorio, arquivo)\n",
    "\n",
    "    if arquivo is not None:\n",
    "        try:\n",
    "            df = pd.read_csv(caminho, encoding='latin-1')\n",
    "            lista_df.append(df)\n",
    "        except UnicodeDecodeError as err:\n",
    "            print(f'Erro de codificação do arquivo: {arquivo} - {err}')\n",
    "        except Exception as err:\n",
    "            print(f'Erro ao ler o arquivo {arquivo}: {err}')\n",
    "\n",
    "dataset = pd.concat(lista_df, ignore_index=True)\n",
    "\n",
    "print(f'Quantidade de arquivos utilizados para gerar o dataset: {len(lista_df)} arquivos totalizando {len(dataset)} registros')"
   ]
  },
  {
   "cell_type": "markdown",
   "id": "6f9239e9",
   "metadata": {},
   "source": [
    "O erro ao carregar se deve a modificação na formatação de como o arquivo está sendo gerado. Nos mais recentes, imagens e informações extras estão sendo insseridas, ocasionando o erro."
   ]
  },
  {
   "cell_type": "markdown",
   "id": "9f49bc9b",
   "metadata": {},
   "source": [
    "Uma primeira observação sobre os dados."
   ]
  },
  {
   "cell_type": "code",
   "execution_count": 32,
   "id": "ed121b66",
   "metadata": {},
   "outputs": [
    {
     "data": {
      "text/html": [
       "<div>\n",
       "<style scoped>\n",
       "    .dataframe tbody tr th:only-of-type {\n",
       "        vertical-align: middle;\n",
       "    }\n",
       "\n",
       "    .dataframe tbody tr th {\n",
       "        vertical-align: top;\n",
       "    }\n",
       "\n",
       "    .dataframe thead th {\n",
       "        text-align: right;\n",
       "    }\n",
       "</style>\n",
       "<table border=\"1\" class=\"dataframe\">\n",
       "  <thead>\n",
       "    <tr style=\"text-align: right;\">\n",
       "      <th></th>\n",
       "      <th>Ano Referência</th>\n",
       "      <th>Processo</th>\n",
       "      <th>Beneficiário</th>\n",
       "      <th>Linha de Fomento</th>\n",
       "      <th>Modalidade</th>\n",
       "      <th>Categoria/Nível</th>\n",
       "      <th>Nome Chamada</th>\n",
       "      <th>Programa CNPq</th>\n",
       "      <th>Grande Área</th>\n",
       "      <th>Área</th>\n",
       "      <th>...</th>\n",
       "      <th>Unnamed: 18</th>\n",
       "      <th>Unnamed: 19</th>\n",
       "      <th>Unnamed: 20</th>\n",
       "      <th>Unnamed: 21</th>\n",
       "      <th>Unnamed: 22</th>\n",
       "      <th>Unnamed: 23</th>\n",
       "      <th>Unnamed: 24</th>\n",
       "      <th>Unnamed: 25</th>\n",
       "      <th>Unnamed: 26</th>\n",
       "      <th>Unnamed: 27</th>\n",
       "    </tr>\n",
       "  </thead>\n",
       "  <tbody>\n",
       "    <tr>\n",
       "      <th>0</th>\n",
       "      <td>2002.0</td>\n",
       "      <td>130942/2000-6</td>\n",
       "      <td>Abad Oliveira Souza Júnior</td>\n",
       "      <td>Bolsas de Mestrado</td>\n",
       "      <td>GM - Mestrado</td>\n",
       "      <td>NaN</td>\n",
       "      <td>NaN</td>\n",
       "      <td>Programa Básico de Geociências: Geofísica e Ge...</td>\n",
       "      <td>Ciências Exatas e da Terra</td>\n",
       "      <td>Geociências</td>\n",
       "      <td>...</td>\n",
       "      <td>NaN</td>\n",
       "      <td>NaN</td>\n",
       "      <td>NaN</td>\n",
       "      <td>NaN</td>\n",
       "      <td>NaN</td>\n",
       "      <td>NaN</td>\n",
       "      <td>NaN</td>\n",
       "      <td>NaN</td>\n",
       "      <td>NaN</td>\n",
       "      <td>NaN</td>\n",
       "    </tr>\n",
       "    <tr>\n",
       "      <th>1</th>\n",
       "      <td>2002.0</td>\n",
       "      <td>131008/2001-3</td>\n",
       "      <td>Abel Batista de Oliveira</td>\n",
       "      <td>Bolsas de Mestrado</td>\n",
       "      <td>GM - Mestrado</td>\n",
       "      <td>NaN</td>\n",
       "      <td>NaN</td>\n",
       "      <td>PROGRAMA BASICO DE AGRONOMIA</td>\n",
       "      <td>Ciências Agrárias</td>\n",
       "      <td>Agronomia</td>\n",
       "      <td>...</td>\n",
       "      <td>NaN</td>\n",
       "      <td>NaN</td>\n",
       "      <td>NaN</td>\n",
       "      <td>NaN</td>\n",
       "      <td>NaN</td>\n",
       "      <td>NaN</td>\n",
       "      <td>NaN</td>\n",
       "      <td>NaN</td>\n",
       "      <td>NaN</td>\n",
       "      <td>NaN</td>\n",
       "    </tr>\n",
       "    <tr>\n",
       "      <th>2</th>\n",
       "      <td>2002.0</td>\n",
       "      <td>131008/2001-3</td>\n",
       "      <td>Abel Batista de Oliveira</td>\n",
       "      <td>Bolsas de Mestrado</td>\n",
       "      <td>GM - Mestrado</td>\n",
       "      <td>NaN</td>\n",
       "      <td>Cotas do Programa de Pós-Graduação</td>\n",
       "      <td>PROGRAMA BASICO DE AGRONOMIA</td>\n",
       "      <td>Ciências Agrárias</td>\n",
       "      <td>Agronomia</td>\n",
       "      <td>...</td>\n",
       "      <td>NaN</td>\n",
       "      <td>NaN</td>\n",
       "      <td>NaN</td>\n",
       "      <td>NaN</td>\n",
       "      <td>NaN</td>\n",
       "      <td>NaN</td>\n",
       "      <td>NaN</td>\n",
       "      <td>NaN</td>\n",
       "      <td>NaN</td>\n",
       "      <td>NaN</td>\n",
       "    </tr>\n",
       "    <tr>\n",
       "      <th>3</th>\n",
       "      <td>2002.0</td>\n",
       "      <td>132920/2002-6</td>\n",
       "      <td>Abel Bemvenuti</td>\n",
       "      <td>Bolsas de Mestrado</td>\n",
       "      <td>GM - Mestrado</td>\n",
       "      <td>NaN</td>\n",
       "      <td>Cotas do Programa de Pós-Graduação</td>\n",
       "      <td>PROGRAMA BASICO DE BIOFISICA</td>\n",
       "      <td>Ciências Biológicas</td>\n",
       "      <td>Biofísica</td>\n",
       "      <td>...</td>\n",
       "      <td>NaN</td>\n",
       "      <td>NaN</td>\n",
       "      <td>NaN</td>\n",
       "      <td>NaN</td>\n",
       "      <td>NaN</td>\n",
       "      <td>NaN</td>\n",
       "      <td>NaN</td>\n",
       "      <td>NaN</td>\n",
       "      <td>NaN</td>\n",
       "      <td>NaN</td>\n",
       "    </tr>\n",
       "    <tr>\n",
       "      <th>4</th>\n",
       "      <td>2002.0</td>\n",
       "      <td>141578/2002-5</td>\n",
       "      <td>Abel Guilhermino da Silva Filho</td>\n",
       "      <td>Bolsas de Doutorado</td>\n",
       "      <td>GD - Doutorado</td>\n",
       "      <td>NaN</td>\n",
       "      <td>Cotas do Programa de Pós-Graduação</td>\n",
       "      <td>PROGRAMA BASICO DE CIENCIA DA COMPUTACAO</td>\n",
       "      <td>Ciências Exatas e da Terra</td>\n",
       "      <td>Ciência da Computação</td>\n",
       "      <td>...</td>\n",
       "      <td>NaN</td>\n",
       "      <td>NaN</td>\n",
       "      <td>NaN</td>\n",
       "      <td>NaN</td>\n",
       "      <td>NaN</td>\n",
       "      <td>NaN</td>\n",
       "      <td>NaN</td>\n",
       "      <td>NaN</td>\n",
       "      <td>NaN</td>\n",
       "      <td>NaN</td>\n",
       "    </tr>\n",
       "  </tbody>\n",
       "</table>\n",
       "<p>5 rows × 49 columns</p>\n",
       "</div>"
      ],
      "text/plain": [
       "   Ano Referência       Processo                     Beneficiário  \\\n",
       "0          2002.0  130942/2000-6       Abad Oliveira Souza Júnior   \n",
       "1          2002.0  131008/2001-3         Abel Batista de Oliveira   \n",
       "2          2002.0  131008/2001-3         Abel Batista de Oliveira   \n",
       "3          2002.0  132920/2002-6                   Abel Bemvenuti   \n",
       "4          2002.0  141578/2002-5  Abel Guilhermino da Silva Filho   \n",
       "\n",
       "      Linha de Fomento      Modalidade Categoria/Nível  \\\n",
       "0   Bolsas de Mestrado   GM - Mestrado             NaN   \n",
       "1   Bolsas de Mestrado   GM - Mestrado             NaN   \n",
       "2   Bolsas de Mestrado   GM - Mestrado             NaN   \n",
       "3   Bolsas de Mestrado   GM - Mestrado             NaN   \n",
       "4  Bolsas de Doutorado  GD - Doutorado             NaN   \n",
       "\n",
       "                         Nome Chamada  \\\n",
       "0                                 NaN   \n",
       "1                                 NaN   \n",
       "2  Cotas do Programa de Pós-Graduação   \n",
       "3  Cotas do Programa de Pós-Graduação   \n",
       "4  Cotas do Programa de Pós-Graduação   \n",
       "\n",
       "                                       Programa CNPq  \\\n",
       "0  Programa Básico de Geociências: Geofísica e Ge...   \n",
       "1                       PROGRAMA BASICO DE AGRONOMIA   \n",
       "2                       PROGRAMA BASICO DE AGRONOMIA   \n",
       "3                       PROGRAMA BASICO DE BIOFISICA   \n",
       "4           PROGRAMA BASICO DE CIENCIA DA COMPUTACAO   \n",
       "\n",
       "                  Grande Área                   Área  ... Unnamed: 18  \\\n",
       "0  Ciências Exatas e da Terra            Geociências  ...         NaN   \n",
       "1           Ciências Agrárias              Agronomia  ...         NaN   \n",
       "2           Ciências Agrárias              Agronomia  ...         NaN   \n",
       "3         Ciências Biológicas              Biofísica  ...         NaN   \n",
       "4  Ciências Exatas e da Terra  Ciência da Computação  ...         NaN   \n",
       "\n",
       "  Unnamed: 19 Unnamed: 20 Unnamed: 21 Unnamed: 22 Unnamed: 23 Unnamed: 24  \\\n",
       "0         NaN         NaN         NaN         NaN         NaN         NaN   \n",
       "1         NaN         NaN         NaN         NaN         NaN         NaN   \n",
       "2         NaN         NaN         NaN         NaN         NaN         NaN   \n",
       "3         NaN         NaN         NaN         NaN         NaN         NaN   \n",
       "4         NaN         NaN         NaN         NaN         NaN         NaN   \n",
       "\n",
       "  Unnamed: 25 Unnamed: 26 Unnamed: 27  \n",
       "0         NaN         NaN         NaN  \n",
       "1         NaN         NaN         NaN  \n",
       "2         NaN         NaN         NaN  \n",
       "3         NaN         NaN         NaN  \n",
       "4         NaN         NaN         NaN  \n",
       "\n",
       "[5 rows x 49 columns]"
      ]
     },
     "execution_count": 32,
     "metadata": {},
     "output_type": "execute_result"
    }
   ],
   "source": [
    "dataset.head()"
   ]
  },
  {
   "cell_type": "markdown",
   "id": "879cad43",
   "metadata": {},
   "source": [
    "## Pré processamento dos dados"
   ]
  },
  {
   "cell_type": "markdown",
   "id": "99076a07",
   "metadata": {},
   "source": [
    "Verificando os tipos de dados no dataset."
   ]
  },
  {
   "cell_type": "code",
   "execution_count": 33,
   "id": "b1825a2d",
   "metadata": {},
   "outputs": [
    {
     "name": "stdout",
     "output_type": "stream",
     "text": [
      "<class 'pandas.core.frame.DataFrame'>\n",
      "RangeIndex: 2299780 entries, 0 to 2299779\n",
      "Data columns (total 49 columns):\n",
      " #   Column                           Dtype  \n",
      "---  ------                           -----  \n",
      " 0   Ano Referência                   float64\n",
      " 1   Processo                         object \n",
      " 2   Beneficiário                     object \n",
      " 3   Linha de Fomento                 object \n",
      " 4   Modalidade                       object \n",
      " 5   Categoria/Nível                  object \n",
      " 6   Nome Chamada                     object \n",
      " 7   Programa CNPq                    object \n",
      " 8   Grande Área                      object \n",
      " 9   Área                             object \n",
      " 10  Subárea                          object \n",
      " 11  Instituição Origem               object \n",
      " 12  Sigla UF Origem                  object \n",
      " 13  País Origem                      object \n",
      " 14  Instituição Destino              object \n",
      " 15  Sigla Instituição Destino        object \n",
      " 16  Sigla Instituição Macro          object \n",
      " 17  Cidade Destino                   object \n",
      " 18  Sigla UF Destino                 object \n",
      " 19  País Destino                     object \n",
      " 20  Valor Pago                       object \n",
      " 21  Unnamed: 0                       object \n",
      " 22  Unnamed: 1                       object \n",
      " 23  Relatório de dados abertos-CNPq  object \n",
      " 24  Unnamed: 3                       object \n",
      " 25  Unnamed: 4                       object \n",
      " 26  Unnamed: 5                       object \n",
      " 27  Unnamed: 6                       object \n",
      " 28  Unnamed: 7                       object \n",
      " 29  Unnamed: 8                       object \n",
      " 30  Unnamed: 9                       object \n",
      " 31  Unnamed: 10                      object \n",
      " 32  Unnamed: 11                      object \n",
      " 33  Unnamed: 12                      object \n",
      " 34  Unnamed: 13                      object \n",
      " 35  Unnamed: 14                      object \n",
      " 36  Unnamed: 15                      object \n",
      " 37  Unnamed: 16                      object \n",
      " 38  Unnamed: 17                      object \n",
      " 39  Unnamed: 18                      object \n",
      " 40  Unnamed: 19                      object \n",
      " 41  Unnamed: 20                      object \n",
      " 42  Unnamed: 21                      object \n",
      " 43  Unnamed: 22                      object \n",
      " 44  Unnamed: 23                      object \n",
      " 45  Unnamed: 24                      object \n",
      " 46  Unnamed: 25                      object \n",
      " 47  Unnamed: 26                      object \n",
      " 48  Unnamed: 27                      object \n",
      "dtypes: float64(1), object(48)\n",
      "memory usage: 859.8+ MB\n"
     ]
    }
   ],
   "source": [
    "dataset.info()"
   ]
  },
  {
   "cell_type": "markdown",
   "id": "d794e140",
   "metadata": {},
   "source": [
    "Há colunas desnecessárias que devem ser removidas."
   ]
  },
  {
   "cell_type": "code",
   "execution_count": 34,
   "id": "a82b3ffa",
   "metadata": {},
   "outputs": [],
   "source": [
    "remover_colunas = ['Unnamed: 0', 'Unnamed: 1','Unnamed: 3', 'Unnamed: 4', 'Unnamed: 5', 'Unnamed: 6', 'Unnamed: 7', \n",
    "                   'Unnamed: 8', 'Unnamed: 9', 'Unnamed: 10', 'Unnamed: 11', 'Unnamed: 12', 'Unnamed: 13', 'Unnamed: 14',\n",
    "                   'Unnamed: 15', 'Unnamed: 16', 'Unnamed: 17', 'Unnamed: 18', 'Unnamed: 19', 'Unnamed: 20', 'Unnamed: 21', \n",
    "                   'Unnamed: 22', 'Unnamed: 23', 'Unnamed: 24', 'Unnamed: 25', 'Unnamed: 26', 'Unnamed: 27']"
   ]
  },
  {
   "cell_type": "code",
   "execution_count": 35,
   "id": "ca363154",
   "metadata": {},
   "outputs": [],
   "source": [
    "dataset = dataset.drop(columns=remover_colunas)"
   ]
  },
  {
   "cell_type": "code",
   "execution_count": 36,
   "id": "fb77eb0e",
   "metadata": {},
   "outputs": [
    {
     "name": "stdout",
     "output_type": "stream",
     "text": [
      "<class 'pandas.core.frame.DataFrame'>\n",
      "RangeIndex: 2299780 entries, 0 to 2299779\n",
      "Data columns (total 22 columns):\n",
      " #   Column                           Dtype  \n",
      "---  ------                           -----  \n",
      " 0   Ano Referência                   float64\n",
      " 1   Processo                         object \n",
      " 2   Beneficiário                     object \n",
      " 3   Linha de Fomento                 object \n",
      " 4   Modalidade                       object \n",
      " 5   Categoria/Nível                  object \n",
      " 6   Nome Chamada                     object \n",
      " 7   Programa CNPq                    object \n",
      " 8   Grande Área                      object \n",
      " 9   Área                             object \n",
      " 10  Subárea                          object \n",
      " 11  Instituição Origem               object \n",
      " 12  Sigla UF Origem                  object \n",
      " 13  País Origem                      object \n",
      " 14  Instituição Destino              object \n",
      " 15  Sigla Instituição Destino        object \n",
      " 16  Sigla Instituição Macro          object \n",
      " 17  Cidade Destino                   object \n",
      " 18  Sigla UF Destino                 object \n",
      " 19  País Destino                     object \n",
      " 20  Valor Pago                       object \n",
      " 21  Relatório de dados abertos-CNPq  object \n",
      "dtypes: float64(1), object(21)\n",
      "memory usage: 386.0+ MB\n"
     ]
    }
   ],
   "source": [
    "dataset.info()"
   ]
  },
  {
   "cell_type": "markdown",
   "id": "8166c47e",
   "metadata": {},
   "source": [
    "É observado que o *Ano Referência* está sendo considerado como *int64*, diferente do *Valor Pago* que deveria ser um *float*.\n",
    "\n",
    "Antes de realizar a conversão, há a necessidade de substituir o separador das casas decimais de uma `,` para um `.`.\n",
    "\n",
    "Também é interessante utilizar um *int32*, no caso um inteiro menor para o armazenamento."
   ]
  },
  {
   "cell_type": "code",
   "execution_count": 37,
   "id": "61c7ed97",
   "metadata": {},
   "outputs": [],
   "source": [
    "dataset['Valor Pago'] = dataset['Valor Pago'].map(lambda x : str(x).replace(',','.'))\n",
    "dataset['Valor Pago'] = dataset['Valor Pago'].astype(np.float32)"
   ]
  },
  {
   "cell_type": "code",
   "execution_count": 38,
   "id": "c2867fc2",
   "metadata": {},
   "outputs": [],
   "source": [
    "dataset['Ano Referência'] = dataset['Ano Referência'].astype(np.float32)"
   ]
  },
  {
   "cell_type": "code",
   "execution_count": 39,
   "id": "32566629",
   "metadata": {},
   "outputs": [
    {
     "name": "stdout",
     "output_type": "stream",
     "text": [
      "<class 'pandas.core.frame.DataFrame'>\n",
      "RangeIndex: 2299780 entries, 0 to 2299779\n",
      "Data columns (total 22 columns):\n",
      " #   Column                           Dtype  \n",
      "---  ------                           -----  \n",
      " 0   Ano Referência                   float32\n",
      " 1   Processo                         object \n",
      " 2   Beneficiário                     object \n",
      " 3   Linha de Fomento                 object \n",
      " 4   Modalidade                       object \n",
      " 5   Categoria/Nível                  object \n",
      " 6   Nome Chamada                     object \n",
      " 7   Programa CNPq                    object \n",
      " 8   Grande Área                      object \n",
      " 9   Área                             object \n",
      " 10  Subárea                          object \n",
      " 11  Instituição Origem               object \n",
      " 12  Sigla UF Origem                  object \n",
      " 13  País Origem                      object \n",
      " 14  Instituição Destino              object \n",
      " 15  Sigla Instituição Destino        object \n",
      " 16  Sigla Instituição Macro          object \n",
      " 17  Cidade Destino                   object \n",
      " 18  Sigla UF Destino                 object \n",
      " 19  País Destino                     object \n",
      " 20  Valor Pago                       float32\n",
      " 21  Relatório de dados abertos-CNPq  object \n",
      "dtypes: float32(2), object(20)\n",
      "memory usage: 368.5+ MB\n"
     ]
    }
   ],
   "source": [
    "dataset.info()"
   ]
  },
  {
   "cell_type": "markdown",
   "id": "62a50f2c",
   "metadata": {},
   "source": [
    "De acordo com a [Tabela de Valores de Bolsas no País](https://www.gov.br/cnpq/pt-br/acesso-a-informacao/bolsas-e-auxilios/copy_of_modalidades/tabela-de-valores-no-pais), *Categoria/Nivel* e *Modalidade* são bem relacionadas possuindo a mesma informação referente ao *Valor Pago*, por isso não há necessidade de manter as duas colunas."
   ]
  },
  {
   "cell_type": "markdown",
   "id": "66f83f05",
   "metadata": {},
   "source": [
    "Os dados referentes há *Nome Chamada* são do tipo de programa (exemplo: PIBIC), más há o campo *Programa CNPq*. É interessante possuir algo relacionado ao programa, para conhecermos um pouco mais sobre os programas relacionado as *Áreas* em determinadas regiões. "
   ]
  },
  {
   "cell_type": "markdown",
   "id": "5fe7a29e",
   "metadata": {},
   "source": [
    "Em relação a *Instituição Origem* e *Sigla UF Origem*, ambos podem ser removidos, pois a análise se dá às regiões a que as bolsas e auxílios são destinados."
   ]
  },
  {
   "cell_type": "code",
   "execution_count": 40,
   "id": "3a71c0fa",
   "metadata": {},
   "outputs": [],
   "source": [
    "dataset = dataset.drop(columns=['Categoria/Nível', 'Nome Chamada', 'Instituição Origem', 'Sigla UF Origem', 'Relatório de dados abertos-CNPq'])"
   ]
  },
  {
   "cell_type": "code",
   "execution_count": 41,
   "id": "32c3e787",
   "metadata": {},
   "outputs": [
    {
     "name": "stdout",
     "output_type": "stream",
     "text": [
      "<class 'pandas.core.frame.DataFrame'>\n",
      "RangeIndex: 2299780 entries, 0 to 2299779\n",
      "Data columns (total 17 columns):\n",
      " #   Column                     Dtype  \n",
      "---  ------                     -----  \n",
      " 0   Ano Referência             float32\n",
      " 1   Processo                   object \n",
      " 2   Beneficiário               object \n",
      " 3   Linha de Fomento           object \n",
      " 4   Modalidade                 object \n",
      " 5   Programa CNPq              object \n",
      " 6   Grande Área                object \n",
      " 7   Área                       object \n",
      " 8   Subárea                    object \n",
      " 9   País Origem                object \n",
      " 10  Instituição Destino        object \n",
      " 11  Sigla Instituição Destino  object \n",
      " 12  Sigla Instituição Macro    object \n",
      " 13  Cidade Destino             object \n",
      " 14  Sigla UF Destino           object \n",
      " 15  País Destino               object \n",
      " 16  Valor Pago                 float32\n",
      "dtypes: float32(2), object(15)\n",
      "memory usage: 280.7+ MB\n"
     ]
    }
   ],
   "source": [
    "dataset.info()"
   ]
  },
  {
   "cell_type": "code",
   "execution_count": 42,
   "id": "d09a1f5f",
   "metadata": {},
   "outputs": [
    {
     "name": "stdout",
     "output_type": "stream",
     "text": [
      "Quantidade de registros ausentes: \n",
      "Ano Referência               227263\n",
      "Processo                     227263\n",
      "Beneficiário                 227265\n",
      "Linha de Fomento             227263\n",
      "Modalidade                   227263\n",
      "Programa CNPq                227263\n",
      "Grande Área                  227263\n",
      "Área                         235867\n",
      "Subárea                      227263\n",
      "País Origem                  227263\n",
      "Instituição Destino          239175\n",
      "Sigla Instituição Destino    239398\n",
      "Sigla Instituição Macro      239252\n",
      "Cidade Destino               241999\n",
      "Sigla UF Destino             325120\n",
      "País Destino                 227263\n",
      "Valor Pago                   228186\n",
      "dtype: int64\n"
     ]
    }
   ],
   "source": [
    "print(f'Quantidade de registros ausentes: \\n{dataset.isnull().sum()}')"
   ]
  },
  {
   "cell_type": "markdown",
   "id": "5ec3ab8a",
   "metadata": {},
   "source": [
    "Remoção de dados faltantes."
   ]
  },
  {
   "cell_type": "code",
   "execution_count": 43,
   "id": "473a48d5",
   "metadata": {},
   "outputs": [],
   "source": [
    "#dataset = dataset.dropna()"
   ]
  },
  {
   "cell_type": "code",
   "execution_count": 44,
   "id": "e829026a",
   "metadata": {},
   "outputs": [
    {
     "name": "stdout",
     "output_type": "stream",
     "text": [
      "<class 'pandas.core.frame.DataFrame'>\n",
      "RangeIndex: 2299780 entries, 0 to 2299779\n",
      "Data columns (total 17 columns):\n",
      " #   Column                     Dtype  \n",
      "---  ------                     -----  \n",
      " 0   Ano Referência             float32\n",
      " 1   Processo                   object \n",
      " 2   Beneficiário               object \n",
      " 3   Linha de Fomento           object \n",
      " 4   Modalidade                 object \n",
      " 5   Programa CNPq              object \n",
      " 6   Grande Área                object \n",
      " 7   Área                       object \n",
      " 8   Subárea                    object \n",
      " 9   País Origem                object \n",
      " 10  Instituição Destino        object \n",
      " 11  Sigla Instituição Destino  object \n",
      " 12  Sigla Instituição Macro    object \n",
      " 13  Cidade Destino             object \n",
      " 14  Sigla UF Destino           object \n",
      " 15  País Destino               object \n",
      " 16  Valor Pago                 float32\n",
      "dtypes: float32(2), object(15)\n",
      "memory usage: 280.7+ MB\n"
     ]
    }
   ],
   "source": [
    "dataset.info()"
   ]
  },
  {
   "cell_type": "markdown",
   "id": "36abd281",
   "metadata": {},
   "source": [
    "Verificar as informações estatísticas de *Ano Referência* e *Valor Pago*."
   ]
  },
  {
   "cell_type": "code",
   "execution_count": 45,
   "id": "9971ca1c",
   "metadata": {},
   "outputs": [
    {
     "data": {
      "text/html": [
       "<div>\n",
       "<style scoped>\n",
       "    .dataframe tbody tr th:only-of-type {\n",
       "        vertical-align: middle;\n",
       "    }\n",
       "\n",
       "    .dataframe tbody tr th {\n",
       "        vertical-align: top;\n",
       "    }\n",
       "\n",
       "    .dataframe thead th {\n",
       "        text-align: right;\n",
       "    }\n",
       "</style>\n",
       "<table border=\"1\" class=\"dataframe\">\n",
       "  <thead>\n",
       "    <tr style=\"text-align: right;\">\n",
       "      <th></th>\n",
       "      <th>Ano Referência</th>\n",
       "      <th>Valor Pago</th>\n",
       "    </tr>\n",
       "  </thead>\n",
       "  <tbody>\n",
       "    <tr>\n",
       "      <th>count</th>\n",
       "      <td>2.072517e+06</td>\n",
       "      <td>2.071594e+06</td>\n",
       "    </tr>\n",
       "    <tr>\n",
       "      <th>mean</th>\n",
       "      <td>2.012292e+03</td>\n",
       "      <td>1.112732e+04</td>\n",
       "    </tr>\n",
       "    <tr>\n",
       "      <th>std</th>\n",
       "      <td>4.092165e+00</td>\n",
       "      <td>3.567446e+04</td>\n",
       "    </tr>\n",
       "    <tr>\n",
       "      <th>min</th>\n",
       "      <td>2.060000e+02</td>\n",
       "      <td>-2.415100e+02</td>\n",
       "    </tr>\n",
       "    <tr>\n",
       "      <th>25%</th>\n",
       "      <td>2.010000e+03</td>\n",
       "      <td>1.880000e+03</td>\n",
       "    </tr>\n",
       "    <tr>\n",
       "      <th>50%</th>\n",
       "      <td>2.013000e+03</td>\n",
       "      <td>2.800000e+03</td>\n",
       "    </tr>\n",
       "    <tr>\n",
       "      <th>75%</th>\n",
       "      <td>2.015000e+03</td>\n",
       "      <td>1.320000e+04</td>\n",
       "    </tr>\n",
       "    <tr>\n",
       "      <th>max</th>\n",
       "      <td>2.018000e+03</td>\n",
       "      <td>1.296662e+07</td>\n",
       "    </tr>\n",
       "  </tbody>\n",
       "</table>\n",
       "</div>"
      ],
      "text/plain": [
       "       Ano Referência    Valor Pago\n",
       "count    2.072517e+06  2.071594e+06\n",
       "mean     2.012292e+03  1.112732e+04\n",
       "std      4.092165e+00  3.567446e+04\n",
       "min      2.060000e+02 -2.415100e+02\n",
       "25%      2.010000e+03  1.880000e+03\n",
       "50%      2.013000e+03  2.800000e+03\n",
       "75%      2.015000e+03  1.320000e+04\n",
       "max      2.018000e+03  1.296662e+07"
      ]
     },
     "execution_count": 45,
     "metadata": {},
     "output_type": "execute_result"
    }
   ],
   "source": [
    "dataset.describe()"
   ]
  },
  {
   "cell_type": "code",
   "execution_count": 46,
   "id": "625596d6",
   "metadata": {},
   "outputs": [
    {
     "data": {
      "text/plain": [
       "Ano Referência\n",
       "206.0          1\n",
       "2002.0     21667\n",
       "2003.0     34520\n",
       "2004.0     42225\n",
       "2005.0     44634\n",
       "2006.0     48523\n",
       "2007.0     59214\n",
       "2008.0     94840\n",
       "2009.0    127633\n",
       "2010.0    157780\n",
       "2011.0    169064\n",
       "2012.0    182193\n",
       "2013.0    195332\n",
       "2014.0    207455\n",
       "2015.0    206491\n",
       "2016.0    171675\n",
       "2017.0    153539\n",
       "2018.0    155731\n",
       "Name: count, dtype: int64"
      ]
     },
     "execution_count": 46,
     "metadata": {},
     "output_type": "execute_result"
    }
   ],
   "source": [
    "df = dataset.copy()\n",
    "df['Ano Referência'].value_counts().sort_index()"
   ]
  }
 ],
 "metadata": {
  "kernelspec": {
   "display_name": ".venv",
   "language": "python",
   "name": "python3"
  },
  "language_info": {
   "codemirror_mode": {
    "name": "ipython",
    "version": 3
   },
   "file_extension": ".py",
   "mimetype": "text/x-python",
   "name": "python",
   "nbconvert_exporter": "python",
   "pygments_lexer": "ipython3",
   "version": "3.12.3"
  }
 },
 "nbformat": 4,
 "nbformat_minor": 5
}
