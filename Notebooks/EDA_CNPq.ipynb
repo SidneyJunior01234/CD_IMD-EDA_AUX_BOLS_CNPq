{
 "cells": [
  {
   "cell_type": "markdown",
   "id": "0266d0bd",
   "metadata": {},
   "source": [
    "# **UNIVERSIDADE FEDERAL DO RIO GRANDE DO NORTE**\n",
    "\n",
    "## **INSTITUTO METRÓPOLE DIGITAL**\n",
    "\n",
    "### **CIÊNCIA DE DADOS**\n",
    "\n",
    "DOCENETE: DANIEL SABINO\n",
    "\n",
    "DISCENTES: EDUARDA CHIESA E SIDNEY ALVES"
   ]
  },
  {
   "cell_type": "markdown",
   "id": "88dc6147",
   "metadata": {},
   "source": [
    "## Importação das bibliotecas e carregamento da base de dados"
   ]
  },
  {
   "cell_type": "code",
   "execution_count": 1,
   "id": "501f5997",
   "metadata": {},
   "outputs": [],
   "source": [
    "import csv\n",
    "import matplotlib.pyplot as plt\n",
    "import numpy as np\n",
    "import os\n",
    "import pandas as pd\n",
    "import seaborn as sns"
   ]
  },
  {
   "cell_type": "markdown",
   "id": "bd638b15",
   "metadata": {},
   "source": [
    "### Formatando base de dados"
   ]
  },
  {
   "cell_type": "markdown",
   "id": "d0517a9a",
   "metadata": {},
   "source": [
    "Acessando os arquivos"
   ]
  },
  {
   "cell_type": "code",
   "execution_count": 2,
   "id": "04e69ff1",
   "metadata": {},
   "outputs": [
    {
     "name": "stdout",
     "output_type": "stream",
     "text": [
      "Quantidade de arquivos: 22\n",
      "Listagem dos arquivos:\n",
      "\t investimentos_cnpq_2002.csv\n",
      "\t investimentos_cnpq_2003.csv\n",
      "\t investimentos_cnpq_2004.csv\n",
      "\t investimentos_cnpq_2005.csv\n",
      "\t investimentos_cnpq_2006.csv\n",
      "\t investimentos_cnpq_2007.csv\n",
      "\t investimentos_cnpq_2008.csv\n",
      "\t investimentos_cnpq_2009.csv\n",
      "\t investimentos_cnpq_2010.csv\n",
      "\t investimentos_cnpq_2011.csv\n",
      "\t investimentos_cnpq_2012.csv\n",
      "\t investimentos_cnpq_2013.csv\n",
      "\t investimentos_cnpq_2014.csv\n",
      "\t investimentos_cnpq_2015.csv\n",
      "\t investimentos_cnpq_2016.csv\n",
      "\t investimentos_cnpq_2017.csv\n",
      "\t investimentos_cnpq_2018.csv\n",
      "\t investimentos_cnpq_2019.csv\n",
      "\t investimentos_cnpq_2020.csv\n",
      "\t investimentos_cnpq_2021.csv\n",
      "\t investimentos_cnpq_2022.csv\n",
      "\t investimentos_cnpq_2023.csv\n"
     ]
    }
   ],
   "source": [
    "diretorio = './Base_Dados'\n",
    "arquivos = os.listdir(diretorio)\n",
    "arquivos.sort()\n",
    "\n",
    "print(f'Quantidade de arquivos: {len(arquivos)}')\n",
    "print('Listagem dos arquivos:')\n",
    "\n",
    "for arquivo in arquivos:\n",
    "    print('\\t', arquivo)"
   ]
  },
  {
   "cell_type": "markdown",
   "id": "320c0f0d",
   "metadata": {},
   "source": [
    "Carregando as bases de dados desde 2002 até 2018, pois ambas possuem o mesmo *encoding = 'latin-1'*.\n",
    "\n",
    "```df = []``` é responsável por armazenar os datasets individuais de cada ano e gerar o conjunto de dados final."
   ]
  },
  {
   "cell_type": "code",
   "execution_count": 3,
   "id": "41e82c7d",
   "metadata": {},
   "outputs": [],
   "source": [
    "df = []\n",
    "arquivos_2002_2018 = arquivos[:-5]\n",
    "\n",
    "for arquivo in arquivos_2002_2018:\n",
    "\n",
    "    header = None\n",
    "    df_temp = []\n",
    "    caminho = os.path.join(diretorio, arquivo)\n",
    "\n",
    "    with open(caminho, 'r', encoding='latin-1') as f:\n",
    "        data = csv.reader(f, delimiter=',')\n",
    "        for i, linha in enumerate(data):\n",
    "            if i == 0:\n",
    "                header = linha\n",
    "            else:\n",
    "                df_temp.append(linha)\n",
    "    \n",
    "    df.append(pd.DataFrame(df_temp, columns=header))"
   ]
  },
  {
   "cell_type": "code",
   "execution_count": 4,
   "id": "47ff233b",
   "metadata": {},
   "outputs": [
    {
     "name": "stdout",
     "output_type": "stream",
     "text": [
      "Número de linhas x colunas do df de 2002: 21667 x 21\n",
      "Número de linhas x colunas do df de 2003: 34520 x 21\n",
      "Número de linhas x colunas do df de 2004: 42225 x 21\n",
      "Número de linhas x colunas do df de 2005: 44634 x 21\n",
      "Número de linhas x colunas do df de 2006: 48524 x 21\n",
      "Número de linhas x colunas do df de 2007: 59214 x 21\n",
      "Número de linhas x colunas do df de 2008: 94840 x 21\n",
      "Número de linhas x colunas do df de 2009: 127633 x 21\n",
      "Número de linhas x colunas do df de 2010: 157780 x 21\n",
      "Número de linhas x colunas do df de 2011: 169064 x 21\n",
      "Número de linhas x colunas do df de 2012: 182193 x 21\n",
      "Número de linhas x colunas do df de 2013: 195332 x 21\n",
      "Número de linhas x colunas do df de 2014: 207455 x 21\n",
      "Número de linhas x colunas do df de 2015: 206491 x 21\n",
      "Número de linhas x colunas do df de 2016: 171675 x 21\n",
      "Número de linhas x colunas do df de 2017: 153539 x 21\n",
      "Número de linhas x colunas do df de 2018: 155731 x 21\n"
     ]
    }
   ],
   "source": [
    "for i, data in enumerate(df):\n",
    "    print(f'Número de linhas x colunas do df de {2002+i}: {len(data)} x {len(data.columns)}')"
   ]
  },
  {
   "cell_type": "markdown",
   "id": "669babbb",
   "metadata": {},
   "source": [
    "Carregando e formatando a base referente 2019. Essa base necessita da remoção de caractere `,` na coluna *Valor Pago* que estava sendo usado como separador das casas decimais e separador entre centena e milhar."
   ]
  },
  {
   "cell_type": "code",
   "execution_count": 5,
   "id": "c0cc0d82",
   "metadata": {},
   "outputs": [],
   "source": [
    "caminho = os.path.join(diretorio, arquivos[-5])\n",
    "header = None\n",
    "arquivo_2019 = []\n",
    "with open(caminho, 'r', encoding='latin-1') as f:\n",
    "    data = csv.reader(f)\n",
    "    for i,linha in enumerate(data):\n",
    "        if i == 0:\n",
    "            header = linha\n",
    "        else:\n",
    "            if len(linha) == 21:\n",
    "                linha[-1] = linha[-1].replace(',', '')\n",
    "                arquivo_2019.append(linha)\n",
    "            if len(linha) > 21:\n",
    "                aux = linha[-2].replace(',', '')\n",
    "                linha[:] = linha[:-2]\n",
    "                linha.append(aux)\n",
    "                arquivo_2019.append(linha)\n",
    "\n",
    "arquivo_2019 = pd.DataFrame(arquivo_2019, columns=header)"
   ]
  },
  {
   "cell_type": "markdown",
   "id": "3e9b8b21",
   "metadata": {},
   "source": [
    "Carregando e formatando a base referente 2020. A base vem com uma coluna extra referente aos índices e o *Valor Pago*, como os valores decimais são `,00`, basta somente remover os caracteres usados como separadores entre centena e milhar."
   ]
  },
  {
   "cell_type": "code",
   "execution_count": 6,
   "id": "fd8ecfe2",
   "metadata": {},
   "outputs": [],
   "source": [
    "caminho = os.path.join(diretorio, arquivos[-4])\n",
    "header = None\n",
    "arquivo_2020 = []\n",
    "with open(caminho, 'r', encoding='latin-1') as f:\n",
    "    data = csv.reader(f, delimiter=';')\n",
    "    for i,linha in enumerate(data):\n",
    "        if i == 0:\n",
    "            header = linha[1:]\n",
    "        else:\n",
    "            if len(linha) > 21:\n",
    "                linha = linha[1:]\n",
    "                linha[-1] = linha[-1].replace(',', '')\n",
    "            arquivo_2020.append(linha)\n",
    "\n",
    "arquivo_2020 = pd.DataFrame(arquivo_2020, columns=header)"
   ]
  },
  {
   "cell_type": "markdown",
   "id": "3ca8f941",
   "metadata": {},
   "source": [
    "Carregando e formatando a base referente 2021. Devemos corrigir a primeira coluna que possui caracteres adicionais, além de remover 10 colunas adicionais que estão vazias."
   ]
  },
  {
   "cell_type": "code",
   "execution_count": 7,
   "id": "1a22928d",
   "metadata": {},
   "outputs": [],
   "source": [
    "caminho = os.path.join(diretorio, arquivos[-3])\n",
    "header = None\n",
    "arquivo_2021 = []\n",
    "with open(caminho, 'r', encoding='utf-8') as f:\n",
    "    data = csv.reader(f, delimiter=';')\n",
    "    for i,linha in enumerate(data):\n",
    "        if i == 0:\n",
    "            linha[0] = 'Ano Referência'\n",
    "            linha = linha[:-10]\n",
    "            header = linha\n",
    "        else:\n",
    "            linha = linha[:-10]\n",
    "            linha[-1] = linha[-1].replace('.', '').replace(',', '.')\n",
    "            arquivo_2021.append(linha)\n",
    "\n",
    "arquivo_2021 = pd.DataFrame(arquivo_2021, columns=header) "
   ]
  },
  {
   "cell_type": "markdown",
   "id": "ed513326",
   "metadata": {},
   "source": [
    "Carregando e formatando a base referente 2022. Foi necesário realizar split das colunas separando por `,` e remover caracteres adicionais."
   ]
  },
  {
   "cell_type": "code",
   "execution_count": 8,
   "id": "1a3e48e9",
   "metadata": {},
   "outputs": [],
   "source": [
    "caminho = os.path.join(diretorio, arquivos[-2])\n",
    "header = None\n",
    "arquivo_2022 = []\n",
    "with open(caminho, 'r', encoding='latin-1') as f:\n",
    "    data = csv.reader(f, delimiter=';')\n",
    "    for i,linha in enumerate(data):\n",
    "        if i > 4:\n",
    "            if i == 5:\n",
    "                linha = linha[0].split(',')\n",
    "                header = linha\n",
    "            if i > 5:\n",
    "                linha = linha[0].replace('\"', '')\n",
    "                linha = linha.split(',')\n",
    "                linha = linha[:-1]\n",
    "                linha[-1] = linha[-1][3:]\n",
    "                if len(linha) < 29:\n",
    "                    try:\n",
    "                        arquivo_2022.append(linha)\n",
    "                    except:\n",
    "                        pass\n",
    "\n",
    "arquivo_2022 = arquivo_2022[1:]\n",
    "arquivo_2022 = pd.DataFrame(arquivo_2022, columns=header)"
   ]
  },
  {
   "cell_type": "markdown",
   "id": "3c5d8403",
   "metadata": {},
   "source": [
    "Carregando e formatando a base referente 2023. É feita a remoção de caracteres desnecessários, assim como a remoção de colunas adicionais."
   ]
  },
  {
   "cell_type": "code",
   "execution_count": 9,
   "id": "15ef2021",
   "metadata": {},
   "outputs": [],
   "source": [
    "caminho = os.path.join(diretorio, arquivos[-1])\n",
    "header = None\n",
    "arquivo_2023 = []\n",
    "with open(caminho, 'r', encoding='utf-8') as f:\n",
    "    data = csv.reader(f, delimiter=';')\n",
    "    for i,linha in enumerate(data):\n",
    "        if i > 4:\n",
    "            linha = linha[:27]\n",
    "            if i == 5:\n",
    "                header = linha\n",
    "            if i > 5:\n",
    "                linha[-1] = linha[-1][3:]\n",
    "                linha[-1] = linha[-1].replace('.','')\n",
    "                linha[-1] = float(linha[-1].replace(',', '.'))\n",
    "                arquivo_2023.append(linha)\n",
    "\n",
    "arquivo_2023 = pd.DataFrame(arquivo_2023, columns=header)"
   ]
  },
  {
   "cell_type": "markdown",
   "id": "51268c28",
   "metadata": {},
   "source": [
    "## Pré processamento dos dados"
   ]
  },
  {
   "cell_type": "markdown",
   "id": "938b9d98",
   "metadata": {},
   "source": [
    "As bases de dados carregadas apresentam valores faltantes, caracteres indesejados e os atributos que deveriam ser numéricos são do tipo texto. Esses problemas foram observados durante o processo de carregamento, por isso o processo de remoção e conversão será aplicado a cada base de dados."
   ]
  },
  {
   "cell_type": "markdown",
   "id": "9cb1a677",
   "metadata": {},
   "source": [
    "Como visto no site [Tabela de Valores de Bolsas no País](https://www.gov.br/cnpq/pt-br/acesso-a-informacao/bolsas-e-auxilios/copy_of_modalidades/tabela-de-valores-no-pais) o valor máximo para bolsas é de *R$ 14.000,00* e o valor mínimo é de *R$ 300,00*, há variações na base de dados onde há investimentos de bolsas com valores mínimos de *R$ 200,00* e valores que ultrapassam *R$ 50.000,00*. Com isso uma filtragem será realizada para manter dentro da faixa de valores *R$ 200,00* e *R$ 50.000,00*."
   ]
  },
  {
   "cell_type": "markdown",
   "id": "901ed989",
   "metadata": {},
   "source": [
    "Corrigindo os dados entre 2002 e 2018."
   ]
  },
  {
   "cell_type": "code",
   "execution_count": 10,
   "id": "e3e6fa7e",
   "metadata": {},
   "outputs": [],
   "source": [
    "for i, df_ in enumerate(df):\n",
    "    df_ = df_.drop(df_[df_['Valor Pago'] == ''].index)\n",
    "    df_ = df_.dropna()\n",
    "    df_['Ano Referência'] = df_['Ano Referência'].apply(lambda x : int(x))\n",
    "    df_['Valor Pago'] = df_['Valor Pago'].apply(lambda x : x.replace(',', '.'))\n",
    "    df_['Valor Pago'] = df_['Valor Pago'].apply(lambda x : float(x))\n",
    "    filtro = (df_['Valor Pago'] >= 200.0) & (df_['Valor Pago'] <= 50000.0)\n",
    "    df[i] = df_[filtro]"
   ]
  },
  {
   "cell_type": "markdown",
   "id": "d477bb5c",
   "metadata": {},
   "source": [
    "Corrigindo os dados de 2019."
   ]
  },
  {
   "cell_type": "code",
   "execution_count": 11,
   "id": "f16f7b8e",
   "metadata": {},
   "outputs": [],
   "source": [
    "arquivo_2019['Ano Referência'] = arquivo_2019['Ano Referência'].apply(lambda x : int(x))\n",
    "arquivo_2019['Valor Pago'] = arquivo_2019['Valor Pago'].apply(lambda x : float(x))\n",
    "filtro = (arquivo_2019['Valor Pago'] >= 200.0) & (arquivo_2019['Valor Pago'] <= 50000.0)\n",
    "arquivo_2019 = arquivo_2019[filtro]"
   ]
  },
  {
   "cell_type": "markdown",
   "id": "d0f10da5",
   "metadata": {},
   "source": [
    "Corrigindo os dados de 2020."
   ]
  },
  {
   "cell_type": "code",
   "execution_count": 12,
   "id": "fe9fb1e9",
   "metadata": {},
   "outputs": [],
   "source": [
    "arquivo_2020['Ano Referência'] = arquivo_2020['Ano Referência'].apply(lambda x : int(x))\n",
    "arquivo_2020['Valor Pago'] = arquivo_2020['Valor Pago'].apply(lambda x : float(x))\n",
    "filtro = (arquivo_2020['Valor Pago'] >= 200.0) & (arquivo_2020['Valor Pago'] <= 50000.0)\n",
    "arquivo_2020 = arquivo_2020[filtro]"
   ]
  },
  {
   "cell_type": "markdown",
   "id": "dc55516e",
   "metadata": {},
   "source": [
    "Corrigindo os dados de 2021."
   ]
  },
  {
   "cell_type": "code",
   "execution_count": 13,
   "id": "e3ba4c07",
   "metadata": {},
   "outputs": [],
   "source": [
    "arquivo_2021 = arquivo_2021.drop(arquivo_2021[arquivo_2021['Ano Referência'] == ''].index)\n",
    "arquivo_2021['Ano Referência'] = arquivo_2021['Ano Referência'].apply(lambda x : int(x))\n",
    "arquivo_2021['Valor Pago'] = arquivo_2021['Valor Pago'].apply(lambda x : float(x))\n",
    "filtro = (arquivo_2021['Valor Pago'] >= 200.0) & (arquivo_2021['Valor Pago'] <= 50000.0)\n",
    "arquivo_2021 = arquivo_2021[filtro]"
   ]
  },
  {
   "cell_type": "markdown",
   "id": "3b435717",
   "metadata": {},
   "source": [
    "Corrigindo os dados de 2022. Essa base de dados contém informações adicionadas em locais indevidos e para isso textos devem ser verificados nos campos numéricos."
   ]
  },
  {
   "cell_type": "code",
   "execution_count": 15,
   "id": "7fad9041",
   "metadata": {},
   "outputs": [],
   "source": [
    "def tem_letra(texto):\n",
    "    for c in texto:\n",
    "        if c.isalpha():\n",
    "            return True\n",
    "    return False\n",
    "\n",
    "arquivo_2022 = arquivo_2022.dropna()\n",
    "mascara = arquivo_2022['Valor Pago'].apply(tem_letra)\n",
    "mascara = ~mascara # inverter mascara para deixar as linhas sem letras\n",
    "arquivo_2022 = arquivo_2022[mascara]"
   ]
  },
  {
   "cell_type": "code",
   "execution_count": 16,
   "id": "90df2a5d",
   "metadata": {},
   "outputs": [],
   "source": [
    "arquivo_2022 = arquivo_2022.drop(arquivo_2022[arquivo_2022['Valor Pago'] == ''].index)\n",
    "arquivo_2022 = arquivo_2022.drop(arquivo_2022[arquivo_2022['Ano Referência'] == 'Total pago'].index)\n",
    "arquivo_2022['Ano Referência'] = arquivo_2022['Ano Referência'].apply(lambda x : int(x))\n",
    "arquivo_2022['Valor Pago'] = arquivo_2022['Valor Pago'].apply(lambda x : float(x))\n",
    "filtro = (arquivo_2022['Valor Pago'] >= 200.0) & (arquivo_2022['Valor Pago'] <= 50000.0)\n",
    "arquivo_2022 = arquivo_2022[filtro]"
   ]
  },
  {
   "cell_type": "markdown",
   "id": "1e570e06",
   "metadata": {},
   "source": [
    "Corrigindo os dados de 2023."
   ]
  },
  {
   "cell_type": "code",
   "execution_count": 17,
   "id": "bd42e8ed",
   "metadata": {},
   "outputs": [],
   "source": [
    "arquivo_2023['Ano Referência'] = arquivo_2023['Ano Referência'].apply(lambda x : int(x))\n",
    "arquivo_2023['Valor Pago'] = arquivo_2023['Valor Pago'].apply(lambda x : float(x))\n",
    "filtro = (arquivo_2023['Valor Pago'] >= 200.0) & (arquivo_2023['Valor Pago'] <= 50000.0)\n",
    "arquivo_2023 = arquivo_2023[filtro]"
   ]
  },
  {
   "cell_type": "markdown",
   "id": "b02d45cc",
   "metadata": {},
   "source": [
    "As base de dados mais recentes possuem atributos adicionais, como os dados mais antigos não possuem essas novas colunas, iremos manter as colunas em comum entre as bases de dados."
   ]
  },
  {
   "cell_type": "code",
   "execution_count": 18,
   "id": "54aa6ece",
   "metadata": {},
   "outputs": [],
   "source": [
    "lista_interesse = ['Ano Referência', 'Processo', 'Beneficiário', 'Linha de Fomento', 'Modalidade', 'Categoria/Nível', 'Nome Chamada', 'Programa CNPq', 'Grande Área', 'Área', 'Subárea', 'Instituição Origem', 'Sigla UF Origem', 'País Origem', 'Instituição Destino', 'Sigla Instituição Destino', 'Sigla Instituição Macro', 'Cidade Destino', 'Sigla UF Destino', 'País Destino', 'Valor Pago']"
   ]
  },
  {
   "cell_type": "code",
   "execution_count": 19,
   "id": "4dc3d122",
   "metadata": {},
   "outputs": [],
   "source": [
    "col_exist_2019 = [coluna for coluna in lista_interesse if coluna in arquivo_2019.columns]\n",
    "col_exist_2020 = [coluna for coluna in lista_interesse if coluna in arquivo_2020.columns]\n",
    "col_exist_2021 = [coluna for coluna in lista_interesse if coluna in arquivo_2021.columns]\n",
    "col_exist_2022 = [coluna for coluna in lista_interesse if coluna in arquivo_2022.columns]\n",
    "col_exist_2023 = [coluna for coluna in lista_interesse if coluna in arquivo_2023.columns]"
   ]
  },
  {
   "cell_type": "code",
   "execution_count": 20,
   "id": "233f349f",
   "metadata": {},
   "outputs": [],
   "source": [
    "arquivo_2019 = arquivo_2019[col_exist_2019]\n",
    "arquivo_2020 = arquivo_2020[col_exist_2020]\n",
    "arquivo_2021 = arquivo_2021[col_exist_2021]\n",
    "arquivo_2022 = arquivo_2022[col_exist_2022]\n",
    "arquivo_2023 = arquivo_2023[col_exist_2023]"
   ]
  },
  {
   "cell_type": "markdown",
   "id": "75eab01c",
   "metadata": {},
   "source": [
    "Gerando o dataset geral com todas as bases de dados."
   ]
  },
  {
   "cell_type": "code",
   "execution_count": 21,
   "id": "05876363",
   "metadata": {},
   "outputs": [],
   "source": [
    "df.append(arquivo_2019)\n",
    "del(arquivo_2019)\n",
    "df.append(arquivo_2020)\n",
    "del(arquivo_2020)\n",
    "df.append(arquivo_2021)\n",
    "del(arquivo_2021) \n",
    "df.append(arquivo_2022)\n",
    "del(arquivo_2022)\n",
    "df.append(arquivo_2023)\n",
    "del(arquivo_2023)\n",
    "\n",
    "dataset = pd.concat(df, axis=0, ignore_index=True)\n",
    "del(df)"
   ]
  },
  {
   "cell_type": "markdown",
   "id": "99076a07",
   "metadata": {},
   "source": [
    "Verificando os tipos de dados no dataset."
   ]
  },
  {
   "cell_type": "code",
   "execution_count": 22,
   "id": "b1825a2d",
   "metadata": {},
   "outputs": [
    {
     "name": "stdout",
     "output_type": "stream",
     "text": [
      "<class 'pandas.core.frame.DataFrame'>\n",
      "RangeIndex: 2680023 entries, 0 to 2680022\n",
      "Data columns (total 21 columns):\n",
      " #   Column                     Dtype  \n",
      "---  ------                     -----  \n",
      " 0   Ano Referência             int64  \n",
      " 1   Processo                   object \n",
      " 2   Beneficiário               object \n",
      " 3   Linha de Fomento           object \n",
      " 4   Modalidade                 object \n",
      " 5   Categoria/Nível            object \n",
      " 6   Nome Chamada               object \n",
      " 7   Programa CNPq              object \n",
      " 8   Grande Área                object \n",
      " 9   Área                       object \n",
      " 10  Subárea                    object \n",
      " 11  Instituição Origem         object \n",
      " 12  Sigla UF Origem            object \n",
      " 13  País Origem                object \n",
      " 14  Instituição Destino        object \n",
      " 15  Sigla Instituição Destino  object \n",
      " 16  Sigla Instituição Macro    object \n",
      " 17  Cidade Destino             object \n",
      " 18  Sigla UF Destino           object \n",
      " 19  País Destino               object \n",
      " 20  Valor Pago                 float64\n",
      "dtypes: float64(1), int64(1), object(19)\n",
      "memory usage: 429.4+ MB\n"
     ]
    }
   ],
   "source": [
    "dataset.info()"
   ]
  },
  {
   "cell_type": "markdown",
   "id": "c2a11ff1",
   "metadata": {},
   "source": [
    "*Modalidade* e *Categoria/Nível* trazem a mesma informação em relação as bolsa. O interessão é voltado para as instituições que foram beneficiadas (destino) podendo remover informações da *Origem*. Além disso, o interesse são as bolsas ofertadas no **Brasil**.\n",
    "\n",
    "Referência: [Tabela de Valores de Bolsas no País](https://www.gov.br/cnpq/pt-br/acesso-a-informacao/bolsas-e-auxilios/copy_of_modalidades/tabela-de-valores-no-pais)"
   ]
  },
  {
   "cell_type": "code",
   "execution_count": 23,
   "id": "9326cc17",
   "metadata": {},
   "outputs": [
    {
     "data": {
      "text/plain": [
       "País Destino\n",
       "BRA - Brasil             2613399\n",
       " -                         11987\n",
       "ING - Inglaterra            9290\n",
       "ESP - Espanha               8830\n",
       "EUA - Estados Unidos        6650\n",
       "                          ...   \n",
       "ELS - El Salvador              1\n",
       "RS - Sérvia                    1\n",
       "EAU - Emirados Árabes          1\n",
       "QUE - Quênia                   1\n",
       "BOL - Bolívia                  1\n",
       "Name: count, Length: 79, dtype: int64"
      ]
     },
     "execution_count": 23,
     "metadata": {},
     "output_type": "execute_result"
    }
   ],
   "source": [
    "dataset['País Destino'].value_counts()"
   ]
  },
  {
   "cell_type": "code",
   "execution_count": 24,
   "id": "2c02c89e",
   "metadata": {},
   "outputs": [],
   "source": [
    "dataset = dataset[dataset['País Destino'] == 'BRA - Brasil']\n",
    "dataset = dataset.drop(columns=['Categoria/Nível', 'Instituição Origem', 'Sigla UF Origem', 'País Origem', 'País Destino'])"
   ]
  },
  {
   "cell_type": "code",
   "execution_count": 25,
   "id": "2954956b",
   "metadata": {},
   "outputs": [
    {
     "name": "stdout",
     "output_type": "stream",
     "text": [
      "<class 'pandas.core.frame.DataFrame'>\n",
      "Index: 2613399 entries, 0 to 2680022\n",
      "Data columns (total 16 columns):\n",
      " #   Column                     Dtype  \n",
      "---  ------                     -----  \n",
      " 0   Ano Referência             int64  \n",
      " 1   Processo                   object \n",
      " 2   Beneficiário               object \n",
      " 3   Linha de Fomento           object \n",
      " 4   Modalidade                 object \n",
      " 5   Nome Chamada               object \n",
      " 6   Programa CNPq              object \n",
      " 7   Grande Área                object \n",
      " 8   Área                       object \n",
      " 9   Subárea                    object \n",
      " 10  Instituição Destino        object \n",
      " 11  Sigla Instituição Destino  object \n",
      " 12  Sigla Instituição Macro    object \n",
      " 13  Cidade Destino             object \n",
      " 14  Sigla UF Destino           object \n",
      " 15  Valor Pago                 float64\n",
      "dtypes: float64(1), int64(1), object(14)\n",
      "memory usage: 339.0+ MB\n"
     ]
    }
   ],
   "source": [
    "dataset.info()"
   ]
  },
  {
   "cell_type": "markdown",
   "id": "2023fec0",
   "metadata": {},
   "source": [
    "Para os valores numéricos, iremos observar a sua distribuição."
   ]
  },
  {
   "cell_type": "code",
   "execution_count": 26,
   "id": "6e13a194",
   "metadata": {},
   "outputs": [
    {
     "data": {
      "text/html": [
       "<div>\n",
       "<style scoped>\n",
       "    .dataframe tbody tr th:only-of-type {\n",
       "        vertical-align: middle;\n",
       "    }\n",
       "\n",
       "    .dataframe tbody tr th {\n",
       "        vertical-align: top;\n",
       "    }\n",
       "\n",
       "    .dataframe thead th {\n",
       "        text-align: right;\n",
       "    }\n",
       "</style>\n",
       "<table border=\"1\" class=\"dataframe\">\n",
       "  <thead>\n",
       "    <tr style=\"text-align: right;\">\n",
       "      <th></th>\n",
       "      <th>Ano Referência</th>\n",
       "      <th>Valor Pago</th>\n",
       "    </tr>\n",
       "  </thead>\n",
       "  <tbody>\n",
       "    <tr>\n",
       "      <th>count</th>\n",
       "      <td>2.613399e+06</td>\n",
       "      <td>2.613399e+06</td>\n",
       "    </tr>\n",
       "    <tr>\n",
       "      <th>mean</th>\n",
       "      <td>2.014469e+03</td>\n",
       "      <td>7.325644e+03</td>\n",
       "    </tr>\n",
       "    <tr>\n",
       "      <th>std</th>\n",
       "      <td>5.207181e+00</td>\n",
       "      <td>9.254286e+03</td>\n",
       "    </tr>\n",
       "    <tr>\n",
       "      <th>min</th>\n",
       "      <td>2.060000e+02</td>\n",
       "      <td>2.000000e+02</td>\n",
       "    </tr>\n",
       "    <tr>\n",
       "      <th>25%</th>\n",
       "      <td>2.011000e+03</td>\n",
       "      <td>1.600000e+03</td>\n",
       "    </tr>\n",
       "    <tr>\n",
       "      <th>50%</th>\n",
       "      <td>2.015000e+03</td>\n",
       "      <td>2.800000e+03</td>\n",
       "    </tr>\n",
       "    <tr>\n",
       "      <th>75%</th>\n",
       "      <td>2.019000e+03</td>\n",
       "      <td>1.100000e+04</td>\n",
       "    </tr>\n",
       "    <tr>\n",
       "      <th>max</th>\n",
       "      <td>2.023000e+03</td>\n",
       "      <td>5.000000e+04</td>\n",
       "    </tr>\n",
       "  </tbody>\n",
       "</table>\n",
       "</div>"
      ],
      "text/plain": [
       "       Ano Referência    Valor Pago\n",
       "count    2.613399e+06  2.613399e+06\n",
       "mean     2.014469e+03  7.325644e+03\n",
       "std      5.207181e+00  9.254286e+03\n",
       "min      2.060000e+02  2.000000e+02\n",
       "25%      2.011000e+03  1.600000e+03\n",
       "50%      2.015000e+03  2.800000e+03\n",
       "75%      2.019000e+03  1.100000e+04\n",
       "max      2.023000e+03  5.000000e+04"
      ]
     },
     "execution_count": 26,
     "metadata": {},
     "output_type": "execute_result"
    }
   ],
   "source": [
    "dataset.describe()"
   ]
  },
  {
   "cell_type": "markdown",
   "id": "229b9544",
   "metadata": {},
   "source": [
    "Observando o *Ano Referência*."
   ]
  },
  {
   "cell_type": "code",
   "execution_count": 27,
   "id": "2ce504cf",
   "metadata": {},
   "outputs": [
    {
     "data": {
      "image/png": "[encoded data removed]",
      "text/plain": [
       "<Figure size 640x480 with 1 Axes>"
      ]
     },
     "metadata": {},
     "output_type": "display_data"
    }
   ],
   "source": [
    "dataset[['Ano Referência']].boxplot()\n",
    "\n",
    "plt.title('Boxplot de Ano Referência')\n",
    "plt.ylabel('Valores')\n",
    "plt.show()"
   ]
  },
  {
   "cell_type": "markdown",
   "id": "67ec62e2",
   "metadata": {},
   "source": [
    "É observado que há outliers em relação ao Ano Referência, é interessante verificar esses dados, \n",
    "pois durante a coleta pode ocorrer do preenchimento do ano ter sido com a falta de um caractere."
   ]
  },
  {
   "cell_type": "code",
   "execution_count": 28,
   "id": "25872883",
   "metadata": {},
   "outputs": [
    {
     "data": {
      "text/html": [
       "<div>\n",
       "<style scoped>\n",
       "    .dataframe tbody tr th:only-of-type {\n",
       "        vertical-align: middle;\n",
       "    }\n",
       "\n",
       "    .dataframe tbody tr th {\n",
       "        vertical-align: top;\n",
       "    }\n",
       "\n",
       "    .dataframe thead th {\n",
       "        text-align: right;\n",
       "    }\n",
       "</style>\n",
       "<table border=\"1\" class=\"dataframe\">\n",
       "  <thead>\n",
       "    <tr style=\"text-align: right;\">\n",
       "      <th></th>\n",
       "      <th>Ano Referência</th>\n",
       "      <th>Processo</th>\n",
       "      <th>Beneficiário</th>\n",
       "      <th>Linha de Fomento</th>\n",
       "      <th>Modalidade</th>\n",
       "      <th>Nome Chamada</th>\n",
       "      <th>Programa CNPq</th>\n",
       "      <th>Grande Área</th>\n",
       "      <th>Área</th>\n",
       "      <th>Subárea</th>\n",
       "      <th>Instituição Destino</th>\n",
       "      <th>Sigla Instituição Destino</th>\n",
       "      <th>Sigla Instituição Macro</th>\n",
       "      <th>Cidade Destino</th>\n",
       "      <th>Sigla UF Destino</th>\n",
       "      <th>Valor Pago</th>\n",
       "    </tr>\n",
       "  </thead>\n",
       "  <tbody>\n",
       "    <tr>\n",
       "      <th>168786</th>\n",
       "      <td>206</td>\n",
       "      <td>470276/2006-1</td>\n",
       "      <td>Lin Chau Ming</td>\n",
       "      <td>Apoio a Projetos de Pesquisas</td>\n",
       "      <td>APQ - Auxílio a Pesquisa</td>\n",
       "      <td>Edital MCT/CNPq 02/2006 - Universal</td>\n",
       "      <td>PROGRAMA BASICO DE BOTANICA</td>\n",
       "      <td>Ciências Biológicas</td>\n",
       "      <td>Botânica</td>\n",
       "      <td>Botânica Aplicada</td>\n",
       "      <td>Departamento de Horticultura</td>\n",
       "      <td>UNESP/BOTUCATU</td>\n",
       "      <td>UNESP</td>\n",
       "      <td>Botucatu</td>\n",
       "      <td>SP</td>\n",
       "      <td>6300.0</td>\n",
       "    </tr>\n",
       "  </tbody>\n",
       "</table>\n",
       "</div>"
      ],
      "text/plain": [
       "        Ano Referência       Processo   Beneficiário  \\\n",
       "168786             206  470276/2006-1  Lin Chau Ming   \n",
       "\n",
       "                      Linha de Fomento                Modalidade  \\\n",
       "168786  Apoio a Projetos de Pesquisas   APQ - Auxílio a Pesquisa   \n",
       "\n",
       "                               Nome Chamada                Programa CNPq  \\\n",
       "168786  Edital MCT/CNPq 02/2006 - Universal  PROGRAMA BASICO DE BOTANICA   \n",
       "\n",
       "                Grande Área      Área            Subárea  \\\n",
       "168786  Ciências Biológicas  Botânica  Botânica Aplicada   \n",
       "\n",
       "                 Instituição Destino Sigla Instituição Destino  \\\n",
       "168786  Departamento de Horticultura            UNESP/BOTUCATU   \n",
       "\n",
       "       Sigla Instituição Macro Cidade Destino Sigla UF Destino  Valor Pago  \n",
       "168786                   UNESP       Botucatu               SP      6300.0  "
      ]
     },
     "execution_count": 28,
     "metadata": {},
     "output_type": "execute_result"
    }
   ],
   "source": [
    "dataset[dataset['Ano Referência'] < 2002]"
   ]
  },
  {
   "cell_type": "markdown",
   "id": "a3c01433",
   "metadata": {},
   "source": [
    "Como não sabemos se o valor 206.0 é referente a 2006 ou 2016 e é apenas um único registro, removelo não fará diferença na base de dados."
   ]
  },
  {
   "cell_type": "code",
   "execution_count": 29,
   "id": "bc6b4f1c",
   "metadata": {},
   "outputs": [],
   "source": [
    "dataset = dataset.drop(dataset[dataset['Ano Referência'] == 206].index)"
   ]
  },
  {
   "cell_type": "code",
   "execution_count": 30,
   "id": "4359226e",
   "metadata": {},
   "outputs": [
    {
     "data": {
      "image/png": "[encoded data removed]",
      "text/plain": [
       "<Figure size 640x480 with 1 Axes>"
      ]
     },
     "metadata": {},
     "output_type": "display_data"
    }
   ],
   "source": [
    "dataset[['Ano Referência']].boxplot()\n",
    "\n",
    "plt.title('Boxplot de Ano Referência')\n",
    "plt.ylabel('Valores')\n",
    "plt.show()"
   ]
  },
  {
   "cell_type": "code",
   "execution_count": 31,
   "id": "34108fe5",
   "metadata": {},
   "outputs": [
    {
     "data": {
      "text/html": [
       "<div>\n",
       "<style scoped>\n",
       "    .dataframe tbody tr th:only-of-type {\n",
       "        vertical-align: middle;\n",
       "    }\n",
       "\n",
       "    .dataframe tbody tr th {\n",
       "        vertical-align: top;\n",
       "    }\n",
       "\n",
       "    .dataframe thead th {\n",
       "        text-align: right;\n",
       "    }\n",
       "</style>\n",
       "<table border=\"1\" class=\"dataframe\">\n",
       "  <thead>\n",
       "    <tr style=\"text-align: right;\">\n",
       "      <th></th>\n",
       "      <th>Ano Referência</th>\n",
       "      <th>Valor Pago</th>\n",
       "    </tr>\n",
       "  </thead>\n",
       "  <tbody>\n",
       "    <tr>\n",
       "      <th>count</th>\n",
       "      <td>2.613398e+06</td>\n",
       "      <td>2.613398e+06</td>\n",
       "    </tr>\n",
       "    <tr>\n",
       "      <th>mean</th>\n",
       "      <td>2.014470e+03</td>\n",
       "      <td>7.325644e+03</td>\n",
       "    </tr>\n",
       "    <tr>\n",
       "      <th>std</th>\n",
       "      <td>5.085595e+00</td>\n",
       "      <td>9.254287e+03</td>\n",
       "    </tr>\n",
       "    <tr>\n",
       "      <th>min</th>\n",
       "      <td>2.002000e+03</td>\n",
       "      <td>2.000000e+02</td>\n",
       "    </tr>\n",
       "    <tr>\n",
       "      <th>25%</th>\n",
       "      <td>2.011000e+03</td>\n",
       "      <td>1.600000e+03</td>\n",
       "    </tr>\n",
       "    <tr>\n",
       "      <th>50%</th>\n",
       "      <td>2.015000e+03</td>\n",
       "      <td>2.800000e+03</td>\n",
       "    </tr>\n",
       "    <tr>\n",
       "      <th>75%</th>\n",
       "      <td>2.019000e+03</td>\n",
       "      <td>1.100000e+04</td>\n",
       "    </tr>\n",
       "    <tr>\n",
       "      <th>max</th>\n",
       "      <td>2.023000e+03</td>\n",
       "      <td>5.000000e+04</td>\n",
       "    </tr>\n",
       "  </tbody>\n",
       "</table>\n",
       "</div>"
      ],
      "text/plain": [
       "       Ano Referência    Valor Pago\n",
       "count    2.613398e+06  2.613398e+06\n",
       "mean     2.014470e+03  7.325644e+03\n",
       "std      5.085595e+00  9.254287e+03\n",
       "min      2.002000e+03  2.000000e+02\n",
       "25%      2.011000e+03  1.600000e+03\n",
       "50%      2.015000e+03  2.800000e+03\n",
       "75%      2.019000e+03  1.100000e+04\n",
       "max      2.023000e+03  5.000000e+04"
      ]
     },
     "execution_count": 31,
     "metadata": {},
     "output_type": "execute_result"
    }
   ],
   "source": [
    "dataset.describe()"
   ]
  },
  {
   "cell_type": "markdown",
   "id": "dfe8731f",
   "metadata": {},
   "source": [
    "Observando o *Valor Pago*."
   ]
  },
  {
   "cell_type": "code",
   "execution_count": 32,
   "id": "408023ec",
   "metadata": {},
   "outputs": [
    {
     "data": {
      "image/png": "[encoded data removed]",
      "text/plain": [
       "<Figure size 640x480 with 1 Axes>"
      ]
     },
     "metadata": {},
     "output_type": "display_data"
    }
   ],
   "source": [
    "dataset[['Valor Pago']].boxplot()\n",
    "\n",
    "plt.title('Boxplot de Valor Pago')\n",
    "plt.ylabel('Valores')\n",
    "plt.show()"
   ]
  },
  {
   "cell_type": "markdown",
   "id": "78a0e1f6",
   "metadata": {},
   "source": [
    "Como visto no site [Tabela de Valores de Bolsas no País](https://www.gov.br/cnpq/pt-br/acesso-a-informacao/bolsas-e-auxilios/copy_of_modalidades/tabela-de-valores-no-pais) o valor máximo para bolsas é de *R$ 14.000,00* e o valor mínimo é de *R$ 300,00*, há variações na base de dados onde há investimentos de bolsas com valores mínimos de *R$ 200,00* e valores que ultrapassam *R$ 50.000,00*."
   ]
  },
  {
   "cell_type": "code",
   "execution_count": 34,
   "id": "20e84f12",
   "metadata": {},
   "outputs": [
    {
     "data": {
      "text/html": [
       "<div>\n",
       "<style scoped>\n",
       "    .dataframe tbody tr th:only-of-type {\n",
       "        vertical-align: middle;\n",
       "    }\n",
       "\n",
       "    .dataframe tbody tr th {\n",
       "        vertical-align: top;\n",
       "    }\n",
       "\n",
       "    .dataframe thead th {\n",
       "        text-align: right;\n",
       "    }\n",
       "</style>\n",
       "<table border=\"1\" class=\"dataframe\">\n",
       "  <thead>\n",
       "    <tr style=\"text-align: right;\">\n",
       "      <th></th>\n",
       "      <th>Ano Referência</th>\n",
       "      <th>Valor Pago</th>\n",
       "    </tr>\n",
       "  </thead>\n",
       "  <tbody>\n",
       "    <tr>\n",
       "      <th>count</th>\n",
       "      <td>2.613398e+06</td>\n",
       "      <td>2.613398e+06</td>\n",
       "    </tr>\n",
       "    <tr>\n",
       "      <th>mean</th>\n",
       "      <td>2.014470e+03</td>\n",
       "      <td>7.325644e+03</td>\n",
       "    </tr>\n",
       "    <tr>\n",
       "      <th>std</th>\n",
       "      <td>5.085595e+00</td>\n",
       "      <td>9.254287e+03</td>\n",
       "    </tr>\n",
       "    <tr>\n",
       "      <th>min</th>\n",
       "      <td>2.002000e+03</td>\n",
       "      <td>2.000000e+02</td>\n",
       "    </tr>\n",
       "    <tr>\n",
       "      <th>25%</th>\n",
       "      <td>2.011000e+03</td>\n",
       "      <td>1.600000e+03</td>\n",
       "    </tr>\n",
       "    <tr>\n",
       "      <th>50%</th>\n",
       "      <td>2.015000e+03</td>\n",
       "      <td>2.800000e+03</td>\n",
       "    </tr>\n",
       "    <tr>\n",
       "      <th>75%</th>\n",
       "      <td>2.019000e+03</td>\n",
       "      <td>1.100000e+04</td>\n",
       "    </tr>\n",
       "    <tr>\n",
       "      <th>max</th>\n",
       "      <td>2.023000e+03</td>\n",
       "      <td>5.000000e+04</td>\n",
       "    </tr>\n",
       "  </tbody>\n",
       "</table>\n",
       "</div>"
      ],
      "text/plain": [
       "       Ano Referência    Valor Pago\n",
       "count    2.613398e+06  2.613398e+06\n",
       "mean     2.014470e+03  7.325644e+03\n",
       "std      5.085595e+00  9.254287e+03\n",
       "min      2.002000e+03  2.000000e+02\n",
       "25%      2.011000e+03  1.600000e+03\n",
       "50%      2.015000e+03  2.800000e+03\n",
       "75%      2.019000e+03  1.100000e+04\n",
       "max      2.023000e+03  5.000000e+04"
      ]
     },
     "execution_count": 34,
     "metadata": {},
     "output_type": "execute_result"
    }
   ],
   "source": [
    "dataset.describe()"
   ]
  },
  {
   "cell_type": "markdown",
   "id": "d8cdf219",
   "metadata": {},
   "source": [
    "## “Ao longo dos anos, como evoluiu a distribuição das bolsas por UF de destino?”"
   ]
  },
  {
   "cell_type": "code",
   "execution_count": 35,
   "id": "ffaad967",
   "metadata": {},
   "outputs": [
    {
     "name": "stdout",
     "output_type": "stream",
     "text": [
      "<class 'pandas.core.frame.DataFrame'>\n",
      "Index: 2613398 entries, 0 to 2680022\n",
      "Data columns (total 16 columns):\n",
      " #   Column                     Dtype  \n",
      "---  ------                     -----  \n",
      " 0   Ano Referência             int64  \n",
      " 1   Processo                   object \n",
      " 2   Beneficiário               object \n",
      " 3   Linha de Fomento           object \n",
      " 4   Modalidade                 object \n",
      " 5   Nome Chamada               object \n",
      " 6   Programa CNPq              object \n",
      " 7   Grande Área                object \n",
      " 8   Área                       object \n",
      " 9   Subárea                    object \n",
      " 10  Instituição Destino        object \n",
      " 11  Sigla Instituição Destino  object \n",
      " 12  Sigla Instituição Macro    object \n",
      " 13  Cidade Destino             object \n",
      " 14  Sigla UF Destino           object \n",
      " 15  Valor Pago                 float64\n",
      "dtypes: float64(1), int64(1), object(14)\n",
      "memory usage: 339.0+ MB\n"
     ]
    }
   ],
   "source": [
    "analise_1 = dataset.copy()\n",
    "analise_1.info()"
   ]
  },
  {
   "cell_type": "code",
   "execution_count": 36,
   "id": "0b1d2a6e",
   "metadata": {},
   "outputs": [
    {
     "name": "stdout",
     "output_type": "stream",
     "text": [
      "Possui registros de 2002\n",
      "Possui registros de 2003\n",
      "Possui registros de 2004\n",
      "Possui registros de 2005\n",
      "Possui registros de 2006\n",
      "Possui registros de 2007\n",
      "Possui registros de 2008\n",
      "Possui registros de 2009\n",
      "Possui registros de 2010\n",
      "Possui registros de 2011\n",
      "Possui registros de 2012\n",
      "Possui registros de 2013\n",
      "Possui registros de 2014\n",
      "Possui registros de 2015\n",
      "Possui registros de 2016\n",
      "Possui registros de 2017\n",
      "Possui registros de 2018\n",
      "Possui registros de 2019\n",
      "Possui registros de 2020\n",
      "Possui registros de 2021\n",
      "Possui registros de 2022\n",
      "Possui registros de 2023\n"
     ]
    }
   ],
   "source": [
    "for ano in dataset['Ano Referência'].unique():\n",
    "    print(f'Possui registros de {ano}')"
   ]
  },
  {
   "cell_type": "markdown",
   "id": "1c21a650",
   "metadata": {},
   "source": [
    "Removendo linhas que não foram preenchidas com informações."
   ]
  },
  {
   "cell_type": "code",
   "execution_count": 37,
   "id": "8e008127",
   "metadata": {},
   "outputs": [],
   "source": [
    "analise_1 = analise_1.drop(analise_1[analise_1['Sigla UF Destino'] == ''].index)"
   ]
  },
  {
   "cell_type": "markdown",
   "id": "93b5ef65",
   "metadata": {},
   "source": [
    "Número de bolsas por UF"
   ]
  },
  {
   "cell_type": "markdown",
   "id": "5ddcfde9",
   "metadata": {},
   "source": [
    "É realizado o agrupamento do *Ano Referência* e da *Sigla UF Destino* para realizar a contagem de ocorrências das linahs por grupo usando `.size()` e após isso é criada uma tabela. Com o uso do `.unstack(fill_value=0)`, *Sigla UF Destino* é transformada em coluna, enquanto *Ano Referência* permanece como linha e a relação entre ambos é a contagem de bolsas."
   ]
  },
  {
   "cell_type": "code",
   "execution_count": 38,
   "id": "60454444",
   "metadata": {},
   "outputs": [
    {
     "data": {
      "text/html": [
       "<div>\n",
       "<style scoped>\n",
       "    .dataframe tbody tr th:only-of-type {\n",
       "        vertical-align: middle;\n",
       "    }\n",
       "\n",
       "    .dataframe tbody tr th {\n",
       "        vertical-align: top;\n",
       "    }\n",
       "\n",
       "    .dataframe thead th {\n",
       "        text-align: right;\n",
       "    }\n",
       "</style>\n",
       "<table border=\"1\" class=\"dataframe\">\n",
       "  <thead>\n",
       "    <tr style=\"text-align: right;\">\n",
       "      <th>Sigla UF Destino</th>\n",
       "      <th>AC</th>\n",
       "      <th>AL</th>\n",
       "      <th>AM</th>\n",
       "      <th>AP</th>\n",
       "      <th>BA</th>\n",
       "      <th>CE</th>\n",
       "      <th>DF</th>\n",
       "      <th>ES</th>\n",
       "      <th>GO</th>\n",
       "      <th>MA</th>\n",
       "      <th>...</th>\n",
       "      <th>PR</th>\n",
       "      <th>RJ</th>\n",
       "      <th>RN</th>\n",
       "      <th>RO</th>\n",
       "      <th>RR</th>\n",
       "      <th>RS</th>\n",
       "      <th>SC</th>\n",
       "      <th>SE</th>\n",
       "      <th>SP</th>\n",
       "      <th>TO</th>\n",
       "    </tr>\n",
       "    <tr>\n",
       "      <th>Ano Referência</th>\n",
       "      <th></th>\n",
       "      <th></th>\n",
       "      <th></th>\n",
       "      <th></th>\n",
       "      <th></th>\n",
       "      <th></th>\n",
       "      <th></th>\n",
       "      <th></th>\n",
       "      <th></th>\n",
       "      <th></th>\n",
       "      <th></th>\n",
       "      <th></th>\n",
       "      <th></th>\n",
       "      <th></th>\n",
       "      <th></th>\n",
       "      <th></th>\n",
       "      <th></th>\n",
       "      <th></th>\n",
       "      <th></th>\n",
       "      <th></th>\n",
       "      <th></th>\n",
       "    </tr>\n",
       "  </thead>\n",
       "  <tbody>\n",
       "    <tr>\n",
       "      <th>2002</th>\n",
       "      <td>0</td>\n",
       "      <td>46</td>\n",
       "      <td>149</td>\n",
       "      <td>0</td>\n",
       "      <td>306</td>\n",
       "      <td>412</td>\n",
       "      <td>735</td>\n",
       "      <td>83</td>\n",
       "      <td>82</td>\n",
       "      <td>16</td>\n",
       "      <td>...</td>\n",
       "      <td>650</td>\n",
       "      <td>4171</td>\n",
       "      <td>175</td>\n",
       "      <td>7</td>\n",
       "      <td>0</td>\n",
       "      <td>2245</td>\n",
       "      <td>875</td>\n",
       "      <td>6</td>\n",
       "      <td>7642</td>\n",
       "      <td>0</td>\n",
       "    </tr>\n",
       "    <tr>\n",
       "      <th>2003</th>\n",
       "      <td>5</td>\n",
       "      <td>92</td>\n",
       "      <td>260</td>\n",
       "      <td>5</td>\n",
       "      <td>570</td>\n",
       "      <td>703</td>\n",
       "      <td>1194</td>\n",
       "      <td>157</td>\n",
       "      <td>202</td>\n",
       "      <td>61</td>\n",
       "      <td>...</td>\n",
       "      <td>1078</td>\n",
       "      <td>6175</td>\n",
       "      <td>345</td>\n",
       "      <td>10</td>\n",
       "      <td>11</td>\n",
       "      <td>3385</td>\n",
       "      <td>1307</td>\n",
       "      <td>45</td>\n",
       "      <td>10915</td>\n",
       "      <td>2</td>\n",
       "    </tr>\n",
       "    <tr>\n",
       "      <th>2004</th>\n",
       "      <td>13</td>\n",
       "      <td>127</td>\n",
       "      <td>330</td>\n",
       "      <td>5</td>\n",
       "      <td>795</td>\n",
       "      <td>898</td>\n",
       "      <td>1437</td>\n",
       "      <td>222</td>\n",
       "      <td>294</td>\n",
       "      <td>75</td>\n",
       "      <td>...</td>\n",
       "      <td>1376</td>\n",
       "      <td>7362</td>\n",
       "      <td>507</td>\n",
       "      <td>20</td>\n",
       "      <td>15</td>\n",
       "      <td>4034</td>\n",
       "      <td>1537</td>\n",
       "      <td>73</td>\n",
       "      <td>13159</td>\n",
       "      <td>6</td>\n",
       "    </tr>\n",
       "    <tr>\n",
       "      <th>2005</th>\n",
       "      <td>23</td>\n",
       "      <td>168</td>\n",
       "      <td>362</td>\n",
       "      <td>4</td>\n",
       "      <td>972</td>\n",
       "      <td>1082</td>\n",
       "      <td>1705</td>\n",
       "      <td>258</td>\n",
       "      <td>345</td>\n",
       "      <td>94</td>\n",
       "      <td>...</td>\n",
       "      <td>1527</td>\n",
       "      <td>7358</td>\n",
       "      <td>631</td>\n",
       "      <td>27</td>\n",
       "      <td>14</td>\n",
       "      <td>4238</td>\n",
       "      <td>1723</td>\n",
       "      <td>110</td>\n",
       "      <td>13697</td>\n",
       "      <td>17</td>\n",
       "    </tr>\n",
       "    <tr>\n",
       "      <th>2006</th>\n",
       "      <td>18</td>\n",
       "      <td>210</td>\n",
       "      <td>482</td>\n",
       "      <td>12</td>\n",
       "      <td>1062</td>\n",
       "      <td>1308</td>\n",
       "      <td>1911</td>\n",
       "      <td>235</td>\n",
       "      <td>467</td>\n",
       "      <td>90</td>\n",
       "      <td>...</td>\n",
       "      <td>1816</td>\n",
       "      <td>7831</td>\n",
       "      <td>675</td>\n",
       "      <td>44</td>\n",
       "      <td>15</td>\n",
       "      <td>4486</td>\n",
       "      <td>1929</td>\n",
       "      <td>138</td>\n",
       "      <td>14790</td>\n",
       "      <td>24</td>\n",
       "    </tr>\n",
       "    <tr>\n",
       "      <th>2007</th>\n",
       "      <td>37</td>\n",
       "      <td>184</td>\n",
       "      <td>620</td>\n",
       "      <td>24</td>\n",
       "      <td>1286</td>\n",
       "      <td>1595</td>\n",
       "      <td>2476</td>\n",
       "      <td>275</td>\n",
       "      <td>564</td>\n",
       "      <td>155</td>\n",
       "      <td>...</td>\n",
       "      <td>2223</td>\n",
       "      <td>9317</td>\n",
       "      <td>778</td>\n",
       "      <td>58</td>\n",
       "      <td>15</td>\n",
       "      <td>5705</td>\n",
       "      <td>2372</td>\n",
       "      <td>158</td>\n",
       "      <td>17503</td>\n",
       "      <td>52</td>\n",
       "    </tr>\n",
       "    <tr>\n",
       "      <th>2008</th>\n",
       "      <td>162</td>\n",
       "      <td>553</td>\n",
       "      <td>1258</td>\n",
       "      <td>86</td>\n",
       "      <td>2563</td>\n",
       "      <td>2810</td>\n",
       "      <td>4250</td>\n",
       "      <td>523</td>\n",
       "      <td>1123</td>\n",
       "      <td>470</td>\n",
       "      <td>...</td>\n",
       "      <td>4198</td>\n",
       "      <td>14076</td>\n",
       "      <td>1583</td>\n",
       "      <td>160</td>\n",
       "      <td>83</td>\n",
       "      <td>9180</td>\n",
       "      <td>3522</td>\n",
       "      <td>384</td>\n",
       "      <td>24679</td>\n",
       "      <td>238</td>\n",
       "    </tr>\n",
       "    <tr>\n",
       "      <th>2009</th>\n",
       "      <td>258</td>\n",
       "      <td>1022</td>\n",
       "      <td>1860</td>\n",
       "      <td>137</td>\n",
       "      <td>3691</td>\n",
       "      <td>4069</td>\n",
       "      <td>5907</td>\n",
       "      <td>799</td>\n",
       "      <td>1745</td>\n",
       "      <td>706</td>\n",
       "      <td>...</td>\n",
       "      <td>6036</td>\n",
       "      <td>18528</td>\n",
       "      <td>2425</td>\n",
       "      <td>270</td>\n",
       "      <td>127</td>\n",
       "      <td>12145</td>\n",
       "      <td>4636</td>\n",
       "      <td>713</td>\n",
       "      <td>31146</td>\n",
       "      <td>392</td>\n",
       "    </tr>\n",
       "    <tr>\n",
       "      <th>2010</th>\n",
       "      <td>300</td>\n",
       "      <td>1288</td>\n",
       "      <td>2124</td>\n",
       "      <td>138</td>\n",
       "      <td>5078</td>\n",
       "      <td>4966</td>\n",
       "      <td>6840</td>\n",
       "      <td>1070</td>\n",
       "      <td>2289</td>\n",
       "      <td>902</td>\n",
       "      <td>...</td>\n",
       "      <td>7555</td>\n",
       "      <td>26068</td>\n",
       "      <td>3366</td>\n",
       "      <td>385</td>\n",
       "      <td>181</td>\n",
       "      <td>14767</td>\n",
       "      <td>5622</td>\n",
       "      <td>1154</td>\n",
       "      <td>35730</td>\n",
       "      <td>538</td>\n",
       "    </tr>\n",
       "    <tr>\n",
       "      <th>2011</th>\n",
       "      <td>401</td>\n",
       "      <td>1350</td>\n",
       "      <td>2359</td>\n",
       "      <td>149</td>\n",
       "      <td>6621</td>\n",
       "      <td>5854</td>\n",
       "      <td>8090</td>\n",
       "      <td>1341</td>\n",
       "      <td>2844</td>\n",
       "      <td>1083</td>\n",
       "      <td>...</td>\n",
       "      <td>8153</td>\n",
       "      <td>27074</td>\n",
       "      <td>3634</td>\n",
       "      <td>493</td>\n",
       "      <td>225</td>\n",
       "      <td>15056</td>\n",
       "      <td>6128</td>\n",
       "      <td>1336</td>\n",
       "      <td>37400</td>\n",
       "      <td>640</td>\n",
       "    </tr>\n",
       "    <tr>\n",
       "      <th>2012</th>\n",
       "      <td>438</td>\n",
       "      <td>1430</td>\n",
       "      <td>2276</td>\n",
       "      <td>174</td>\n",
       "      <td>6083</td>\n",
       "      <td>5929</td>\n",
       "      <td>9269</td>\n",
       "      <td>1307</td>\n",
       "      <td>2893</td>\n",
       "      <td>1023</td>\n",
       "      <td>...</td>\n",
       "      <td>8452</td>\n",
       "      <td>27510</td>\n",
       "      <td>3442</td>\n",
       "      <td>441</td>\n",
       "      <td>260</td>\n",
       "      <td>14772</td>\n",
       "      <td>6302</td>\n",
       "      <td>1333</td>\n",
       "      <td>36903</td>\n",
       "      <td>664</td>\n",
       "    </tr>\n",
       "    <tr>\n",
       "      <th>2013</th>\n",
       "      <td>600</td>\n",
       "      <td>1492</td>\n",
       "      <td>2286</td>\n",
       "      <td>391</td>\n",
       "      <td>5049</td>\n",
       "      <td>5801</td>\n",
       "      <td>9831</td>\n",
       "      <td>1274</td>\n",
       "      <td>2810</td>\n",
       "      <td>1031</td>\n",
       "      <td>...</td>\n",
       "      <td>8514</td>\n",
       "      <td>29653</td>\n",
       "      <td>3396</td>\n",
       "      <td>359</td>\n",
       "      <td>297</td>\n",
       "      <td>15051</td>\n",
       "      <td>6867</td>\n",
       "      <td>1638</td>\n",
       "      <td>37969</td>\n",
       "      <td>615</td>\n",
       "    </tr>\n",
       "    <tr>\n",
       "      <th>2014</th>\n",
       "      <td>388</td>\n",
       "      <td>1776</td>\n",
       "      <td>2233</td>\n",
       "      <td>454</td>\n",
       "      <td>5513</td>\n",
       "      <td>6490</td>\n",
       "      <td>10507</td>\n",
       "      <td>1568</td>\n",
       "      <td>3264</td>\n",
       "      <td>1161</td>\n",
       "      <td>...</td>\n",
       "      <td>9132</td>\n",
       "      <td>32168</td>\n",
       "      <td>3626</td>\n",
       "      <td>434</td>\n",
       "      <td>357</td>\n",
       "      <td>15979</td>\n",
       "      <td>7134</td>\n",
       "      <td>1981</td>\n",
       "      <td>38744</td>\n",
       "      <td>719</td>\n",
       "    </tr>\n",
       "    <tr>\n",
       "      <th>2015</th>\n",
       "      <td>599</td>\n",
       "      <td>1676</td>\n",
       "      <td>2330</td>\n",
       "      <td>416</td>\n",
       "      <td>5407</td>\n",
       "      <td>6337</td>\n",
       "      <td>11872</td>\n",
       "      <td>1697</td>\n",
       "      <td>3495</td>\n",
       "      <td>1195</td>\n",
       "      <td>...</td>\n",
       "      <td>9081</td>\n",
       "      <td>33188</td>\n",
       "      <td>3557</td>\n",
       "      <td>716</td>\n",
       "      <td>336</td>\n",
       "      <td>15551</td>\n",
       "      <td>7323</td>\n",
       "      <td>1923</td>\n",
       "      <td>37286</td>\n",
       "      <td>783</td>\n",
       "    </tr>\n",
       "    <tr>\n",
       "      <th>2016</th>\n",
       "      <td>494</td>\n",
       "      <td>1281</td>\n",
       "      <td>1833</td>\n",
       "      <td>322</td>\n",
       "      <td>4675</td>\n",
       "      <td>5437</td>\n",
       "      <td>8673</td>\n",
       "      <td>1503</td>\n",
       "      <td>2994</td>\n",
       "      <td>1009</td>\n",
       "      <td>...</td>\n",
       "      <td>8132</td>\n",
       "      <td>29187</td>\n",
       "      <td>3048</td>\n",
       "      <td>659</td>\n",
       "      <td>265</td>\n",
       "      <td>13505</td>\n",
       "      <td>6164</td>\n",
       "      <td>1675</td>\n",
       "      <td>33387</td>\n",
       "      <td>592</td>\n",
       "    </tr>\n",
       "    <tr>\n",
       "      <th>2017</th>\n",
       "      <td>457</td>\n",
       "      <td>1210</td>\n",
       "      <td>1712</td>\n",
       "      <td>268</td>\n",
       "      <td>4618</td>\n",
       "      <td>4461</td>\n",
       "      <td>7072</td>\n",
       "      <td>1290</td>\n",
       "      <td>2797</td>\n",
       "      <td>1041</td>\n",
       "      <td>...</td>\n",
       "      <td>7890</td>\n",
       "      <td>29649</td>\n",
       "      <td>2734</td>\n",
       "      <td>543</td>\n",
       "      <td>270</td>\n",
       "      <td>12694</td>\n",
       "      <td>5469</td>\n",
       "      <td>1523</td>\n",
       "      <td>31636</td>\n",
       "      <td>478</td>\n",
       "    </tr>\n",
       "    <tr>\n",
       "      <th>2018</th>\n",
       "      <td>380</td>\n",
       "      <td>1186</td>\n",
       "      <td>1730</td>\n",
       "      <td>316</td>\n",
       "      <td>4768</td>\n",
       "      <td>4415</td>\n",
       "      <td>6082</td>\n",
       "      <td>1291</td>\n",
       "      <td>2729</td>\n",
       "      <td>1099</td>\n",
       "      <td>...</td>\n",
       "      <td>8062</td>\n",
       "      <td>31598</td>\n",
       "      <td>2743</td>\n",
       "      <td>505</td>\n",
       "      <td>303</td>\n",
       "      <td>12916</td>\n",
       "      <td>5374</td>\n",
       "      <td>1579</td>\n",
       "      <td>31741</td>\n",
       "      <td>618</td>\n",
       "    </tr>\n",
       "    <tr>\n",
       "      <th>2019</th>\n",
       "      <td>384</td>\n",
       "      <td>1340</td>\n",
       "      <td>1774</td>\n",
       "      <td>300</td>\n",
       "      <td>4885</td>\n",
       "      <td>4337</td>\n",
       "      <td>6036</td>\n",
       "      <td>1400</td>\n",
       "      <td>2903</td>\n",
       "      <td>1157</td>\n",
       "      <td>...</td>\n",
       "      <td>8460</td>\n",
       "      <td>30538</td>\n",
       "      <td>2884</td>\n",
       "      <td>548</td>\n",
       "      <td>312</td>\n",
       "      <td>13305</td>\n",
       "      <td>5443</td>\n",
       "      <td>1541</td>\n",
       "      <td>31674</td>\n",
       "      <td>741</td>\n",
       "    </tr>\n",
       "    <tr>\n",
       "      <th>2020</th>\n",
       "      <td>296</td>\n",
       "      <td>1265</td>\n",
       "      <td>1785</td>\n",
       "      <td>280</td>\n",
       "      <td>4712</td>\n",
       "      <td>3919</td>\n",
       "      <td>5555</td>\n",
       "      <td>1458</td>\n",
       "      <td>2785</td>\n",
       "      <td>1166</td>\n",
       "      <td>...</td>\n",
       "      <td>7947</td>\n",
       "      <td>30820</td>\n",
       "      <td>2779</td>\n",
       "      <td>510</td>\n",
       "      <td>291</td>\n",
       "      <td>12261</td>\n",
       "      <td>5092</td>\n",
       "      <td>1591</td>\n",
       "      <td>31108</td>\n",
       "      <td>686</td>\n",
       "    </tr>\n",
       "    <tr>\n",
       "      <th>2021</th>\n",
       "      <td>384</td>\n",
       "      <td>1672</td>\n",
       "      <td>2509</td>\n",
       "      <td>292</td>\n",
       "      <td>6746</td>\n",
       "      <td>5802</td>\n",
       "      <td>8377</td>\n",
       "      <td>2176</td>\n",
       "      <td>3908</td>\n",
       "      <td>1559</td>\n",
       "      <td>...</td>\n",
       "      <td>11575</td>\n",
       "      <td>42307</td>\n",
       "      <td>4037</td>\n",
       "      <td>582</td>\n",
       "      <td>385</td>\n",
       "      <td>18868</td>\n",
       "      <td>7970</td>\n",
       "      <td>2101</td>\n",
       "      <td>50748</td>\n",
       "      <td>836</td>\n",
       "    </tr>\n",
       "    <tr>\n",
       "      <th>2022</th>\n",
       "      <td>113</td>\n",
       "      <td>462</td>\n",
       "      <td>447</td>\n",
       "      <td>69</td>\n",
       "      <td>1291</td>\n",
       "      <td>1539</td>\n",
       "      <td>1514</td>\n",
       "      <td>368</td>\n",
       "      <td>748</td>\n",
       "      <td>526</td>\n",
       "      <td>...</td>\n",
       "      <td>2424</td>\n",
       "      <td>17631</td>\n",
       "      <td>879</td>\n",
       "      <td>200</td>\n",
       "      <td>132</td>\n",
       "      <td>2960</td>\n",
       "      <td>1364</td>\n",
       "      <td>586</td>\n",
       "      <td>7501</td>\n",
       "      <td>178</td>\n",
       "    </tr>\n",
       "    <tr>\n",
       "      <th>2023</th>\n",
       "      <td>166</td>\n",
       "      <td>859</td>\n",
       "      <td>1075</td>\n",
       "      <td>222</td>\n",
       "      <td>3212</td>\n",
       "      <td>2673</td>\n",
       "      <td>14029</td>\n",
       "      <td>1153</td>\n",
       "      <td>1929</td>\n",
       "      <td>741</td>\n",
       "      <td>...</td>\n",
       "      <td>5545</td>\n",
       "      <td>23984</td>\n",
       "      <td>2071</td>\n",
       "      <td>305</td>\n",
       "      <td>200</td>\n",
       "      <td>8653</td>\n",
       "      <td>3683</td>\n",
       "      <td>949</td>\n",
       "      <td>20863</td>\n",
       "      <td>372</td>\n",
       "    </tr>\n",
       "  </tbody>\n",
       "</table>\n",
       "<p>22 rows × 27 columns</p>\n",
       "</div>"
      ],
      "text/plain": [
       "Sigla UF Destino   AC    AL    AM   AP    BA    CE     DF    ES    GO    MA  \\\n",
       "Ano Referência                                                                \n",
       "2002                0    46   149    0   306   412    735    83    82    16   \n",
       "2003                5    92   260    5   570   703   1194   157   202    61   \n",
       "2004               13   127   330    5   795   898   1437   222   294    75   \n",
       "2005               23   168   362    4   972  1082   1705   258   345    94   \n",
       "2006               18   210   482   12  1062  1308   1911   235   467    90   \n",
       "2007               37   184   620   24  1286  1595   2476   275   564   155   \n",
       "2008              162   553  1258   86  2563  2810   4250   523  1123   470   \n",
       "2009              258  1022  1860  137  3691  4069   5907   799  1745   706   \n",
       "2010              300  1288  2124  138  5078  4966   6840  1070  2289   902   \n",
       "2011              401  1350  2359  149  6621  5854   8090  1341  2844  1083   \n",
       "2012              438  1430  2276  174  6083  5929   9269  1307  2893  1023   \n",
       "2013              600  1492  2286  391  5049  5801   9831  1274  2810  1031   \n",
       "2014              388  1776  2233  454  5513  6490  10507  1568  3264  1161   \n",
       "2015              599  1676  2330  416  5407  6337  11872  1697  3495  1195   \n",
       "2016              494  1281  1833  322  4675  5437   8673  1503  2994  1009   \n",
       "2017              457  1210  1712  268  4618  4461   7072  1290  2797  1041   \n",
       "2018              380  1186  1730  316  4768  4415   6082  1291  2729  1099   \n",
       "2019              384  1340  1774  300  4885  4337   6036  1400  2903  1157   \n",
       "2020              296  1265  1785  280  4712  3919   5555  1458  2785  1166   \n",
       "2021              384  1672  2509  292  6746  5802   8377  2176  3908  1559   \n",
       "2022              113   462   447   69  1291  1539   1514   368   748   526   \n",
       "2023              166   859  1075  222  3212  2673  14029  1153  1929   741   \n",
       "\n",
       "Sigla UF Destino  ...     PR     RJ    RN   RO   RR     RS    SC    SE     SP  \\\n",
       "Ano Referência    ...                                                           \n",
       "2002              ...    650   4171   175    7    0   2245   875     6   7642   \n",
       "2003              ...   1078   6175   345   10   11   3385  1307    45  10915   \n",
       "2004              ...   1376   7362   507   20   15   4034  1537    73  13159   \n",
       "2005              ...   1527   7358   631   27   14   4238  1723   110  13697   \n",
       "2006              ...   1816   7831   675   44   15   4486  1929   138  14790   \n",
       "2007              ...   2223   9317   778   58   15   5705  2372   158  17503   \n",
       "2008              ...   4198  14076  1583  160   83   9180  3522   384  24679   \n",
       "2009              ...   6036  18528  2425  270  127  12145  4636   713  31146   \n",
       "2010              ...   7555  26068  3366  385  181  14767  5622  1154  35730   \n",
       "2011              ...   8153  27074  3634  493  225  15056  6128  1336  37400   \n",
       "2012              ...   8452  27510  3442  441  260  14772  6302  1333  36903   \n",
       "2013              ...   8514  29653  3396  359  297  15051  6867  1638  37969   \n",
       "2014              ...   9132  32168  3626  434  357  15979  7134  1981  38744   \n",
       "2015              ...   9081  33188  3557  716  336  15551  7323  1923  37286   \n",
       "2016              ...   8132  29187  3048  659  265  13505  6164  1675  33387   \n",
       "2017              ...   7890  29649  2734  543  270  12694  5469  1523  31636   \n",
       "2018              ...   8062  31598  2743  505  303  12916  5374  1579  31741   \n",
       "2019              ...   8460  30538  2884  548  312  13305  5443  1541  31674   \n",
       "2020              ...   7947  30820  2779  510  291  12261  5092  1591  31108   \n",
       "2021              ...  11575  42307  4037  582  385  18868  7970  2101  50748   \n",
       "2022              ...   2424  17631   879  200  132   2960  1364   586   7501   \n",
       "2023              ...   5545  23984  2071  305  200   8653  3683   949  20863   \n",
       "\n",
       "Sigla UF Destino   TO  \n",
       "Ano Referência         \n",
       "2002                0  \n",
       "2003                2  \n",
       "2004                6  \n",
       "2005               17  \n",
       "2006               24  \n",
       "2007               52  \n",
       "2008              238  \n",
       "2009              392  \n",
       "2010              538  \n",
       "2011              640  \n",
       "2012              664  \n",
       "2013              615  \n",
       "2014              719  \n",
       "2015              783  \n",
       "2016              592  \n",
       "2017              478  \n",
       "2018              618  \n",
       "2019              741  \n",
       "2020              686  \n",
       "2021              836  \n",
       "2022              178  \n",
       "2023              372  \n",
       "\n",
       "[22 rows x 27 columns]"
      ]
     },
     "execution_count": 38,
     "metadata": {},
     "output_type": "execute_result"
    }
   ],
   "source": [
    "analise_1 = analise_1.groupby(['Ano Referência', 'Sigla UF Destino']).size()\n",
    "analise_1 = analise_1.unstack(fill_value=0)\n",
    "analise_1"
   ]
  },
  {
   "cell_type": "code",
   "execution_count": 39,
   "id": "59f0d5b3",
   "metadata": {},
   "outputs": [
    {
     "data": {
      "image/png": "[encoded data removed]",
      "text/plain": [
       "<Figure size 640x480 with 2 Axes>"
      ]
     },
     "metadata": {},
     "output_type": "display_data"
    }
   ],
   "source": [
    "sns.heatmap(analise_1, cmap='plasma', linewidths=0.5)\n",
    "\n",
    "plt.title('Distribuição de Bolsas por UF de Destino ao Longo dos Anos', fontsize=12)\n",
    "plt.xlabel('UF de Destino')\n",
    "plt.ylabel('Ano de Referência')\n",
    "plt.tight_layout()\n",
    "plt.gca().invert_yaxis()\n",
    "plt.show()"
   ]
  },
  {
   "cell_type": "markdown",
   "id": "2d634b03",
   "metadata": {},
   "source": [
    "É observado que visualmente há UF's que possuem uma grande quantidade de *Auxílios e Bolsas* a quem são destinadas. Más como a escala é elevada, as instituições que recebem menos bolsas aparentam receber 0. Com isso a quantidade de bolsas será normalizada entre 0 e 1 dentro da mesma instituição ao passar dos anos, para que possamos analizar tal evolução em relação acada UF propria."
   ]
  },
  {
   "cell_type": "code",
   "execution_count": 40,
   "id": "aac15d58",
   "metadata": {},
   "outputs": [],
   "source": [
    "def min_max_scaler(dados):\n",
    "    min = np.min(dados)\n",
    "    max = np.max(dados)\n",
    "\n",
    "    return (dados - min) / (max - min)"
   ]
  },
  {
   "cell_type": "code",
   "execution_count": 41,
   "id": "8d945b1d",
   "metadata": {},
   "outputs": [
    {
     "data": {
      "image/png": "[encoded data removed]",
      "text/plain": [
       "<Figure size 1000x600 with 2 Axes>"
      ]
     },
     "metadata": {},
     "output_type": "display_data"
    }
   ],
   "source": [
    "analize_1_norm = analise_1.copy()\n",
    "for uf in analize_1_norm.columns:\n",
    "    analize_1_norm[uf] = min_max_scaler(analize_1_norm[[uf]])\n",
    "\n",
    "plt.figure(figsize=(10, 6))\n",
    "sns.heatmap(analize_1_norm, cmap='plasma', linewidths=0.5, cbar_kws={'label': 'Variação Normalizada (0 a 1)'})\n",
    "plt.title('Variação Normalizada de Bolsas por UF de Destino ao Longo dos Anos', fontsize=12)\n",
    "plt.xlabel('UF de Destino')\n",
    "plt.ylabel('Ano de Referência')\n",
    "plt.tight_layout()\n",
    "plt.gca().invert_yaxis()\n",
    "plt.show()"
   ]
  },
  {
   "cell_type": "markdown",
   "id": "5ef7b276",
   "metadata": {},
   "source": [
    "Em 2022 aparenta haver queda na distribuição de *Auxílios e Bolsas*, mas como a base está filtrada com os valores entre *R$ 200,00* e *R$ 50.000,00*, algumas UF's receberam valores muito acima."
   ]
  }
 ],
 "metadata": {
  "kernelspec": {
   "display_name": "Python 3",
   "language": "python",
   "name": "python3"
  },
  "language_info": {
   "codemirror_mode": {
    "name": "ipython",
    "version": 3
   },
   "file_extension": ".py",
   "mimetype": "text/x-python",
   "name": "python",
   "nbconvert_exporter": "python",
   "pygments_lexer": "ipython3",
   "version": "3.13.0"
  }
 },
 "nbformat": 4,
 "nbformat_minor": 5
}
