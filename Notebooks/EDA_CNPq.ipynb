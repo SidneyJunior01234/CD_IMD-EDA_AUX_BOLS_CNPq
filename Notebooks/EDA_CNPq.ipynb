{
 "cells": [
  {
   "cell_type": "markdown",
   "id": "0266d0bd",
   "metadata": {},
   "source": [
    "# **UNIVERSIDADE FEDERAL DO RIO GRANDE DO NORTE**\n",
    "\n",
    "## **INSTITUTO METRÓPOLE DIGITAL**\n",
    "\n",
    "### **CIÊNCIA DE DADOS**\n",
    "\n",
    "DOCENETE: DANIEL SABINO\n",
    "\n",
    "DISCENTES: EDUARDA CHIESA E SIDNEY ALVES"
   ]
  },
  {
   "cell_type": "markdown",
   "id": "88dc6147",
   "metadata": {},
   "source": [
    "## Importação das bibliotecas e carregamento da base de dados"
   ]
  },
  {
   "cell_type": "code",
   "execution_count": null,
   "id": "501f5997",
   "metadata": {},
   "outputs": [],
   "source": [
    "import csv\n",
    "import matplotlib.pyplot as plt\n",
    "import numpy as np\n",
    "import os\n",
    "import pandas as pd"
   ]
  },
  {
   "cell_type": "markdown",
   "id": "bd638b15",
   "metadata": {},
   "source": [
    "### Formatando base de dados"
   ]
  },
  {
   "cell_type": "markdown",
   "id": "d0517a9a",
   "metadata": {},
   "source": [
    "Acessando os arquivos"
   ]
  },
  {
   "cell_type": "code",
   "execution_count": null,
   "id": "04e69ff1",
   "metadata": {},
   "outputs": [],
   "source": [
    "diretorio = './Base_Dados'\n",
    "arquivos = os.listdir(diretorio)\n",
    "arquivos.sort()\n",
    "\n",
    "print(f'Quantidade de arquivos: {len(arquivos)}')\n",
    "print('Listagem dos arquivos:')\n",
    "\n",
    "for arquivo in arquivos:\n",
    "    print('\\t', arquivo)"
   ]
  },
  {
   "cell_type": "markdown",
   "id": "320c0f0d",
   "metadata": {},
   "source": [
    "Carregando as bases de dados desde 2002 até 2018, pois ambas possuem o mesmo *encoding = 'latin-1'*"
   ]
  },
  {
   "cell_type": "code",
   "execution_count": null,
   "id": "41e82c7d",
   "metadata": {},
   "outputs": [],
   "source": [
    "df = []\n",
    "arquivos_2002_2018 = arquivos[:-5]\n",
    "\n",
    "for arquivo in arquivos_2002_2018:\n",
    "\n",
    "    header = None\n",
    "    df_temp = []\n",
    "    caminho = os.path.join(diretorio, arquivo)\n",
    "\n",
    "    with open(caminho, 'r', encoding='latin-1') as f:\n",
    "        data = csv.reader(f, delimiter=',')\n",
    "        for i, linha in enumerate(data):\n",
    "            if i == 0:\n",
    "                header = linha\n",
    "            else:\n",
    "                df_temp.append(linha)\n",
    "    \n",
    "    df.append(pd.DataFrame(df_temp, columns=header))"
   ]
  },
  {
   "cell_type": "code",
   "execution_count": null,
   "id": "47ff233b",
   "metadata": {},
   "outputs": [],
   "source": [
    "for i, data in enumerate(df):\n",
    "    print(f'Número de linhas x colunas do df de {2002+i}: {len(data)} x {len(data.columns)}')"
   ]
  },
  {
   "cell_type": "markdown",
   "id": "669babbb",
   "metadata": {},
   "source": [
    "Carregando e formatando a base referente 2019. Essa base necessita concatenar *Valor Pago*, pois ao carregar e o separador é `,` ; assim o valor é separado em parte inteira e parte decimal, além de adicionar `,00` em valores não decimais"
   ]
  },
  {
   "cell_type": "code",
   "execution_count": null,
   "id": "c0cc0d82",
   "metadata": {},
   "outputs": [],
   "source": [
    "caminho = os.path.join(diretorio, arquivos[-5])\n",
    "header = None\n",
    "arquivo_2019 = []\n",
    "with open(caminho, 'r', encoding='latin-1') as f:\n",
    "    data = csv.reader(f)\n",
    "    for i,linha in enumerate(data):\n",
    "        if i == 0:\n",
    "            header = linha\n",
    "        else:\n",
    "            if len(linha) == 21:\n",
    "                linha[-1] = linha[-1] + ',00'\n",
    "                arquivo_2019.append(linha)\n",
    "            if len(linha) > 21:\n",
    "                aux = linha[-2] + ',' + linha[-1]\n",
    "                linha[:] = linha[:-2]\n",
    "                linha.append(aux)\n",
    "                arquivo_2019.append(linha)\n",
    "\n",
    "arquivo_2019 = pd.DataFrame(arquivo_2019, columns=header)\n",
    "df.append(arquivo_2019)\n",
    "del(arquivo_2019)"
   ]
  },
  {
   "cell_type": "markdown",
   "id": "3e9b8b21",
   "metadata": {},
   "source": [
    "Carregando e formatando a base referente 2020. A base vem com uma coluna extra referente aos índices e o *Valor Pago* necessia adicionar `,00`"
   ]
  },
  {
   "cell_type": "code",
   "execution_count": null,
   "id": "fd8ecfe2",
   "metadata": {},
   "outputs": [],
   "source": [
    "caminho = os.path.join(diretorio, arquivos[-4])\n",
    "header = None\n",
    "arquivo_2020 = []\n",
    "with open(caminho, 'r', encoding='latin-1') as f:\n",
    "    data = csv.reader(f, delimiter=';')\n",
    "    for i,linha in enumerate(data):\n",
    "        if i == 0:\n",
    "            header = linha[1:]\n",
    "        else:\n",
    "            if len(linha) > 21:\n",
    "                linha = linha[1:]\n",
    "                linha[-1] = linha[-1] + ',00'\n",
    "            arquivo_2020.append(linha)\n",
    "\n",
    "arquivo_2020 = pd.DataFrame(arquivo_2020, columns=header)\n",
    "df.append(arquivo_2020)\n",
    "del(arquivo_2020)"
   ]
  },
  {
   "cell_type": "markdown",
   "id": "3ca8f941",
   "metadata": {},
   "source": [
    "Carregando e formatando a base referente 2021. Corrigir a primeira coluna que está com caracteres, além de remover 10 colunas vazias"
   ]
  },
  {
   "cell_type": "code",
   "execution_count": null,
   "id": "1a22928d",
   "metadata": {},
   "outputs": [],
   "source": [
    "caminho = os.path.join(diretorio, arquivos[-3])\n",
    "header = None\n",
    "arquivo_2021 = []\n",
    "with open(caminho, 'r', encoding='utf-8') as f:\n",
    "    data = csv.reader(f, delimiter=';')\n",
    "    for i,linha in enumerate(data):\n",
    "        if i == 0:\n",
    "            linha[0] = 'Ano Referência'\n",
    "            linha = linha[:-10]\n",
    "            header = linha\n",
    "        else:\n",
    "            linha = linha[:-10]\n",
    "            arquivo_2021.append(linha)\n",
    "\n",
    "arquivo_2021 = pd.DataFrame(arquivo_2021, columns=header)\n",
    "df.append(arquivo_2021)\n",
    "del(arquivo_2021)    "
   ]
  },
  {
   "cell_type": "markdown",
   "id": "ed513326",
   "metadata": {},
   "source": [
    "Carregando e formatando a base referente 2022. Foi necesário realizar split das colunas separando por `,`, remover caracteres adicionais e concatenar o `Valor Pago` que está separado em duas colunas"
   ]
  },
  {
   "cell_type": "code",
   "execution_count": null,
   "id": "1a3e48e9",
   "metadata": {},
   "outputs": [],
   "source": [
    "caminho = os.path.join(diretorio, arquivos[-2])\n",
    "header = None\n",
    "arquivo_2022 = []\n",
    "with open(caminho, 'r', encoding='latin-1') as f:\n",
    "    data = csv.reader(f, delimiter=';')\n",
    "    for i,linha in enumerate(data):\n",
    "        if i > 4:\n",
    "            linha = linha[0].split(',')\n",
    "            if i > 5:\n",
    "                linha[-1] = linha[-1].replace('\"', '')\n",
    "                linha[-2] = linha[-2].replace('\"', '')\n",
    "                aux = linha[-2] + ',' + linha[-1]\n",
    "                linha = linha[:-2]\n",
    "                linha.append(aux)\n",
    "                linha[-1] = linha[-1][3:]\n",
    "            arquivo_2022.append(linha)\n",
    "            if i >= 10:\n",
    "                break\n",
    "\n",
    "header = arquivo_2022[0]\n",
    "arquivo_2022 = arquivo_2022[1:]\n",
    "arquivo_2022 = pd.DataFrame(arquivo_2022, columns=header)\n",
    "df.append(arquivo_2022)\n",
    "del(arquivo_2022)"
   ]
  },
  {
   "cell_type": "markdown",
   "id": "3c5d8403",
   "metadata": {},
   "source": [
    "Carregando e formatando a base referente 2023. Remoção de caracteres desnecessários, assim como a remoção de colunas adicionais"
   ]
  },
  {
   "cell_type": "code",
   "execution_count": null,
   "id": "15ef2021",
   "metadata": {},
   "outputs": [],
   "source": [
    "caminho = os.path.join(diretorio, arquivos[-1])\n",
    "header = None\n",
    "arquivo_2023 = []\n",
    "with open(caminho, 'r', encoding='utf-8') as f:\n",
    "    data = csv.reader(f, delimiter=';')\n",
    "    for i,linha in enumerate(data):\n",
    "        if i > 4:\n",
    "            linha = linha[:27]\n",
    "            if i == 5:\n",
    "                header = linha\n",
    "            if i > 5:\n",
    "                linha[-1] = linha[-1][3:]\n",
    "                linha[-1] = linha[-1].replace('.','')\n",
    "                arquivo_2023.append(linha)\n",
    "\n",
    "arquivo_2023 = pd.DataFrame(arquivo_2023, columns=header)\n",
    "df.append(arquivo_2023)\n",
    "del(arquivo_2023)"
   ]
  },
  {
   "cell_type": "markdown",
   "id": "48e5bbc3",
   "metadata": {},
   "source": [
    "Criação do dataset como a concatenação das base de dados"
   ]
  },
  {
   "cell_type": "code",
   "execution_count": null,
   "id": "8c1b1f94",
   "metadata": {},
   "outputs": [],
   "source": [
    "dataset = pd.concat(df, axis=0, ignore_index=True)\n",
    "del(df)"
   ]
  },
  {
   "cell_type": "code",
   "execution_count": null,
   "id": "4c77d754",
   "metadata": {},
   "outputs": [],
   "source": [
    "dataset.head()"
   ]
  },
  {
   "cell_type": "markdown",
   "id": "51268c28",
   "metadata": {},
   "source": [
    "## Pré processamento dos dados"
   ]
  },
  {
   "cell_type": "markdown",
   "id": "99076a07",
   "metadata": {},
   "source": [
    "Verificando os tipos de dados no dataset."
   ]
  },
  {
   "cell_type": "code",
   "execution_count": null,
   "id": "b1825a2d",
   "metadata": {},
   "outputs": [],
   "source": [
    "dataset.info()"
   ]
  }
 ],
 "metadata": {
  "kernelspec": {
   "display_name": ".venv",
   "language": "python",
   "name": "python3"
  },
  "language_info": {
   "codemirror_mode": {
    "name": "ipython",
    "version": 3
   },
   "file_extension": ".py",
   "mimetype": "text/x-python",
   "name": "python",
   "nbconvert_exporter": "python",
   "pygments_lexer": "ipython3",
   "version": "3.12.3"
  }
 },
 "nbformat": 4,
 "nbformat_minor": 5
}
