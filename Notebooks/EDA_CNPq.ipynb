{
 "cells": [
  {
   "cell_type": "markdown",
   "id": "0266d0bd",
   "metadata": {},
   "source": [
    "# **UNIVERSIDADE FEDERAL DO RIO GRANDE DO NORTE**\n",
    "\n",
    "## **INSTITUTO METRÓPOLE DIGITAL**\n",
    "\n",
    "### **CIÊNCIA DE DADOS**\n",
    "\n",
    "DOCENETE: DANIEL SABINO\n",
    "\n",
    "DISCENTES: EDUARDA CHIESA E SIDNEY ALVES"
   ]
  },
  {
   "cell_type": "markdown",
   "id": "88dc6147",
   "metadata": {},
   "source": [
    "## Importação das bibliotecas e carregamento da base de dados"
   ]
  },
  {
   "cell_type": "code",
   "execution_count": 1,
   "id": "501f5997",
   "metadata": {},
   "outputs": [],
   "source": [
    "import csv\n",
    "import matplotlib.pyplot as plt\n",
    "import numpy as np\n",
    "import os\n",
    "import pandas as pd"
   ]
  },
  {
   "cell_type": "markdown",
   "id": "bd638b15",
   "metadata": {},
   "source": [
    "### Formatando base de dados"
   ]
  },
  {
   "cell_type": "markdown",
   "id": "d0517a9a",
   "metadata": {},
   "source": [
    "Acessando os arquivos"
   ]
  },
  {
   "cell_type": "code",
   "execution_count": 2,
   "id": "04e69ff1",
   "metadata": {},
   "outputs": [
    {
     "name": "stdout",
     "output_type": "stream",
     "text": [
      "Quantidade de arquivos: 22\n",
      "Listagem dos arquivos:\n",
      "\t investimentos_cnpq_2002.csv\n",
      "\t investimentos_cnpq_2003.csv\n",
      "\t investimentos_cnpq_2004.csv\n",
      "\t investimentos_cnpq_2005.csv\n",
      "\t investimentos_cnpq_2006.csv\n",
      "\t investimentos_cnpq_2007.csv\n",
      "\t investimentos_cnpq_2008.csv\n",
      "\t investimentos_cnpq_2009.csv\n",
      "\t investimentos_cnpq_2010.csv\n",
      "\t investimentos_cnpq_2011.csv\n",
      "\t investimentos_cnpq_2012.csv\n",
      "\t investimentos_cnpq_2013.csv\n",
      "\t investimentos_cnpq_2014.csv\n",
      "\t investimentos_cnpq_2015.csv\n",
      "\t investimentos_cnpq_2016.csv\n",
      "\t investimentos_cnpq_2017.csv\n",
      "\t investimentos_cnpq_2018.csv\n",
      "\t investimentos_cnpq_2019.csv\n",
      "\t investimentos_cnpq_2020.csv\n",
      "\t investimentos_cnpq_2021.csv\n",
      "\t investimentos_cnpq_2022.csv\n",
      "\t investimentos_cnpq_2023.csv\n"
     ]
    }
   ],
   "source": [
    "diretorio = './Base_Dados'\n",
    "arquivos = os.listdir(diretorio)\n",
    "arquivos.sort()\n",
    "\n",
    "print(f'Quantidade de arquivos: {len(arquivos)}')\n",
    "print('Listagem dos arquivos:')\n",
    "\n",
    "for arquivo in arquivos:\n",
    "    print('\\t', arquivo)"
   ]
  },
  {
   "cell_type": "markdown",
   "id": "320c0f0d",
   "metadata": {},
   "source": [
    "Carregando as bases de dados desde 2002 até 2018, pois ambas possuem o mesmo *encoding = 'latin-1'*"
   ]
  },
  {
   "cell_type": "code",
   "execution_count": 3,
   "id": "41e82c7d",
   "metadata": {},
   "outputs": [],
   "source": [
    "df = []\n",
    "arquivos_2002_2018 = arquivos[:-5]\n",
    "\n",
    "for arquivo in arquivos_2002_2018:\n",
    "\n",
    "    header = None\n",
    "    df_temp = []\n",
    "    caminho = os.path.join(diretorio, arquivo)\n",
    "\n",
    "    with open(caminho, 'r', encoding='latin-1') as f:\n",
    "        data = csv.reader(f, delimiter=',')\n",
    "        for i, linha in enumerate(data):\n",
    "            if i == 0:\n",
    "                header = linha\n",
    "            else:\n",
    "                df_temp.append(linha)\n",
    "    \n",
    "    df.append(pd.DataFrame(df_temp, columns=header))"
   ]
  },
  {
   "cell_type": "code",
   "execution_count": 4,
   "id": "47ff233b",
   "metadata": {},
   "outputs": [
    {
     "name": "stdout",
     "output_type": "stream",
     "text": [
      "Número de linhas x colunas do df de 2002: 21667 x 21\n",
      "Número de linhas x colunas do df de 2003: 34520 x 21\n",
      "Número de linhas x colunas do df de 2004: 42225 x 21\n",
      "Número de linhas x colunas do df de 2005: 44634 x 21\n",
      "Número de linhas x colunas do df de 2006: 48524 x 21\n",
      "Número de linhas x colunas do df de 2007: 59214 x 21\n",
      "Número de linhas x colunas do df de 2008: 94840 x 21\n",
      "Número de linhas x colunas do df de 2009: 127633 x 21\n",
      "Número de linhas x colunas do df de 2010: 157780 x 21\n",
      "Número de linhas x colunas do df de 2011: 169064 x 21\n",
      "Número de linhas x colunas do df de 2012: 182193 x 21\n",
      "Número de linhas x colunas do df de 2013: 195332 x 21\n",
      "Número de linhas x colunas do df de 2014: 207455 x 21\n",
      "Número de linhas x colunas do df de 2015: 206491 x 21\n",
      "Número de linhas x colunas do df de 2016: 171675 x 21\n",
      "Número de linhas x colunas do df de 2017: 153539 x 21\n",
      "Número de linhas x colunas do df de 2018: 155731 x 21\n"
     ]
    }
   ],
   "source": [
    "for i, data in enumerate(df):\n",
    "    print(f'Número de linhas x colunas do df de {2002+i}: {len(data)} x {len(data.columns)}')"
   ]
  },
  {
   "cell_type": "markdown",
   "id": "669babbb",
   "metadata": {},
   "source": [
    "Carregando e formatando a base referente 2019. Essa base necessita concatenar *Valor Pago*, pois ao carregar e o separador é `,` ; assim o valor é separado em parte inteira e parte decimal, além de adicionar `,00` em valores não decimais"
   ]
  },
  {
   "cell_type": "code",
   "execution_count": 5,
   "id": "c0cc0d82",
   "metadata": {},
   "outputs": [],
   "source": [
    "caminho = os.path.join(diretorio, arquivos[-5])\n",
    "header = None\n",
    "arquivo_2019 = []\n",
    "with open(caminho, 'r', encoding='latin-1') as f:\n",
    "    data = csv.reader(f)\n",
    "    for i,linha in enumerate(data):\n",
    "        if i == 0:\n",
    "            header = linha\n",
    "        else:\n",
    "            if len(linha) == 21:\n",
    "                linha[-1] = float(linha[-1].replace(',', ''))\n",
    "                arquivo_2019.append(linha)\n",
    "            if len(linha) > 21:\n",
    "                aux = float(linha[-2].replace(',', ''))\n",
    "                linha[:] = linha[:-2]\n",
    "                linha.append(aux)\n",
    "                arquivo_2019.append(linha)\n",
    "\n",
    "arquivo_2019 = pd.DataFrame(arquivo_2019, columns=header)\n",
    "df.append(arquivo_2019)\n",
    "del(arquivo_2019)"
   ]
  },
  {
   "cell_type": "markdown",
   "id": "3e9b8b21",
   "metadata": {},
   "source": [
    "Carregando e formatando a base referente 2020. A base vem com uma coluna extra referente aos índices e o *Valor Pago* necessia adicionar `,00`"
   ]
  },
  {
   "cell_type": "code",
   "execution_count": 6,
   "id": "fd8ecfe2",
   "metadata": {},
   "outputs": [],
   "source": [
    "caminho = os.path.join(diretorio, arquivos[-4])\n",
    "header = None\n",
    "arquivo_2020 = []\n",
    "with open(caminho, 'r', encoding='latin-1') as f:\n",
    "    data = csv.reader(f, delimiter=';')\n",
    "    for i,linha in enumerate(data):\n",
    "        if i == 0:\n",
    "            header = linha[1:]\n",
    "        else:\n",
    "            if len(linha) > 21:\n",
    "                linha = linha[1:]\n",
    "                linha[-1] = float(linha[-1].replace(',', ''))\n",
    "            arquivo_2020.append(linha)\n",
    "\n",
    "arquivo_2020 = pd.DataFrame(arquivo_2020, columns=header)\n",
    "df.append(arquivo_2020)\n",
    "del(arquivo_2020)"
   ]
  },
  {
   "cell_type": "markdown",
   "id": "3ca8f941",
   "metadata": {},
   "source": [
    "Carregando e formatando a base referente 2021. Corrigir a primeira coluna que está com caracteres, além de remover 10 colunas vazias"
   ]
  },
  {
   "cell_type": "code",
   "execution_count": 7,
   "id": "1a22928d",
   "metadata": {},
   "outputs": [],
   "source": [
    "caminho = os.path.join(diretorio, arquivos[-3])\n",
    "header = None\n",
    "arquivo_2021 = []\n",
    "with open(caminho, 'r', encoding='utf-8') as f:\n",
    "    data = csv.reader(f, delimiter=';')\n",
    "    for i,linha in enumerate(data):\n",
    "        if i == 0:\n",
    "            linha[0] = 'Ano Referência'\n",
    "            linha = linha[:-10]\n",
    "            header = linha\n",
    "        else:\n",
    "            linha = linha[:-10]\n",
    "            linha[-1] = float(linha[-1].replace('.', '').replace(',', '.'))\n",
    "            arquivo_2021.append(linha)\n",
    "\n",
    "arquivo_2021 = pd.DataFrame(arquivo_2021, columns=header)\n",
    "df.append(arquivo_2021)\n",
    "del(arquivo_2021)    "
   ]
  },
  {
   "cell_type": "markdown",
   "id": "ed513326",
   "metadata": {},
   "source": [
    "Carregando e formatando a base referente 2022. Foi necesário realizar split das colunas separando por `,`, remover caracteres adicionais e concatenar o `Valor Pago` que está separado em duas colunas"
   ]
  },
  {
   "cell_type": "code",
   "execution_count": 9,
   "id": "1a3e48e9",
   "metadata": {},
   "outputs": [],
   "source": [
    "caminho = os.path.join(diretorio, arquivos[-2])\n",
    "header = None\n",
    "arquivo_2022 = []\n",
    "with open(caminho, 'r', encoding='latin-1') as f:\n",
    "    data = csv.reader(f, delimiter=';')\n",
    "    for i,linha in enumerate(data):\n",
    "        if i > 4:\n",
    "            linha = linha[0].split(',')\n",
    "            if i > 5:\n",
    "                linha[-1] = linha[-1].replace('\"', '')\n",
    "                linha[-2] = linha[-2].replace('\"', '')\n",
    "                aux = linha[-2]\n",
    "                linha = linha[:-2]\n",
    "                linha.append(aux)\n",
    "                linha[-1] = linha[-1][3:]\n",
    "                linha[-1] = float(linha[-1])\n",
    "            arquivo_2022.append(linha)\n",
    "            if i >= 10:\n",
    "                break\n",
    "\n",
    "header = arquivo_2022[0]\n",
    "arquivo_2022 = arquivo_2022[1:]\n",
    "arquivo_2022 = pd.DataFrame(arquivo_2022, columns=header)\n",
    "df.append(arquivo_2022)\n",
    "del(arquivo_2022)"
   ]
  },
  {
   "cell_type": "markdown",
   "id": "3c5d8403",
   "metadata": {},
   "source": [
    "Carregando e formatando a base referente 2023. Remoção de caracteres desnecessários, assim como a remoção de colunas adicionais"
   ]
  },
  {
   "cell_type": "code",
   "execution_count": 11,
   "id": "15ef2021",
   "metadata": {},
   "outputs": [],
   "source": [
    "caminho = os.path.join(diretorio, arquivos[-1])\n",
    "header = None\n",
    "arquivo_2023 = []\n",
    "with open(caminho, 'r', encoding='utf-8') as f:\n",
    "    data = csv.reader(f, delimiter=';')\n",
    "    for i,linha in enumerate(data):\n",
    "        if i > 4:\n",
    "            linha = linha[:27]\n",
    "            if i == 5:\n",
    "                header = linha\n",
    "            if i > 5:\n",
    "                linha[-1] = linha[-1][3:]\n",
    "                linha[-1] = linha[-1].replace('.','')\n",
    "                linha[-1] = float(linha[-1].replace(',', '.'))\n",
    "                arquivo_2023.append(linha)\n",
    "\n",
    "arquivo_2023 = pd.DataFrame(arquivo_2023, columns=header)\n",
    "df.append(arquivo_2023)\n",
    "del(arquivo_2023)"
   ]
  },
  {
   "cell_type": "markdown",
   "id": "48e5bbc3",
   "metadata": {},
   "source": [
    "Criação do dataset como a concatenação das base de dados"
   ]
  },
  {
   "cell_type": "code",
   "execution_count": 12,
   "id": "8c1b1f94",
   "metadata": {},
   "outputs": [],
   "source": [
    "dataset = pd.concat(df, axis=0, ignore_index=True)\n",
    "del(df)"
   ]
  },
  {
   "cell_type": "code",
   "execution_count": 13,
   "id": "4c77d754",
   "metadata": {},
   "outputs": [
    {
     "data": {
      "text/html": [
       "<div>\n",
       "<style scoped>\n",
       "    .dataframe tbody tr th:only-of-type {\n",
       "        vertical-align: middle;\n",
       "    }\n",
       "\n",
       "    .dataframe tbody tr th {\n",
       "        vertical-align: top;\n",
       "    }\n",
       "\n",
       "    .dataframe thead th {\n",
       "        text-align: right;\n",
       "    }\n",
       "</style>\n",
       "<table border=\"1\" class=\"dataframe\">\n",
       "  <thead>\n",
       "    <tr style=\"text-align: right;\">\n",
       "      <th></th>\n",
       "      <th>Ano Referência</th>\n",
       "      <th>Processo</th>\n",
       "      <th>Beneficiário</th>\n",
       "      <th>Linha de Fomento</th>\n",
       "      <th>Modalidade</th>\n",
       "      <th>Categoria/Nível</th>\n",
       "      <th>Nome Chamada</th>\n",
       "      <th>Programa CNPq</th>\n",
       "      <th>Grande Área</th>\n",
       "      <th>Área</th>\n",
       "      <th>...</th>\n",
       "      <th>Região</th>\n",
       "      <th>Título do Projeto</th>\n",
       "      <th>Palavra Chave</th>\n",
       "      <th>UO</th>\n",
       "      <th>Programa PPA</th>\n",
       "      <th>Ação PPA</th>\n",
       "      <th>Natureza de Despesa</th>\n",
       "      <th>Data Início Processo</th>\n",
       "      <th>Data Término Processo</th>\n",
       "      <th>Região Destino</th>\n",
       "    </tr>\n",
       "  </thead>\n",
       "  <tbody>\n",
       "    <tr>\n",
       "      <th>0</th>\n",
       "      <td>2002</td>\n",
       "      <td>130942/2000-6</td>\n",
       "      <td>Abad Oliveira Souza Júnior</td>\n",
       "      <td>Bolsas de Mestrado</td>\n",
       "      <td>GM - Mestrado</td>\n",
       "      <td></td>\n",
       "      <td></td>\n",
       "      <td>Programa Básico de Geociências: Geofísica e Ge...</td>\n",
       "      <td>Ciências Exatas e da Terra</td>\n",
       "      <td>Geociências</td>\n",
       "      <td>...</td>\n",
       "      <td>NaN</td>\n",
       "      <td>NaN</td>\n",
       "      <td>NaN</td>\n",
       "      <td>NaN</td>\n",
       "      <td>NaN</td>\n",
       "      <td>NaN</td>\n",
       "      <td>NaN</td>\n",
       "      <td>NaN</td>\n",
       "      <td>NaN</td>\n",
       "      <td>NaN</td>\n",
       "    </tr>\n",
       "    <tr>\n",
       "      <th>1</th>\n",
       "      <td>2002</td>\n",
       "      <td>131008/2001-3</td>\n",
       "      <td>Abel Batista de Oliveira</td>\n",
       "      <td>Bolsas de Mestrado</td>\n",
       "      <td>GM - Mestrado</td>\n",
       "      <td></td>\n",
       "      <td></td>\n",
       "      <td>PROGRAMA BASICO DE AGRONOMIA</td>\n",
       "      <td>Ciências Agrárias</td>\n",
       "      <td>Agronomia</td>\n",
       "      <td>...</td>\n",
       "      <td>NaN</td>\n",
       "      <td>NaN</td>\n",
       "      <td>NaN</td>\n",
       "      <td>NaN</td>\n",
       "      <td>NaN</td>\n",
       "      <td>NaN</td>\n",
       "      <td>NaN</td>\n",
       "      <td>NaN</td>\n",
       "      <td>NaN</td>\n",
       "      <td>NaN</td>\n",
       "    </tr>\n",
       "    <tr>\n",
       "      <th>2</th>\n",
       "      <td>2002</td>\n",
       "      <td>131008/2001-3</td>\n",
       "      <td>Abel Batista de Oliveira</td>\n",
       "      <td>Bolsas de Mestrado</td>\n",
       "      <td>GM - Mestrado</td>\n",
       "      <td></td>\n",
       "      <td>Cotas do Programa de Pós-Graduação</td>\n",
       "      <td>PROGRAMA BASICO DE AGRONOMIA</td>\n",
       "      <td>Ciências Agrárias</td>\n",
       "      <td>Agronomia</td>\n",
       "      <td>...</td>\n",
       "      <td>NaN</td>\n",
       "      <td>NaN</td>\n",
       "      <td>NaN</td>\n",
       "      <td>NaN</td>\n",
       "      <td>NaN</td>\n",
       "      <td>NaN</td>\n",
       "      <td>NaN</td>\n",
       "      <td>NaN</td>\n",
       "      <td>NaN</td>\n",
       "      <td>NaN</td>\n",
       "    </tr>\n",
       "    <tr>\n",
       "      <th>3</th>\n",
       "      <td>2002</td>\n",
       "      <td>132920/2002-6</td>\n",
       "      <td>Abel Bemvenuti</td>\n",
       "      <td>Bolsas de Mestrado</td>\n",
       "      <td>GM - Mestrado</td>\n",
       "      <td></td>\n",
       "      <td>Cotas do Programa de Pós-Graduação</td>\n",
       "      <td>PROGRAMA BASICO DE BIOFISICA</td>\n",
       "      <td>Ciências Biológicas</td>\n",
       "      <td>Biofísica</td>\n",
       "      <td>...</td>\n",
       "      <td>NaN</td>\n",
       "      <td>NaN</td>\n",
       "      <td>NaN</td>\n",
       "      <td>NaN</td>\n",
       "      <td>NaN</td>\n",
       "      <td>NaN</td>\n",
       "      <td>NaN</td>\n",
       "      <td>NaN</td>\n",
       "      <td>NaN</td>\n",
       "      <td>NaN</td>\n",
       "    </tr>\n",
       "    <tr>\n",
       "      <th>4</th>\n",
       "      <td>2002</td>\n",
       "      <td>141578/2002-5</td>\n",
       "      <td>Abel Guilhermino da Silva Filho</td>\n",
       "      <td>Bolsas de Doutorado</td>\n",
       "      <td>GD - Doutorado</td>\n",
       "      <td></td>\n",
       "      <td>Cotas do Programa de Pós-Graduação</td>\n",
       "      <td>PROGRAMA BASICO DE CIENCIA DA COMPUTACAO</td>\n",
       "      <td>Ciências Exatas e da Terra</td>\n",
       "      <td>Ciência da Computação</td>\n",
       "      <td>...</td>\n",
       "      <td>NaN</td>\n",
       "      <td>NaN</td>\n",
       "      <td>NaN</td>\n",
       "      <td>NaN</td>\n",
       "      <td>NaN</td>\n",
       "      <td>NaN</td>\n",
       "      <td>NaN</td>\n",
       "      <td>NaN</td>\n",
       "      <td>NaN</td>\n",
       "      <td>NaN</td>\n",
       "    </tr>\n",
       "  </tbody>\n",
       "</table>\n",
       "<p>5 rows × 31 columns</p>\n",
       "</div>"
      ],
      "text/plain": [
       "  Ano Referência       Processo                     Beneficiário  \\\n",
       "0           2002  130942/2000-6       Abad Oliveira Souza Júnior   \n",
       "1           2002  131008/2001-3         Abel Batista de Oliveira   \n",
       "2           2002  131008/2001-3         Abel Batista de Oliveira   \n",
       "3           2002  132920/2002-6                   Abel Bemvenuti   \n",
       "4           2002  141578/2002-5  Abel Guilhermino da Silva Filho   \n",
       "\n",
       "      Linha de Fomento      Modalidade Categoria/Nível  \\\n",
       "0   Bolsas de Mestrado   GM - Mestrado                   \n",
       "1   Bolsas de Mestrado   GM - Mestrado                   \n",
       "2   Bolsas de Mestrado   GM - Mestrado                   \n",
       "3   Bolsas de Mestrado   GM - Mestrado                   \n",
       "4  Bolsas de Doutorado  GD - Doutorado                   \n",
       "\n",
       "                         Nome Chamada  \\\n",
       "0                                       \n",
       "1                                       \n",
       "2  Cotas do Programa de Pós-Graduação   \n",
       "3  Cotas do Programa de Pós-Graduação   \n",
       "4  Cotas do Programa de Pós-Graduação   \n",
       "\n",
       "                                       Programa CNPq  \\\n",
       "0  Programa Básico de Geociências: Geofísica e Ge...   \n",
       "1                       PROGRAMA BASICO DE AGRONOMIA   \n",
       "2                       PROGRAMA BASICO DE AGRONOMIA   \n",
       "3                       PROGRAMA BASICO DE BIOFISICA   \n",
       "4           PROGRAMA BASICO DE CIENCIA DA COMPUTACAO   \n",
       "\n",
       "                  Grande Área                   Área  ... Região  \\\n",
       "0  Ciências Exatas e da Terra            Geociências  ...    NaN   \n",
       "1           Ciências Agrárias              Agronomia  ...    NaN   \n",
       "2           Ciências Agrárias              Agronomia  ...    NaN   \n",
       "3         Ciências Biológicas              Biofísica  ...    NaN   \n",
       "4  Ciências Exatas e da Terra  Ciência da Computação  ...    NaN   \n",
       "\n",
       "  Título do Projeto Palavra Chave   UO Programa PPA Ação PPA  \\\n",
       "0               NaN           NaN  NaN          NaN      NaN   \n",
       "1               NaN           NaN  NaN          NaN      NaN   \n",
       "2               NaN           NaN  NaN          NaN      NaN   \n",
       "3               NaN           NaN  NaN          NaN      NaN   \n",
       "4               NaN           NaN  NaN          NaN      NaN   \n",
       "\n",
       "  Natureza de Despesa Data Início Processo Data Término Processo  \\\n",
       "0                 NaN                  NaN                   NaN   \n",
       "1                 NaN                  NaN                   NaN   \n",
       "2                 NaN                  NaN                   NaN   \n",
       "3                 NaN                  NaN                   NaN   \n",
       "4                 NaN                  NaN                   NaN   \n",
       "\n",
       "  Região Destino  \n",
       "0            NaN  \n",
       "1            NaN  \n",
       "2            NaN  \n",
       "3            NaN  \n",
       "4            NaN  \n",
       "\n",
       "[5 rows x 31 columns]"
      ]
     },
     "execution_count": 13,
     "metadata": {},
     "output_type": "execute_result"
    }
   ],
   "source": [
    "dataset.head()"
   ]
  },
  {
   "cell_type": "markdown",
   "id": "51268c28",
   "metadata": {},
   "source": [
    "## Pré processamento dos dados"
   ]
  },
  {
   "cell_type": "markdown",
   "id": "99076a07",
   "metadata": {},
   "source": [
    "Verificando os tipos de dados no dataset."
   ]
  },
  {
   "cell_type": "code",
   "execution_count": 14,
   "id": "b1825a2d",
   "metadata": {},
   "outputs": [
    {
     "name": "stdout",
     "output_type": "stream",
     "text": [
      "<class 'pandas.core.frame.DataFrame'>\n",
      "RangeIndex: 2728155 entries, 0 to 2728154\n",
      "Data columns (total 31 columns):\n",
      " #   Column                     Dtype \n",
      "---  ------                     ----- \n",
      " 0   Ano Referência             object\n",
      " 1   Processo                   object\n",
      " 2   Beneficiário               object\n",
      " 3   Linha de Fomento           object\n",
      " 4   Modalidade                 object\n",
      " 5   Categoria/Nível            object\n",
      " 6   Nome Chamada               object\n",
      " 7   Programa CNPq              object\n",
      " 8   Grande Área                object\n",
      " 9   Área                       object\n",
      " 10  Subárea                    object\n",
      " 11  Instituição Origem         object\n",
      " 12  Sigla UF Origem            object\n",
      " 13  País Origem                object\n",
      " 14  Instituição Destino        object\n",
      " 15  Sigla Instituição Destino  object\n",
      " 16  Sigla Instituição Macro    object\n",
      " 17  Cidade Destino             object\n",
      " 18  Sigla UF Destino           object\n",
      " 19  País Destino               object\n",
      " 20  Valor Pago                 object\n",
      " 21  Região                     object\n",
      " 22  Título do Projeto          object\n",
      " 23  Palavra Chave              object\n",
      " 24  UO                         object\n",
      " 25  Programa PPA               object\n",
      " 26  Ação PPA                   object\n",
      " 27  Natureza de Despesa        object\n",
      " 28  Data Início Processo       object\n",
      " 29  Data Término Processo      object\n",
      " 30  Região Destino             object\n",
      "dtypes: object(31)\n",
      "memory usage: 645.2+ MB\n"
     ]
    }
   ],
   "source": [
    "dataset.info()"
   ]
  },
  {
   "cell_type": "markdown",
   "id": "6cc4c294",
   "metadata": {},
   "source": [
    "Verificando todas as colunas existentes do dataset"
   ]
  },
  {
   "cell_type": "code",
   "execution_count": 15,
   "id": "f4355b3c",
   "metadata": {},
   "outputs": [
    {
     "data": {
      "text/plain": [
       "Index(['Ano Referência', 'Processo', 'Beneficiário', 'Linha de Fomento',\n",
       "       'Modalidade', 'Categoria/Nível', 'Nome Chamada', 'Programa CNPq',\n",
       "       'Grande Área', 'Área', 'Subárea', 'Instituição Origem',\n",
       "       'Sigla UF Origem', 'País Origem', 'Instituição Destino',\n",
       "       'Sigla Instituição Destino', 'Sigla Instituição Macro',\n",
       "       'Cidade Destino', 'Sigla UF Destino', 'País Destino', 'Valor Pago',\n",
       "       'Região', 'Título do Projeto', 'Palavra Chave', 'UO', 'Programa PPA',\n",
       "       'Ação PPA', 'Natureza de Despesa', 'Data Início Processo',\n",
       "       'Data Término Processo', 'Região Destino'],\n",
       "      dtype='object')"
      ]
     },
     "execution_count": 15,
     "metadata": {},
     "output_type": "execute_result"
    }
   ],
   "source": [
    "dataset.columns"
   ]
  },
  {
   "cell_type": "markdown",
   "id": "468be282",
   "metadata": {},
   "source": [
    "Mantendo as colunas em comum entre as base de dados"
   ]
  },
  {
   "cell_type": "code",
   "execution_count": 16,
   "id": "a8828d03",
   "metadata": {},
   "outputs": [],
   "source": [
    "lista_interesse = ['Ano Referência', 'Processo', 'Beneficiário', 'Linha de Fomento', 'Modalidade', 'Categoria/Nível', 'Nome Chamada', 'Programa CNPq', 'Grande Área', 'Área', 'Subárea', 'Instituição Origem', 'Sigla UF Origem', 'País Origem', 'Instituição Destino', 'Sigla Instituição Destino', 'Sigla Instituição Macro', 'Cidade Destino', 'Sigla UF Destino', 'País Destino', 'Valor Pago']"
   ]
  },
  {
   "cell_type": "code",
   "execution_count": 17,
   "id": "fec06127",
   "metadata": {},
   "outputs": [
    {
     "name": "stdout",
     "output_type": "stream",
     "text": [
      "['Ano Referência', 'Processo', 'Beneficiário', 'Linha de Fomento', 'Modalidade', 'Categoria/Nível', 'Nome Chamada', 'Programa CNPq', 'Grande Área', 'Área', 'Subárea', 'Instituição Origem', 'Sigla UF Origem', 'País Origem', 'Instituição Destino', 'Sigla Instituição Destino', 'Sigla Instituição Macro', 'Cidade Destino', 'Sigla UF Destino', 'País Destino', 'Valor Pago']\n"
     ]
    }
   ],
   "source": [
    "col_exist = [coluna for coluna in lista_interesse if coluna in dataset.columns]\n",
    "print(col_exist)"
   ]
  },
  {
   "cell_type": "code",
   "execution_count": 18,
   "id": "fb95587e",
   "metadata": {},
   "outputs": [
    {
     "data": {
      "text/html": [
       "<div>\n",
       "<style scoped>\n",
       "    .dataframe tbody tr th:only-of-type {\n",
       "        vertical-align: middle;\n",
       "    }\n",
       "\n",
       "    .dataframe tbody tr th {\n",
       "        vertical-align: top;\n",
       "    }\n",
       "\n",
       "    .dataframe thead th {\n",
       "        text-align: right;\n",
       "    }\n",
       "</style>\n",
       "<table border=\"1\" class=\"dataframe\">\n",
       "  <thead>\n",
       "    <tr style=\"text-align: right;\">\n",
       "      <th></th>\n",
       "      <th>Ano Referência</th>\n",
       "      <th>Processo</th>\n",
       "      <th>Beneficiário</th>\n",
       "      <th>Linha de Fomento</th>\n",
       "      <th>Modalidade</th>\n",
       "      <th>Categoria/Nível</th>\n",
       "      <th>Nome Chamada</th>\n",
       "      <th>Programa CNPq</th>\n",
       "      <th>Grande Área</th>\n",
       "      <th>Área</th>\n",
       "      <th>...</th>\n",
       "      <th>Instituição Origem</th>\n",
       "      <th>Sigla UF Origem</th>\n",
       "      <th>País Origem</th>\n",
       "      <th>Instituição Destino</th>\n",
       "      <th>Sigla Instituição Destino</th>\n",
       "      <th>Sigla Instituição Macro</th>\n",
       "      <th>Cidade Destino</th>\n",
       "      <th>Sigla UF Destino</th>\n",
       "      <th>País Destino</th>\n",
       "      <th>Valor Pago</th>\n",
       "    </tr>\n",
       "  </thead>\n",
       "  <tbody>\n",
       "    <tr>\n",
       "      <th>0</th>\n",
       "      <td>2002</td>\n",
       "      <td>130942/2000-6</td>\n",
       "      <td>Abad Oliveira Souza Júnior</td>\n",
       "      <td>Bolsas de Mestrado</td>\n",
       "      <td>GM - Mestrado</td>\n",
       "      <td></td>\n",
       "      <td></td>\n",
       "      <td>Programa Básico de Geociências: Geofísica e Ge...</td>\n",
       "      <td>Ciências Exatas e da Terra</td>\n",
       "      <td>Geociências</td>\n",
       "      <td>...</td>\n",
       "      <td></td>\n",
       "      <td></td>\n",
       "      <td>-</td>\n",
       "      <td>Universidade de São Paulo</td>\n",
       "      <td>USP</td>\n",
       "      <td>USP</td>\n",
       "      <td>São Paulo</td>\n",
       "      <td>SP</td>\n",
       "      <td>BRA - Brasil</td>\n",
       "      <td>1449,04</td>\n",
       "    </tr>\n",
       "    <tr>\n",
       "      <th>1</th>\n",
       "      <td>2002</td>\n",
       "      <td>131008/2001-3</td>\n",
       "      <td>Abel Batista de Oliveira</td>\n",
       "      <td>Bolsas de Mestrado</td>\n",
       "      <td>GM - Mestrado</td>\n",
       "      <td></td>\n",
       "      <td></td>\n",
       "      <td>PROGRAMA BASICO DE AGRONOMIA</td>\n",
       "      <td>Ciências Agrárias</td>\n",
       "      <td>Agronomia</td>\n",
       "      <td>...</td>\n",
       "      <td></td>\n",
       "      <td></td>\n",
       "      <td>-</td>\n",
       "      <td>Universidade Federal Rural de Pernambuco</td>\n",
       "      <td>UFRPE</td>\n",
       "      <td>UFRPE</td>\n",
       "      <td>Recife</td>\n",
       "      <td>PE</td>\n",
       "      <td>BRA - Brasil</td>\n",
       "      <td>7245,2</td>\n",
       "    </tr>\n",
       "    <tr>\n",
       "      <th>2</th>\n",
       "      <td>2002</td>\n",
       "      <td>131008/2001-3</td>\n",
       "      <td>Abel Batista de Oliveira</td>\n",
       "      <td>Bolsas de Mestrado</td>\n",
       "      <td>GM - Mestrado</td>\n",
       "      <td></td>\n",
       "      <td>Cotas do Programa de Pós-Graduação</td>\n",
       "      <td>PROGRAMA BASICO DE AGRONOMIA</td>\n",
       "      <td>Ciências Agrárias</td>\n",
       "      <td>Agronomia</td>\n",
       "      <td>...</td>\n",
       "      <td></td>\n",
       "      <td></td>\n",
       "      <td>-</td>\n",
       "      <td>Universidade Federal Rural de Pernambuco</td>\n",
       "      <td>UFRPE</td>\n",
       "      <td>UFRPE</td>\n",
       "      <td>Recife</td>\n",
       "      <td>PE</td>\n",
       "      <td>BRA - Brasil</td>\n",
       "      <td>1449,04</td>\n",
       "    </tr>\n",
       "    <tr>\n",
       "      <th>3</th>\n",
       "      <td>2002</td>\n",
       "      <td>132920/2002-6</td>\n",
       "      <td>Abel Bemvenuti</td>\n",
       "      <td>Bolsas de Mestrado</td>\n",
       "      <td>GM - Mestrado</td>\n",
       "      <td></td>\n",
       "      <td>Cotas do Programa de Pós-Graduação</td>\n",
       "      <td>PROGRAMA BASICO DE BIOFISICA</td>\n",
       "      <td>Ciências Biológicas</td>\n",
       "      <td>Biofísica</td>\n",
       "      <td>...</td>\n",
       "      <td></td>\n",
       "      <td></td>\n",
       "      <td>-</td>\n",
       "      <td>Universidade Federal do Rio de Janeiro</td>\n",
       "      <td>UFRJ</td>\n",
       "      <td>UFRJ</td>\n",
       "      <td>Rio de Janeiro</td>\n",
       "      <td>RJ</td>\n",
       "      <td>BRA - Brasil</td>\n",
       "      <td>3622,6</td>\n",
       "    </tr>\n",
       "    <tr>\n",
       "      <th>4</th>\n",
       "      <td>2002</td>\n",
       "      <td>141578/2002-5</td>\n",
       "      <td>Abel Guilhermino da Silva Filho</td>\n",
       "      <td>Bolsas de Doutorado</td>\n",
       "      <td>GD - Doutorado</td>\n",
       "      <td></td>\n",
       "      <td>Cotas do Programa de Pós-Graduação</td>\n",
       "      <td>PROGRAMA BASICO DE CIENCIA DA COMPUTACAO</td>\n",
       "      <td>Ciências Exatas e da Terra</td>\n",
       "      <td>Ciência da Computação</td>\n",
       "      <td>...</td>\n",
       "      <td></td>\n",
       "      <td></td>\n",
       "      <td>-</td>\n",
       "      <td>Universidade Federal de Pernambuco</td>\n",
       "      <td>UFPE</td>\n",
       "      <td>UFPE</td>\n",
       "      <td>Recife</td>\n",
       "      <td>PE</td>\n",
       "      <td>BRA - Brasil</td>\n",
       "      <td>5364,45</td>\n",
       "    </tr>\n",
       "  </tbody>\n",
       "</table>\n",
       "<p>5 rows × 21 columns</p>\n",
       "</div>"
      ],
      "text/plain": [
       "  Ano Referência       Processo                     Beneficiário  \\\n",
       "0           2002  130942/2000-6       Abad Oliveira Souza Júnior   \n",
       "1           2002  131008/2001-3         Abel Batista de Oliveira   \n",
       "2           2002  131008/2001-3         Abel Batista de Oliveira   \n",
       "3           2002  132920/2002-6                   Abel Bemvenuti   \n",
       "4           2002  141578/2002-5  Abel Guilhermino da Silva Filho   \n",
       "\n",
       "      Linha de Fomento      Modalidade Categoria/Nível  \\\n",
       "0   Bolsas de Mestrado   GM - Mestrado                   \n",
       "1   Bolsas de Mestrado   GM - Mestrado                   \n",
       "2   Bolsas de Mestrado   GM - Mestrado                   \n",
       "3   Bolsas de Mestrado   GM - Mestrado                   \n",
       "4  Bolsas de Doutorado  GD - Doutorado                   \n",
       "\n",
       "                         Nome Chamada  \\\n",
       "0                                       \n",
       "1                                       \n",
       "2  Cotas do Programa de Pós-Graduação   \n",
       "3  Cotas do Programa de Pós-Graduação   \n",
       "4  Cotas do Programa de Pós-Graduação   \n",
       "\n",
       "                                       Programa CNPq  \\\n",
       "0  Programa Básico de Geociências: Geofísica e Ge...   \n",
       "1                       PROGRAMA BASICO DE AGRONOMIA   \n",
       "2                       PROGRAMA BASICO DE AGRONOMIA   \n",
       "3                       PROGRAMA BASICO DE BIOFISICA   \n",
       "4           PROGRAMA BASICO DE CIENCIA DA COMPUTACAO   \n",
       "\n",
       "                  Grande Área                   Área  ... Instituição Origem  \\\n",
       "0  Ciências Exatas e da Terra            Geociências  ...                      \n",
       "1           Ciências Agrárias              Agronomia  ...                      \n",
       "2           Ciências Agrárias              Agronomia  ...                      \n",
       "3         Ciências Biológicas              Biofísica  ...                      \n",
       "4  Ciências Exatas e da Terra  Ciência da Computação  ...                      \n",
       "\n",
       "  Sigla UF Origem País Origem                       Instituição Destino  \\\n",
       "0                          -                  Universidade de São Paulo   \n",
       "1                          -   Universidade Federal Rural de Pernambuco   \n",
       "2                          -   Universidade Federal Rural de Pernambuco   \n",
       "3                          -     Universidade Federal do Rio de Janeiro   \n",
       "4                          -         Universidade Federal de Pernambuco   \n",
       "\n",
       "  Sigla Instituição Destino Sigla Instituição Macro  Cidade Destino  \\\n",
       "0                       USP                     USP       São Paulo   \n",
       "1                     UFRPE                   UFRPE          Recife   \n",
       "2                     UFRPE                   UFRPE          Recife   \n",
       "3                      UFRJ                    UFRJ  Rio de Janeiro   \n",
       "4                      UFPE                    UFPE          Recife   \n",
       "\n",
       "  Sigla UF Destino  País Destino Valor Pago  \n",
       "0               SP  BRA - Brasil    1449,04  \n",
       "1               PE  BRA - Brasil     7245,2  \n",
       "2               PE  BRA - Brasil    1449,04  \n",
       "3               RJ  BRA - Brasil     3622,6  \n",
       "4               PE  BRA - Brasil    5364,45  \n",
       "\n",
       "[5 rows x 21 columns]"
      ]
     },
     "execution_count": 18,
     "metadata": {},
     "output_type": "execute_result"
    }
   ],
   "source": [
    "dataset = dataset[col_exist]\n",
    "dataset.head()"
   ]
  },
  {
   "cell_type": "code",
   "execution_count": 19,
   "id": "b279aeed",
   "metadata": {},
   "outputs": [
    {
     "name": "stdout",
     "output_type": "stream",
     "text": [
      "<class 'pandas.core.frame.DataFrame'>\n",
      "RangeIndex: 2728155 entries, 0 to 2728154\n",
      "Data columns (total 21 columns):\n",
      " #   Column                     Dtype \n",
      "---  ------                     ----- \n",
      " 0   Ano Referência             object\n",
      " 1   Processo                   object\n",
      " 2   Beneficiário               object\n",
      " 3   Linha de Fomento           object\n",
      " 4   Modalidade                 object\n",
      " 5   Categoria/Nível            object\n",
      " 6   Nome Chamada               object\n",
      " 7   Programa CNPq              object\n",
      " 8   Grande Área                object\n",
      " 9   Área                       object\n",
      " 10  Subárea                    object\n",
      " 11  Instituição Origem         object\n",
      " 12  Sigla UF Origem            object\n",
      " 13  País Origem                object\n",
      " 14  Instituição Destino        object\n",
      " 15  Sigla Instituição Destino  object\n",
      " 16  Sigla Instituição Macro    object\n",
      " 17  Cidade Destino             object\n",
      " 18  Sigla UF Destino           object\n",
      " 19  País Destino               object\n",
      " 20  Valor Pago                 object\n",
      "dtypes: object(21)\n",
      "memory usage: 437.1+ MB\n"
     ]
    }
   ],
   "source": [
    "dataset.info()"
   ]
  },
  {
   "cell_type": "markdown",
   "id": "c2a11ff1",
   "metadata": {},
   "source": [
    "*Modalidade* e *Categoria/Nível* trazem a mesma informação em relação as bolsa. O interessão é voltado para as instituições que foram beneficiadas (destino) podendo remover informações da *Origem*. Além disso, o interesse são as bolsas ofertadas no **Brasil**.\n",
    "\n",
    "Referência: [Tabela de Valores de Bolsas no País](https://www.gov.br/cnpq/pt-br/acesso-a-informacao/bolsas-e-auxilios/copy_of_modalidades/tabela-de-valores-no-pais)"
   ]
  },
  {
   "cell_type": "code",
   "execution_count": 20,
   "id": "9326cc17",
   "metadata": {},
   "outputs": [
    {
     "data": {
      "text/plain": [
       "País Destino\n",
       "BRA - Brasil                 2626886\n",
       "ING - Inglaterra               16459\n",
       " -                             12327\n",
       "AUS - Austrália                11614\n",
       "CAN - Canadá                   11013\n",
       "                              ...   \n",
       "RCA - Rep.Centro-Africana          1\n",
       "RS - Sérvia                        1\n",
       "QUE - Quênia                       1\n",
       "BOL - Bolívia                      1\n",
       "MLT - Malta                        1\n",
       "Name: count, Length: 81, dtype: int64"
      ]
     },
     "execution_count": 20,
     "metadata": {},
     "output_type": "execute_result"
    }
   ],
   "source": [
    "dataset['País Destino'].value_counts()"
   ]
  },
  {
   "cell_type": "code",
   "execution_count": 21,
   "id": "2c02c89e",
   "metadata": {},
   "outputs": [],
   "source": [
    "dataset = dataset[dataset['País Destino'] == 'BRA - Brasil']\n",
    "dataset = dataset.drop(columns=['Categoria/Nível', 'Instituição Origem', 'Sigla UF Origem', 'País Origem', 'País Destino'])"
   ]
  },
  {
   "cell_type": "code",
   "execution_count": 22,
   "id": "2954956b",
   "metadata": {},
   "outputs": [
    {
     "name": "stdout",
     "output_type": "stream",
     "text": [
      "<class 'pandas.core.frame.DataFrame'>\n",
      "Index: 2626886 entries, 0 to 2728154\n",
      "Data columns (total 16 columns):\n",
      " #   Column                     Dtype \n",
      "---  ------                     ----- \n",
      " 0   Ano Referência             object\n",
      " 1   Processo                   object\n",
      " 2   Beneficiário               object\n",
      " 3   Linha de Fomento           object\n",
      " 4   Modalidade                 object\n",
      " 5   Nome Chamada               object\n",
      " 6   Programa CNPq              object\n",
      " 7   Grande Área                object\n",
      " 8   Área                       object\n",
      " 9   Subárea                    object\n",
      " 10  Instituição Destino        object\n",
      " 11  Sigla Instituição Destino  object\n",
      " 12  Sigla Instituição Macro    object\n",
      " 13  Cidade Destino             object\n",
      " 14  Sigla UF Destino           object\n",
      " 15  Valor Pago                 object\n",
      "dtypes: object(16)\n",
      "memory usage: 340.7+ MB\n"
     ]
    }
   ],
   "source": [
    "dataset.info()"
   ]
  },
  {
   "cell_type": "markdown",
   "id": "ef253ac9",
   "metadata": {},
   "source": [
    "Formatando *Ano Referência* e *Valor Pago* para valores numéricos."
   ]
  },
  {
   "cell_type": "code",
   "execution_count": 28,
   "id": "723946d5",
   "metadata": {},
   "outputs": [],
   "source": [
    "dataset['Ano Referência'] = dataset['Ano Referência'].replace('', None)\n",
    "dataset['Ano Referência'] = dataset['Ano Referência'].dropna()\n",
    "dataset['Ano Referência'] = dataset['Ano Referência'].astype(float)\n",
    "\n",
    "dataset['Valor Pago'] = dataset['Valor Pago'].str.replace(',', '.', regex=False)\n",
    "dataset['Valor Pago'] = dataset['Valor Pago'].astype(float)"
   ]
  },
  {
   "cell_type": "code",
   "execution_count": 29,
   "id": "b0a1ca6e",
   "metadata": {},
   "outputs": [
    {
     "name": "stdout",
     "output_type": "stream",
     "text": [
      "<class 'pandas.core.frame.DataFrame'>\n",
      "Index: 2626886 entries, 0 to 2728154\n",
      "Data columns (total 16 columns):\n",
      " #   Column                     Dtype  \n",
      "---  ------                     -----  \n",
      " 0   Ano Referência             float64\n",
      " 1   Processo                   object \n",
      " 2   Beneficiário               object \n",
      " 3   Linha de Fomento           object \n",
      " 4   Modalidade                 object \n",
      " 5   Nome Chamada               object \n",
      " 6   Programa CNPq              object \n",
      " 7   Grande Área                object \n",
      " 8   Área                       object \n",
      " 9   Subárea                    object \n",
      " 10  Instituição Destino        object \n",
      " 11  Sigla Instituição Destino  object \n",
      " 12  Sigla Instituição Macro    object \n",
      " 13  Cidade Destino             object \n",
      " 14  Sigla UF Destino           object \n",
      " 15  Valor Pago                 float64\n",
      "dtypes: float64(2), object(14)\n",
      "memory usage: 340.7+ MB\n"
     ]
    }
   ],
   "source": [
    "dataset.info()"
   ]
  },
  {
   "cell_type": "markdown",
   "id": "2023fec0",
   "metadata": {},
   "source": [
    "Para os valores numéricos, iremos observar a sua distribuição."
   ]
  },
  {
   "cell_type": "code",
   "execution_count": 30,
   "id": "6e13a194",
   "metadata": {},
   "outputs": [
    {
     "data": {
      "text/html": [
       "<div>\n",
       "<style scoped>\n",
       "    .dataframe tbody tr th:only-of-type {\n",
       "        vertical-align: middle;\n",
       "    }\n",
       "\n",
       "    .dataframe tbody tr th {\n",
       "        vertical-align: top;\n",
       "    }\n",
       "\n",
       "    .dataframe thead th {\n",
       "        text-align: right;\n",
       "    }\n",
       "</style>\n",
       "<table border=\"1\" class=\"dataframe\">\n",
       "  <thead>\n",
       "    <tr style=\"text-align: right;\">\n",
       "      <th></th>\n",
       "      <th>Ano Referência</th>\n",
       "      <th>Valor Pago</th>\n",
       "    </tr>\n",
       "  </thead>\n",
       "  <tbody>\n",
       "    <tr>\n",
       "      <th>count</th>\n",
       "      <td>2.626885e+06</td>\n",
       "      <td>1.974673e+06</td>\n",
       "    </tr>\n",
       "    <tr>\n",
       "      <th>mean</th>\n",
       "      <td>2.014342e+03</td>\n",
       "      <td>9.569219e+03</td>\n",
       "    </tr>\n",
       "    <tr>\n",
       "      <th>std</th>\n",
       "      <td>5.133148e+00</td>\n",
       "      <td>3.467966e+04</td>\n",
       "    </tr>\n",
       "    <tr>\n",
       "      <th>min</th>\n",
       "      <td>2.060000e+02</td>\n",
       "      <td>-2.415100e+02</td>\n",
       "    </tr>\n",
       "    <tr>\n",
       "      <th>25%</th>\n",
       "      <td>2.011000e+03</td>\n",
       "      <td>1.800000e+03</td>\n",
       "    </tr>\n",
       "    <tr>\n",
       "      <th>50%</th>\n",
       "      <td>2.014000e+03</td>\n",
       "      <td>2.800000e+03</td>\n",
       "    </tr>\n",
       "    <tr>\n",
       "      <th>75%</th>\n",
       "      <td>2.018000e+03</td>\n",
       "      <td>1.217040e+04</td>\n",
       "    </tr>\n",
       "    <tr>\n",
       "      <th>max</th>\n",
       "      <td>2.023000e+03</td>\n",
       "      <td>1.296662e+07</td>\n",
       "    </tr>\n",
       "  </tbody>\n",
       "</table>\n",
       "</div>"
      ],
      "text/plain": [
       "       Ano Referência    Valor Pago\n",
       "count    2.626885e+06  1.974673e+06\n",
       "mean     2.014342e+03  9.569219e+03\n",
       "std      5.133148e+00  3.467966e+04\n",
       "min      2.060000e+02 -2.415100e+02\n",
       "25%      2.011000e+03  1.800000e+03\n",
       "50%      2.014000e+03  2.800000e+03\n",
       "75%      2.018000e+03  1.217040e+04\n",
       "max      2.023000e+03  1.296662e+07"
      ]
     },
     "execution_count": 30,
     "metadata": {},
     "output_type": "execute_result"
    }
   ],
   "source": [
    "dataset.describe()"
   ]
  },
  {
   "cell_type": "markdown",
   "id": "229b9544",
   "metadata": {},
   "source": [
    "Observando o *Ano Referência*."
   ]
  },
  {
   "cell_type": "code",
   "execution_count": 32,
   "id": "2ce504cf",
   "metadata": {},
   "outputs": [
    {
     "data": {
      "image/png": "[encoded data removed]",
      "text/plain": [
       "<Figure size 640x480 with 1 Axes>"
      ]
     },
     "metadata": {},
     "output_type": "display_data"
    }
   ],
   "source": [
    "dataset[['Ano Referência']].boxplot()\n",
    "\n",
    "plt.title('Boxplot de Ano Referência')\n",
    "plt.ylabel('Valores')\n",
    "plt.show()"
   ]
  },
  {
   "cell_type": "markdown",
   "id": "67ec62e2",
   "metadata": {},
   "source": [
    "É observado que há outliers em relação ao Ano Referência, é interessante verificar esses dados, \n",
    "pois durante a coleta pode ocorrer do preenchimento do ano ter sido com a falta de um caractere."
   ]
  },
  {
   "cell_type": "code",
   "execution_count": 35,
   "id": "25872883",
   "metadata": {},
   "outputs": [
    {
     "data": {
      "text/html": [
       "<div>\n",
       "<style scoped>\n",
       "    .dataframe tbody tr th:only-of-type {\n",
       "        vertical-align: middle;\n",
       "    }\n",
       "\n",
       "    .dataframe tbody tr th {\n",
       "        vertical-align: top;\n",
       "    }\n",
       "\n",
       "    .dataframe thead th {\n",
       "        text-align: right;\n",
       "    }\n",
       "</style>\n",
       "<table border=\"1\" class=\"dataframe\">\n",
       "  <thead>\n",
       "    <tr style=\"text-align: right;\">\n",
       "      <th></th>\n",
       "      <th>Ano Referência</th>\n",
       "      <th>Processo</th>\n",
       "      <th>Beneficiário</th>\n",
       "      <th>Linha de Fomento</th>\n",
       "      <th>Modalidade</th>\n",
       "      <th>Nome Chamada</th>\n",
       "      <th>Programa CNPq</th>\n",
       "      <th>Grande Área</th>\n",
       "      <th>Área</th>\n",
       "      <th>Subárea</th>\n",
       "      <th>Instituição Destino</th>\n",
       "      <th>Sigla Instituição Destino</th>\n",
       "      <th>Sigla Instituição Macro</th>\n",
       "      <th>Cidade Destino</th>\n",
       "      <th>Sigla UF Destino</th>\n",
       "      <th>Valor Pago</th>\n",
       "    </tr>\n",
       "  </thead>\n",
       "  <tbody>\n",
       "    <tr>\n",
       "      <th>170521</th>\n",
       "      <td>206.0</td>\n",
       "      <td>470276/2006-1</td>\n",
       "      <td>Lin Chau Ming</td>\n",
       "      <td>Apoio a Projetos de Pesquisas</td>\n",
       "      <td>APQ - Auxílio a Pesquisa</td>\n",
       "      <td>Edital MCT/CNPq 02/2006 - Universal</td>\n",
       "      <td>PROGRAMA BASICO DE BOTANICA</td>\n",
       "      <td>Ciências Biológicas</td>\n",
       "      <td>Botânica</td>\n",
       "      <td>Botânica Aplicada</td>\n",
       "      <td>Departamento de Horticultura</td>\n",
       "      <td>UNESP/BOTUCATU</td>\n",
       "      <td>UNESP</td>\n",
       "      <td>Botucatu</td>\n",
       "      <td>SP</td>\n",
       "      <td>6300.0</td>\n",
       "    </tr>\n",
       "  </tbody>\n",
       "</table>\n",
       "</div>"
      ],
      "text/plain": [
       "        Ano Referência       Processo   Beneficiário  \\\n",
       "170521           206.0  470276/2006-1  Lin Chau Ming   \n",
       "\n",
       "                      Linha de Fomento                Modalidade  \\\n",
       "170521  Apoio a Projetos de Pesquisas   APQ - Auxílio a Pesquisa   \n",
       "\n",
       "                               Nome Chamada                Programa CNPq  \\\n",
       "170521  Edital MCT/CNPq 02/2006 - Universal  PROGRAMA BASICO DE BOTANICA   \n",
       "\n",
       "                Grande Área      Área            Subárea  \\\n",
       "170521  Ciências Biológicas  Botânica  Botânica Aplicada   \n",
       "\n",
       "                 Instituição Destino Sigla Instituição Destino  \\\n",
       "170521  Departamento de Horticultura            UNESP/BOTUCATU   \n",
       "\n",
       "       Sigla Instituição Macro Cidade Destino Sigla UF Destino  Valor Pago  \n",
       "170521                   UNESP       Botucatu               SP      6300.0  "
      ]
     },
     "execution_count": 35,
     "metadata": {},
     "output_type": "execute_result"
    }
   ],
   "source": [
    "dataset[dataset['Ano Referência'] < 250]"
   ]
  },
  {
   "cell_type": "markdown",
   "id": "a3c01433",
   "metadata": {},
   "source": [
    "Como observado, foi um erro de preenchimento do campo e como há apenas um único registro remover não irá afetar a quantidade de registros da base de dados. Assim como não há esforço para corrigir, logo o registro será mantido para preservar a base de dados."
   ]
  },
  {
   "cell_type": "code",
   "execution_count": 36,
   "id": "bc6b4f1c",
   "metadata": {},
   "outputs": [],
   "source": [
    "dataset[dataset['Ano Referência'] == 206.0] = 2006.0"
   ]
  },
  {
   "cell_type": "code",
   "execution_count": 37,
   "id": "4359226e",
   "metadata": {},
   "outputs": [
    {
     "data": {
      "image/png": "[encoded data removed]",
      "text/plain": [
       "<Figure size 640x480 with 1 Axes>"
      ]
     },
     "metadata": {},
     "output_type": "display_data"
    }
   ],
   "source": [
    "dataset[['Ano Referência']].boxplot()\n",
    "\n",
    "plt.title('Boxplot de Ano Referência')\n",
    "plt.ylabel('Valores')\n",
    "plt.show()"
   ]
  },
  {
   "cell_type": "markdown",
   "id": "dfe8731f",
   "metadata": {},
   "source": [
    "Observando o *Valor Pago*."
   ]
  },
  {
   "cell_type": "code",
   "execution_count": 38,
   "id": "408023ec",
   "metadata": {},
   "outputs": [
    {
     "data": {
      "image/png": "[encoded data removed]",
      "text/plain": [
       "<Figure size 640x480 with 1 Axes>"
      ]
     },
     "metadata": {},
     "output_type": "display_data"
    }
   ],
   "source": [
    "dataset[['Valor Pago']].boxplot()\n",
    "\n",
    "plt.title('Boxplot de Valor Pago')\n",
    "plt.ylabel('Valores')\n",
    "plt.show()"
   ]
  },
  {
   "cell_type": "code",
   "execution_count": 59,
   "id": "1024274d",
   "metadata": {},
   "outputs": [
    {
     "data": {
      "image/png": "[encoded data removed]",
      "text/plain": [
       "<Figure size 640x480 with 1 Axes>"
      ]
     },
     "metadata": {},
     "output_type": "display_data"
    }
   ],
   "source": [
    "t = dataset.copy()\n",
    "t = t[t['Valor Pago'] >= 300.0]\n",
    "t = t[t['Valor Pago'] <= 14000.0]\n",
    "\n",
    "t[['Valor Pago']].boxplot()\n",
    "\n",
    "plt.title('Boxplot de Valor Pago')\n",
    "plt.ylabel('Valores')\n",
    "plt.show()"
   ]
  },
  {
   "cell_type": "code",
   "execution_count": 60,
   "id": "8d53bc6e",
   "metadata": {},
   "outputs": [
    {
     "data": {
      "image/png": "[encoded data removed]",
      "text/plain": [
       "<Figure size 640x480 with 1 Axes>"
      ]
     },
     "metadata": {},
     "output_type": "display_data"
    }
   ],
   "source": [
    "t = t[t['Valor Pago'] <= 7500.0]\n",
    "\n",
    "t[['Valor Pago']].boxplot()\n",
    "\n",
    "plt.title('Boxplot de Valor Pago')\n",
    "plt.ylabel('Valores')\n",
    "plt.show()"
   ]
  },
  {
   "cell_type": "code",
   "execution_count": 61,
   "id": "2c0e2c14",
   "metadata": {},
   "outputs": [
    {
     "name": "stdout",
     "output_type": "stream",
     "text": [
      "<class 'pandas.core.frame.DataFrame'>\n",
      "Index: 1263142 entries, 0 to 2072512\n",
      "Data columns (total 16 columns):\n",
      " #   Column                     Non-Null Count    Dtype  \n",
      "---  ------                     --------------    -----  \n",
      " 0   Ano Referência             1263142 non-null  float64\n",
      " 1   Processo                   1263142 non-null  object \n",
      " 2   Beneficiário               1263142 non-null  object \n",
      " 3   Linha de Fomento           1263142 non-null  object \n",
      " 4   Modalidade                 1263142 non-null  object \n",
      " 5   Nome Chamada               1263142 non-null  object \n",
      " 6   Programa CNPq              1263142 non-null  object \n",
      " 7   Grande Área                1263142 non-null  object \n",
      " 8   Área                       1263142 non-null  object \n",
      " 9   Subárea                    1263142 non-null  object \n",
      " 10  Instituição Destino        1263142 non-null  object \n",
      " 11  Sigla Instituição Destino  1263142 non-null  object \n",
      " 12  Sigla Instituição Macro    1263142 non-null  object \n",
      " 13  Cidade Destino             1263142 non-null  object \n",
      " 14  Sigla UF Destino           1263142 non-null  object \n",
      " 15  Valor Pago                 1263142 non-null  float64\n",
      "dtypes: float64(2), object(14)\n",
      "memory usage: 163.8+ MB\n"
     ]
    }
   ],
   "source": [
    "t.info()"
   ]
  }
 ],
 "metadata": {
  "kernelspec": {
   "display_name": "Python 3",
   "language": "python",
   "name": "python3"
  },
  "language_info": {
   "codemirror_mode": {
    "name": "ipython",
    "version": 3
   },
   "file_extension": ".py",
   "mimetype": "text/x-python",
   "name": "python",
   "nbconvert_exporter": "python",
   "pygments_lexer": "ipython3",
   "version": "3.13.0"
  }
 },
 "nbformat": 4,
 "nbformat_minor": 5
}
